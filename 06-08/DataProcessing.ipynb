{
 "cells": [
  {
   "cell_type": "code",
   "execution_count": 2,
   "metadata": {},
   "outputs": [],
   "source": [
    "import pandas as pd\n",
    "import numpy as np\n",
    "import matplotlib.pyplot as plt"
   ]
  },
  {
   "cell_type": "markdown",
   "metadata": {},
   "source": [
    "### 1-3 pandas 기초 익히기 \\'(^ㅁ^)/"
   ]
  },
  {
   "cell_type": "code",
   "execution_count": 42,
   "metadata": {},
   "outputs": [
    {
     "output_type": "execute_result",
     "data": {
      "text/plain": "0    1.0\n1    3.0\n2    5.0\n3    NaN\n4    6.0\n5    8.0\ndtype: float64"
     },
     "metadata": {},
     "execution_count": 42
    }
   ],
   "source": [
    "s=pd.Series([1,3,5,np.nan,6,8])\n",
    "s"
   ]
  },
  {
   "cell_type": "code",
   "execution_count": 88,
   "metadata": {},
   "outputs": [
    {
     "output_type": "execute_result",
     "data": {
      "text/plain": "DatetimeIndex(['2013-01-01', '2013-01-02', '2013-01-03', '2013-01-04',\n               '2013-01-05', '2013-01-06'],\n              dtype='datetime64[ns]', freq='D')"
     },
     "metadata": {},
     "execution_count": 88
    }
   ],
   "source": [
    "# 기본날짜를 지정하고 periods옵션으로 6일간이라고 지정\n",
    "dates=pd.date_range('20130101',periods=6)\n",
    "dates"
   ]
  },
  {
   "cell_type": "code",
   "execution_count": 46,
   "metadata": {},
   "outputs": [
    {
     "output_type": "execute_result",
     "data": {
      "text/plain": "                   A         B         C         D\n2013-01-01  2.034326  0.391132  1.682740 -0.686996\n2013-01-02  0.674211 -1.193833  1.133864 -2.939134\n2013-01-03  0.914461  0.102090 -0.729514 -0.258899",
      "text/html": "<div>\n<style scoped>\n    .dataframe tbody tr th:only-of-type {\n        vertical-align: middle;\n    }\n\n    .dataframe tbody tr th {\n        vertical-align: top;\n    }\n\n    .dataframe thead th {\n        text-align: right;\n    }\n</style>\n<table border=\"1\" class=\"dataframe\">\n  <thead>\n    <tr style=\"text-align: right;\">\n      <th></th>\n      <th>A</th>\n      <th>B</th>\n      <th>C</th>\n      <th>D</th>\n    </tr>\n  </thead>\n  <tbody>\n    <tr>\n      <th>2013-01-01</th>\n      <td>2.034326</td>\n      <td>0.391132</td>\n      <td>1.682740</td>\n      <td>-0.686996</td>\n    </tr>\n    <tr>\n      <th>2013-01-02</th>\n      <td>0.674211</td>\n      <td>-1.193833</td>\n      <td>1.133864</td>\n      <td>-2.939134</td>\n    </tr>\n    <tr>\n      <th>2013-01-03</th>\n      <td>0.914461</td>\n      <td>0.102090</td>\n      <td>-0.729514</td>\n      <td>-0.258899</td>\n    </tr>\n  </tbody>\n</table>\n</div>"
     },
     "metadata": {},
     "execution_count": 46
    }
   ],
   "source": [
    "df= pd.DataFrame(np.random.randn(6,4), index=dates, columns=['A','B','C','D'])\n",
    "df.head(3)"
   ]
  },
  {
   "cell_type": "code",
   "execution_count": 47,
   "metadata": {},
   "outputs": [
    {
     "output_type": "execute_result",
     "data": {
      "text/plain": "DatetimeIndex(['2013-01-01', '2013-01-02', '2013-01-03', '2013-01-04',\n               '2013-01-05', '2013-01-06'],\n              dtype='datetime64[ns]', freq='D')"
     },
     "metadata": {},
     "execution_count": 47
    }
   ],
   "source": [
    "df.index"
   ]
  },
  {
   "cell_type": "code",
   "execution_count": 48,
   "metadata": {},
   "outputs": [
    {
     "output_type": "execute_result",
     "data": {
      "text/plain": "Index(['A', 'B', 'C', 'D'], dtype='object')"
     },
     "metadata": {},
     "execution_count": 48
    }
   ],
   "source": [
    "df.columns"
   ]
  },
  {
   "cell_type": "code",
   "execution_count": 49,
   "metadata": {},
   "outputs": [
    {
     "output_type": "execute_result",
     "data": {
      "text/plain": "array([[ 2.03432576,  0.39113181,  1.68274039, -0.68699576],\n       [ 0.67421119, -1.19383258,  1.13386382, -2.93913351],\n       [ 0.9144613 ,  0.10209049, -0.72951441, -0.25889877],\n       [ 1.73731392, -0.65780738,  0.42525253,  0.75603298],\n       [-0.69227207,  0.55742342, -1.71514218,  0.04096363],\n       [-1.44184809, -0.39935726, -0.1674612 ,  1.78680832]])"
     },
     "metadata": {},
     "execution_count": 49
    }
   ],
   "source": [
    "df.values #데이터프레임 안의 내용 array반환"
   ]
  },
  {
   "cell_type": "code",
   "execution_count": 51,
   "metadata": {},
   "outputs": [
    {
     "output_type": "stream",
     "name": "stdout",
     "text": "<class 'pandas.core.frame.DataFrame'>\nDatetimeIndex: 6 entries, 2013-01-01 to 2013-01-06\nFreq: D\nData columns (total 4 columns):\n #   Column  Non-Null Count  Dtype  \n---  ------  --------------  -----  \n 0   A       6 non-null      float64\n 1   B       6 non-null      float64\n 2   C       6 non-null      float64\n 3   D       6 non-null      float64\ndtypes: float64(4)\nmemory usage: 400.0 bytes\n"
    }
   ],
   "source": [
    "df.info() # 데이터프레임 개요"
   ]
  },
  {
   "cell_type": "code",
   "execution_count": 53,
   "metadata": {},
   "outputs": [
    {
     "output_type": "execute_result",
     "data": {
      "text/plain": "              A         B         C         D\ncount  6.000000  6.000000  6.000000  6.000000\nmean   0.537699 -0.200059  0.104956 -0.216871\nstd    1.361689  0.671032  1.243700  1.591304\nmin   -1.441848 -1.193833 -1.715142 -2.939134\n25%   -0.350651 -0.593195 -0.589001 -0.579972\n50%    0.794336 -0.148633  0.128896 -0.108968\n75%    1.531601  0.318871  0.956711  0.577266\nmax    2.034326  0.557423  1.682740  1.786808",
      "text/html": "<div>\n<style scoped>\n    .dataframe tbody tr th:only-of-type {\n        vertical-align: middle;\n    }\n\n    .dataframe tbody tr th {\n        vertical-align: top;\n    }\n\n    .dataframe thead th {\n        text-align: right;\n    }\n</style>\n<table border=\"1\" class=\"dataframe\">\n  <thead>\n    <tr style=\"text-align: right;\">\n      <th></th>\n      <th>A</th>\n      <th>B</th>\n      <th>C</th>\n      <th>D</th>\n    </tr>\n  </thead>\n  <tbody>\n    <tr>\n      <th>count</th>\n      <td>6.000000</td>\n      <td>6.000000</td>\n      <td>6.000000</td>\n      <td>6.000000</td>\n    </tr>\n    <tr>\n      <th>mean</th>\n      <td>0.537699</td>\n      <td>-0.200059</td>\n      <td>0.104956</td>\n      <td>-0.216871</td>\n    </tr>\n    <tr>\n      <th>std</th>\n      <td>1.361689</td>\n      <td>0.671032</td>\n      <td>1.243700</td>\n      <td>1.591304</td>\n    </tr>\n    <tr>\n      <th>min</th>\n      <td>-1.441848</td>\n      <td>-1.193833</td>\n      <td>-1.715142</td>\n      <td>-2.939134</td>\n    </tr>\n    <tr>\n      <th>25%</th>\n      <td>-0.350651</td>\n      <td>-0.593195</td>\n      <td>-0.589001</td>\n      <td>-0.579972</td>\n    </tr>\n    <tr>\n      <th>50%</th>\n      <td>0.794336</td>\n      <td>-0.148633</td>\n      <td>0.128896</td>\n      <td>-0.108968</td>\n    </tr>\n    <tr>\n      <th>75%</th>\n      <td>1.531601</td>\n      <td>0.318871</td>\n      <td>0.956711</td>\n      <td>0.577266</td>\n    </tr>\n    <tr>\n      <th>max</th>\n      <td>2.034326</td>\n      <td>0.557423</td>\n      <td>1.682740</td>\n      <td>1.786808</td>\n    </tr>\n  </tbody>\n</table>\n</div>"
     },
     "metadata": {},
     "execution_count": 53
    }
   ],
   "source": [
    "df.describe()"
   ]
  },
  {
   "cell_type": "code",
   "execution_count": 89,
   "metadata": {},
   "outputs": [
    {
     "output_type": "execute_result",
     "data": {
      "text/plain": "                   A         B         C         D\n2013-01-05 -0.692272  0.557423 -1.715142  0.040964\n2013-01-01  2.034326  0.391132  1.682740 -0.686996\n2013-01-03  0.914461  0.102090 -0.729514 -0.258899\n2013-01-06 -1.441848 -0.399357 -0.167461  1.786808\n2013-01-04  1.737314 -0.657807  0.425253  0.756033\n2013-01-02  0.674211 -1.193833  1.133864 -2.939134",
      "text/html": "<div>\n<style scoped>\n    .dataframe tbody tr th:only-of-type {\n        vertical-align: middle;\n    }\n\n    .dataframe tbody tr th {\n        vertical-align: top;\n    }\n\n    .dataframe thead th {\n        text-align: right;\n    }\n</style>\n<table border=\"1\" class=\"dataframe\">\n  <thead>\n    <tr style=\"text-align: right;\">\n      <th></th>\n      <th>A</th>\n      <th>B</th>\n      <th>C</th>\n      <th>D</th>\n    </tr>\n  </thead>\n  <tbody>\n    <tr>\n      <th>2013-01-05</th>\n      <td>-0.692272</td>\n      <td>0.557423</td>\n      <td>-1.715142</td>\n      <td>0.040964</td>\n    </tr>\n    <tr>\n      <th>2013-01-01</th>\n      <td>2.034326</td>\n      <td>0.391132</td>\n      <td>1.682740</td>\n      <td>-0.686996</td>\n    </tr>\n    <tr>\n      <th>2013-01-03</th>\n      <td>0.914461</td>\n      <td>0.102090</td>\n      <td>-0.729514</td>\n      <td>-0.258899</td>\n    </tr>\n    <tr>\n      <th>2013-01-06</th>\n      <td>-1.441848</td>\n      <td>-0.399357</td>\n      <td>-0.167461</td>\n      <td>1.786808</td>\n    </tr>\n    <tr>\n      <th>2013-01-04</th>\n      <td>1.737314</td>\n      <td>-0.657807</td>\n      <td>0.425253</td>\n      <td>0.756033</td>\n    </tr>\n    <tr>\n      <th>2013-01-02</th>\n      <td>0.674211</td>\n      <td>-1.193833</td>\n      <td>1.133864</td>\n      <td>-2.939134</td>\n    </tr>\n  </tbody>\n</table>\n</div>"
     },
     "metadata": {},
     "execution_count": 89
    }
   ],
   "source": [
    "df.sort_values(by='B',ascending=False)\n",
    "# by로 지정된 컬럼을 기준으로 정렬, ascending옵션을 사용하면 내림차순이나 오름차순으로 정렬"
   ]
  },
  {
   "cell_type": "code",
   "execution_count": 57,
   "metadata": {},
   "outputs": [
    {
     "output_type": "execute_result",
     "data": {
      "text/plain": "                   A         B         C         D\n2013-01-01  2.034326  0.391132  1.682740 -0.686996\n2013-01-02  0.674211 -1.193833  1.133864 -2.939134\n2013-01-03  0.914461  0.102090 -0.729514 -0.258899\n2013-01-04  1.737314 -0.657807  0.425253  0.756033\n2013-01-05 -0.692272  0.557423 -1.715142  0.040964\n2013-01-06 -1.441848 -0.399357 -0.167461  1.786808",
      "text/html": "<div>\n<style scoped>\n    .dataframe tbody tr th:only-of-type {\n        vertical-align: middle;\n    }\n\n    .dataframe tbody tr th {\n        vertical-align: top;\n    }\n\n    .dataframe thead th {\n        text-align: right;\n    }\n</style>\n<table border=\"1\" class=\"dataframe\">\n  <thead>\n    <tr style=\"text-align: right;\">\n      <th></th>\n      <th>A</th>\n      <th>B</th>\n      <th>C</th>\n      <th>D</th>\n    </tr>\n  </thead>\n  <tbody>\n    <tr>\n      <th>2013-01-01</th>\n      <td>2.034326</td>\n      <td>0.391132</td>\n      <td>1.682740</td>\n      <td>-0.686996</td>\n    </tr>\n    <tr>\n      <th>2013-01-02</th>\n      <td>0.674211</td>\n      <td>-1.193833</td>\n      <td>1.133864</td>\n      <td>-2.939134</td>\n    </tr>\n    <tr>\n      <th>2013-01-03</th>\n      <td>0.914461</td>\n      <td>0.102090</td>\n      <td>-0.729514</td>\n      <td>-0.258899</td>\n    </tr>\n    <tr>\n      <th>2013-01-04</th>\n      <td>1.737314</td>\n      <td>-0.657807</td>\n      <td>0.425253</td>\n      <td>0.756033</td>\n    </tr>\n    <tr>\n      <th>2013-01-05</th>\n      <td>-0.692272</td>\n      <td>0.557423</td>\n      <td>-1.715142</td>\n      <td>0.040964</td>\n    </tr>\n    <tr>\n      <th>2013-01-06</th>\n      <td>-1.441848</td>\n      <td>-0.399357</td>\n      <td>-0.167461</td>\n      <td>1.786808</td>\n    </tr>\n  </tbody>\n</table>\n</div>"
     },
     "metadata": {},
     "execution_count": 57
    }
   ],
   "source": [
    "df"
   ]
  },
  {
   "cell_type": "code",
   "execution_count": 58,
   "metadata": {},
   "outputs": [
    {
     "output_type": "execute_result",
     "data": {
      "text/plain": "2013-01-01    2.034326\n2013-01-02    0.674211\n2013-01-03    0.914461\n2013-01-04    1.737314\n2013-01-05   -0.692272\n2013-01-06   -1.441848\nFreq: D, Name: A, dtype: float64"
     },
     "metadata": {},
     "execution_count": 58
    }
   ],
   "source": [
    "df['A']"
   ]
  },
  {
   "cell_type": "code",
   "execution_count": 59,
   "metadata": {},
   "outputs": [
    {
     "output_type": "execute_result",
     "data": {
      "text/plain": "                   A         B         C         D\n2013-01-01  2.034326  0.391132  1.682740 -0.686996\n2013-01-02  0.674211 -1.193833  1.133864 -2.939134\n2013-01-03  0.914461  0.102090 -0.729514 -0.258899",
      "text/html": "<div>\n<style scoped>\n    .dataframe tbody tr th:only-of-type {\n        vertical-align: middle;\n    }\n\n    .dataframe tbody tr th {\n        vertical-align: top;\n    }\n\n    .dataframe thead th {\n        text-align: right;\n    }\n</style>\n<table border=\"1\" class=\"dataframe\">\n  <thead>\n    <tr style=\"text-align: right;\">\n      <th></th>\n      <th>A</th>\n      <th>B</th>\n      <th>C</th>\n      <th>D</th>\n    </tr>\n  </thead>\n  <tbody>\n    <tr>\n      <th>2013-01-01</th>\n      <td>2.034326</td>\n      <td>0.391132</td>\n      <td>1.682740</td>\n      <td>-0.686996</td>\n    </tr>\n    <tr>\n      <th>2013-01-02</th>\n      <td>0.674211</td>\n      <td>-1.193833</td>\n      <td>1.133864</td>\n      <td>-2.939134</td>\n    </tr>\n    <tr>\n      <th>2013-01-03</th>\n      <td>0.914461</td>\n      <td>0.102090</td>\n      <td>-0.729514</td>\n      <td>-0.258899</td>\n    </tr>\n  </tbody>\n</table>\n</div>"
     },
     "metadata": {},
     "execution_count": 59
    }
   ],
   "source": [
    "df[0:3]"
   ]
  },
  {
   "cell_type": "code",
   "execution_count": 60,
   "metadata": {},
   "outputs": [
    {
     "output_type": "execute_result",
     "data": {
      "text/plain": "                   A         B         C         D\n2013-01-02  0.674211 -1.193833  1.133864 -2.939134\n2013-01-03  0.914461  0.102090 -0.729514 -0.258899\n2013-01-04  1.737314 -0.657807  0.425253  0.756033",
      "text/html": "<div>\n<style scoped>\n    .dataframe tbody tr th:only-of-type {\n        vertical-align: middle;\n    }\n\n    .dataframe tbody tr th {\n        vertical-align: top;\n    }\n\n    .dataframe thead th {\n        text-align: right;\n    }\n</style>\n<table border=\"1\" class=\"dataframe\">\n  <thead>\n    <tr style=\"text-align: right;\">\n      <th></th>\n      <th>A</th>\n      <th>B</th>\n      <th>C</th>\n      <th>D</th>\n    </tr>\n  </thead>\n  <tbody>\n    <tr>\n      <th>2013-01-02</th>\n      <td>0.674211</td>\n      <td>-1.193833</td>\n      <td>1.133864</td>\n      <td>-2.939134</td>\n    </tr>\n    <tr>\n      <th>2013-01-03</th>\n      <td>0.914461</td>\n      <td>0.102090</td>\n      <td>-0.729514</td>\n      <td>-0.258899</td>\n    </tr>\n    <tr>\n      <th>2013-01-04</th>\n      <td>1.737314</td>\n      <td>-0.657807</td>\n      <td>0.425253</td>\n      <td>0.756033</td>\n    </tr>\n  </tbody>\n</table>\n</div>"
     },
     "metadata": {},
     "execution_count": 60
    }
   ],
   "source": [
    "df['20130102':'20130104'] # 해당하는 일자의 행 출력 'YYYYMMDD'"
   ]
  },
  {
   "cell_type": "code",
   "execution_count": 61,
   "metadata": {},
   "outputs": [
    {
     "output_type": "execute_result",
     "data": {
      "text/plain": "A    2.034326\nB    0.391132\nC    1.682740\nD   -0.686996\nName: 2013-01-01 00:00:00, dtype: float64"
     },
     "metadata": {},
     "execution_count": 61
    }
   ],
   "source": [
    "df.loc[dates[0]]"
   ]
  },
  {
   "cell_type": "code",
   "execution_count": 62,
   "metadata": {},
   "outputs": [
    {
     "output_type": "execute_result",
     "data": {
      "text/plain": "                   A         B\n2013-01-01  2.034326  0.391132\n2013-01-02  0.674211 -1.193833\n2013-01-03  0.914461  0.102090\n2013-01-04  1.737314 -0.657807\n2013-01-05 -0.692272  0.557423\n2013-01-06 -1.441848 -0.399357",
      "text/html": "<div>\n<style scoped>\n    .dataframe tbody tr th:only-of-type {\n        vertical-align: middle;\n    }\n\n    .dataframe tbody tr th {\n        vertical-align: top;\n    }\n\n    .dataframe thead th {\n        text-align: right;\n    }\n</style>\n<table border=\"1\" class=\"dataframe\">\n  <thead>\n    <tr style=\"text-align: right;\">\n      <th></th>\n      <th>A</th>\n      <th>B</th>\n    </tr>\n  </thead>\n  <tbody>\n    <tr>\n      <th>2013-01-01</th>\n      <td>2.034326</td>\n      <td>0.391132</td>\n    </tr>\n    <tr>\n      <th>2013-01-02</th>\n      <td>0.674211</td>\n      <td>-1.193833</td>\n    </tr>\n    <tr>\n      <th>2013-01-03</th>\n      <td>0.914461</td>\n      <td>0.102090</td>\n    </tr>\n    <tr>\n      <th>2013-01-04</th>\n      <td>1.737314</td>\n      <td>-0.657807</td>\n    </tr>\n    <tr>\n      <th>2013-01-05</th>\n      <td>-0.692272</td>\n      <td>0.557423</td>\n    </tr>\n    <tr>\n      <th>2013-01-06</th>\n      <td>-1.441848</td>\n      <td>-0.399357</td>\n    </tr>\n  </tbody>\n</table>\n</div>"
     },
     "metadata": {},
     "execution_count": 62
    }
   ],
   "source": [
    "df.loc[:,['A','B']] #'A','B'열의 모든 행"
   ]
  },
  {
   "cell_type": "code",
   "execution_count": 63,
   "metadata": {},
   "outputs": [
    {
     "output_type": "execute_result",
     "data": {
      "text/plain": "                   A         B\n2013-01-02  0.674211 -1.193833\n2013-01-03  0.914461  0.102090\n2013-01-04  1.737314 -0.657807",
      "text/html": "<div>\n<style scoped>\n    .dataframe tbody tr th:only-of-type {\n        vertical-align: middle;\n    }\n\n    .dataframe tbody tr th {\n        vertical-align: top;\n    }\n\n    .dataframe thead th {\n        text-align: right;\n    }\n</style>\n<table border=\"1\" class=\"dataframe\">\n  <thead>\n    <tr style=\"text-align: right;\">\n      <th></th>\n      <th>A</th>\n      <th>B</th>\n    </tr>\n  </thead>\n  <tbody>\n    <tr>\n      <th>2013-01-02</th>\n      <td>0.674211</td>\n      <td>-1.193833</td>\n    </tr>\n    <tr>\n      <th>2013-01-03</th>\n      <td>0.914461</td>\n      <td>0.102090</td>\n    </tr>\n    <tr>\n      <th>2013-01-04</th>\n      <td>1.737314</td>\n      <td>-0.657807</td>\n    </tr>\n  </tbody>\n</table>\n</div>"
     },
     "metadata": {},
     "execution_count": 63
    }
   ],
   "source": [
    "df.loc['20130102':'20130104',['A','B']]"
   ]
  },
  {
   "cell_type": "code",
   "execution_count": 64,
   "metadata": {},
   "outputs": [
    {
     "output_type": "execute_result",
     "data": {
      "text/plain": "A    0.674211\nB   -1.193833\nName: 2013-01-02 00:00:00, dtype: float64"
     },
     "metadata": {},
     "execution_count": 64
    }
   ],
   "source": [
    "df.loc['20130102',['A','B']]"
   ]
  },
  {
   "cell_type": "code",
   "execution_count": 65,
   "metadata": {},
   "outputs": [
    {
     "output_type": "execute_result",
     "data": {
      "text/plain": "2.034325758541224"
     },
     "metadata": {},
     "execution_count": 65
    }
   ],
   "source": [
    "df.loc[dates[0],'A']"
   ]
  },
  {
   "cell_type": "code",
   "execution_count": 66,
   "metadata": {},
   "outputs": [
    {
     "output_type": "execute_result",
     "data": {
      "text/plain": "A    1.737314\nB   -0.657807\nC    0.425253\nD    0.756033\nName: 2013-01-04 00:00:00, dtype: float64"
     },
     "metadata": {},
     "execution_count": 66
    }
   ],
   "source": [
    "df.iloc[3]"
   ]
  },
  {
   "cell_type": "code",
   "execution_count": 67,
   "metadata": {},
   "outputs": [
    {
     "output_type": "execute_result",
     "data": {
      "text/plain": "                   A         B\n2013-01-04  1.737314 -0.657807\n2013-01-05 -0.692272  0.557423",
      "text/html": "<div>\n<style scoped>\n    .dataframe tbody tr th:only-of-type {\n        vertical-align: middle;\n    }\n\n    .dataframe tbody tr th {\n        vertical-align: top;\n    }\n\n    .dataframe thead th {\n        text-align: right;\n    }\n</style>\n<table border=\"1\" class=\"dataframe\">\n  <thead>\n    <tr style=\"text-align: right;\">\n      <th></th>\n      <th>A</th>\n      <th>B</th>\n    </tr>\n  </thead>\n  <tbody>\n    <tr>\n      <th>2013-01-04</th>\n      <td>1.737314</td>\n      <td>-0.657807</td>\n    </tr>\n    <tr>\n      <th>2013-01-05</th>\n      <td>-0.692272</td>\n      <td>0.557423</td>\n    </tr>\n  </tbody>\n</table>\n</div>"
     },
     "metadata": {},
     "execution_count": 67
    }
   ],
   "source": [
    "df.iloc[3:5, 0:2]"
   ]
  },
  {
   "cell_type": "code",
   "execution_count": 68,
   "metadata": {},
   "outputs": [
    {
     "output_type": "execute_result",
     "data": {
      "text/plain": "                   A         C\n2013-01-02  0.674211  1.133864\n2013-01-03  0.914461 -0.729514\n2013-01-05 -0.692272 -1.715142",
      "text/html": "<div>\n<style scoped>\n    .dataframe tbody tr th:only-of-type {\n        vertical-align: middle;\n    }\n\n    .dataframe tbody tr th {\n        vertical-align: top;\n    }\n\n    .dataframe thead th {\n        text-align: right;\n    }\n</style>\n<table border=\"1\" class=\"dataframe\">\n  <thead>\n    <tr style=\"text-align: right;\">\n      <th></th>\n      <th>A</th>\n      <th>C</th>\n    </tr>\n  </thead>\n  <tbody>\n    <tr>\n      <th>2013-01-02</th>\n      <td>0.674211</td>\n      <td>1.133864</td>\n    </tr>\n    <tr>\n      <th>2013-01-03</th>\n      <td>0.914461</td>\n      <td>-0.729514</td>\n    </tr>\n    <tr>\n      <th>2013-01-05</th>\n      <td>-0.692272</td>\n      <td>-1.715142</td>\n    </tr>\n  </tbody>\n</table>\n</div>"
     },
     "metadata": {},
     "execution_count": 68
    }
   ],
   "source": [
    "df.iloc[[1,2,4],[0,2]]"
   ]
  },
  {
   "cell_type": "code",
   "execution_count": 69,
   "metadata": {},
   "outputs": [
    {
     "output_type": "execute_result",
     "data": {
      "text/plain": "                   A         B         C         D\n2013-01-02  0.674211 -1.193833  1.133864 -2.939134\n2013-01-03  0.914461  0.102090 -0.729514 -0.258899",
      "text/html": "<div>\n<style scoped>\n    .dataframe tbody tr th:only-of-type {\n        vertical-align: middle;\n    }\n\n    .dataframe tbody tr th {\n        vertical-align: top;\n    }\n\n    .dataframe thead th {\n        text-align: right;\n    }\n</style>\n<table border=\"1\" class=\"dataframe\">\n  <thead>\n    <tr style=\"text-align: right;\">\n      <th></th>\n      <th>A</th>\n      <th>B</th>\n      <th>C</th>\n      <th>D</th>\n    </tr>\n  </thead>\n  <tbody>\n    <tr>\n      <th>2013-01-02</th>\n      <td>0.674211</td>\n      <td>-1.193833</td>\n      <td>1.133864</td>\n      <td>-2.939134</td>\n    </tr>\n    <tr>\n      <th>2013-01-03</th>\n      <td>0.914461</td>\n      <td>0.102090</td>\n      <td>-0.729514</td>\n      <td>-0.258899</td>\n    </tr>\n  </tbody>\n</table>\n</div>"
     },
     "metadata": {},
     "execution_count": 69
    }
   ],
   "source": [
    "df.iloc[1:3, :]"
   ]
  },
  {
   "cell_type": "code",
   "execution_count": 70,
   "metadata": {},
   "outputs": [
    {
     "output_type": "execute_result",
     "data": {
      "text/plain": "                   B         C\n2013-01-01  0.391132  1.682740\n2013-01-02 -1.193833  1.133864\n2013-01-03  0.102090 -0.729514\n2013-01-04 -0.657807  0.425253\n2013-01-05  0.557423 -1.715142\n2013-01-06 -0.399357 -0.167461",
      "text/html": "<div>\n<style scoped>\n    .dataframe tbody tr th:only-of-type {\n        vertical-align: middle;\n    }\n\n    .dataframe tbody tr th {\n        vertical-align: top;\n    }\n\n    .dataframe thead th {\n        text-align: right;\n    }\n</style>\n<table border=\"1\" class=\"dataframe\">\n  <thead>\n    <tr style=\"text-align: right;\">\n      <th></th>\n      <th>B</th>\n      <th>C</th>\n    </tr>\n  </thead>\n  <tbody>\n    <tr>\n      <th>2013-01-01</th>\n      <td>0.391132</td>\n      <td>1.682740</td>\n    </tr>\n    <tr>\n      <th>2013-01-02</th>\n      <td>-1.193833</td>\n      <td>1.133864</td>\n    </tr>\n    <tr>\n      <th>2013-01-03</th>\n      <td>0.102090</td>\n      <td>-0.729514</td>\n    </tr>\n    <tr>\n      <th>2013-01-04</th>\n      <td>-0.657807</td>\n      <td>0.425253</td>\n    </tr>\n    <tr>\n      <th>2013-01-05</th>\n      <td>0.557423</td>\n      <td>-1.715142</td>\n    </tr>\n    <tr>\n      <th>2013-01-06</th>\n      <td>-0.399357</td>\n      <td>-0.167461</td>\n    </tr>\n  </tbody>\n</table>\n</div>"
     },
     "metadata": {},
     "execution_count": 70
    }
   ],
   "source": [
    "df.iloc[:,1:3]"
   ]
  },
  {
   "cell_type": "code",
   "execution_count": 72,
   "metadata": {},
   "outputs": [
    {
     "output_type": "execute_result",
     "data": {
      "text/plain": "                   A         B         C         D\n2013-01-01  2.034326  0.391132  1.682740 -0.686996\n2013-01-02  0.674211 -1.193833  1.133864 -2.939134\n2013-01-03  0.914461  0.102090 -0.729514 -0.258899\n2013-01-04  1.737314 -0.657807  0.425253  0.756033\n2013-01-05 -0.692272  0.557423 -1.715142  0.040964\n2013-01-06 -1.441848 -0.399357 -0.167461  1.786808",
      "text/html": "<div>\n<style scoped>\n    .dataframe tbody tr th:only-of-type {\n        vertical-align: middle;\n    }\n\n    .dataframe tbody tr th {\n        vertical-align: top;\n    }\n\n    .dataframe thead th {\n        text-align: right;\n    }\n</style>\n<table border=\"1\" class=\"dataframe\">\n  <thead>\n    <tr style=\"text-align: right;\">\n      <th></th>\n      <th>A</th>\n      <th>B</th>\n      <th>C</th>\n      <th>D</th>\n    </tr>\n  </thead>\n  <tbody>\n    <tr>\n      <th>2013-01-01</th>\n      <td>2.034326</td>\n      <td>0.391132</td>\n      <td>1.682740</td>\n      <td>-0.686996</td>\n    </tr>\n    <tr>\n      <th>2013-01-02</th>\n      <td>0.674211</td>\n      <td>-1.193833</td>\n      <td>1.133864</td>\n      <td>-2.939134</td>\n    </tr>\n    <tr>\n      <th>2013-01-03</th>\n      <td>0.914461</td>\n      <td>0.102090</td>\n      <td>-0.729514</td>\n      <td>-0.258899</td>\n    </tr>\n    <tr>\n      <th>2013-01-04</th>\n      <td>1.737314</td>\n      <td>-0.657807</td>\n      <td>0.425253</td>\n      <td>0.756033</td>\n    </tr>\n    <tr>\n      <th>2013-01-05</th>\n      <td>-0.692272</td>\n      <td>0.557423</td>\n      <td>-1.715142</td>\n      <td>0.040964</td>\n    </tr>\n    <tr>\n      <th>2013-01-06</th>\n      <td>-1.441848</td>\n      <td>-0.399357</td>\n      <td>-0.167461</td>\n      <td>1.786808</td>\n    </tr>\n  </tbody>\n</table>\n</div>"
     },
     "metadata": {},
     "execution_count": 72
    }
   ],
   "source": [
    "df"
   ]
  },
  {
   "cell_type": "code",
   "execution_count": 73,
   "metadata": {},
   "outputs": [
    {
     "output_type": "execute_result",
     "data": {
      "text/plain": "                   A         B         C         D\n2013-01-01  2.034326  0.391132  1.682740 -0.686996\n2013-01-02  0.674211 -1.193833  1.133864 -2.939134\n2013-01-03  0.914461  0.102090 -0.729514 -0.258899\n2013-01-04  1.737314 -0.657807  0.425253  0.756033",
      "text/html": "<div>\n<style scoped>\n    .dataframe tbody tr th:only-of-type {\n        vertical-align: middle;\n    }\n\n    .dataframe tbody tr th {\n        vertical-align: top;\n    }\n\n    .dataframe thead th {\n        text-align: right;\n    }\n</style>\n<table border=\"1\" class=\"dataframe\">\n  <thead>\n    <tr style=\"text-align: right;\">\n      <th></th>\n      <th>A</th>\n      <th>B</th>\n      <th>C</th>\n      <th>D</th>\n    </tr>\n  </thead>\n  <tbody>\n    <tr>\n      <th>2013-01-01</th>\n      <td>2.034326</td>\n      <td>0.391132</td>\n      <td>1.682740</td>\n      <td>-0.686996</td>\n    </tr>\n    <tr>\n      <th>2013-01-02</th>\n      <td>0.674211</td>\n      <td>-1.193833</td>\n      <td>1.133864</td>\n      <td>-2.939134</td>\n    </tr>\n    <tr>\n      <th>2013-01-03</th>\n      <td>0.914461</td>\n      <td>0.102090</td>\n      <td>-0.729514</td>\n      <td>-0.258899</td>\n    </tr>\n    <tr>\n      <th>2013-01-04</th>\n      <td>1.737314</td>\n      <td>-0.657807</td>\n      <td>0.425253</td>\n      <td>0.756033</td>\n    </tr>\n  </tbody>\n</table>\n</div>"
     },
     "metadata": {},
     "execution_count": 73
    }
   ],
   "source": [
    "df[df['A']>0] # 특정조건을 만족하는 데이터"
   ]
  },
  {
   "cell_type": "code",
   "execution_count": 74,
   "metadata": {},
   "outputs": [
    {
     "output_type": "execute_result",
     "data": {
      "text/plain": "                   A         B         C         D\n2013-01-01  2.034326  0.391132  1.682740       NaN\n2013-01-02  0.674211       NaN  1.133864       NaN\n2013-01-03  0.914461  0.102090       NaN       NaN\n2013-01-04  1.737314       NaN  0.425253  0.756033\n2013-01-05       NaN  0.557423       NaN  0.040964\n2013-01-06       NaN       NaN       NaN  1.786808",
      "text/html": "<div>\n<style scoped>\n    .dataframe tbody tr th:only-of-type {\n        vertical-align: middle;\n    }\n\n    .dataframe tbody tr th {\n        vertical-align: top;\n    }\n\n    .dataframe thead th {\n        text-align: right;\n    }\n</style>\n<table border=\"1\" class=\"dataframe\">\n  <thead>\n    <tr style=\"text-align: right;\">\n      <th></th>\n      <th>A</th>\n      <th>B</th>\n      <th>C</th>\n      <th>D</th>\n    </tr>\n  </thead>\n  <tbody>\n    <tr>\n      <th>2013-01-01</th>\n      <td>2.034326</td>\n      <td>0.391132</td>\n      <td>1.682740</td>\n      <td>NaN</td>\n    </tr>\n    <tr>\n      <th>2013-01-02</th>\n      <td>0.674211</td>\n      <td>NaN</td>\n      <td>1.133864</td>\n      <td>NaN</td>\n    </tr>\n    <tr>\n      <th>2013-01-03</th>\n      <td>0.914461</td>\n      <td>0.102090</td>\n      <td>NaN</td>\n      <td>NaN</td>\n    </tr>\n    <tr>\n      <th>2013-01-04</th>\n      <td>1.737314</td>\n      <td>NaN</td>\n      <td>0.425253</td>\n      <td>0.756033</td>\n    </tr>\n    <tr>\n      <th>2013-01-05</th>\n      <td>NaN</td>\n      <td>0.557423</td>\n      <td>NaN</td>\n      <td>0.040964</td>\n    </tr>\n    <tr>\n      <th>2013-01-06</th>\n      <td>NaN</td>\n      <td>NaN</td>\n      <td>NaN</td>\n      <td>1.786808</td>\n    </tr>\n  </tbody>\n</table>\n</div>"
     },
     "metadata": {},
     "execution_count": 74
    }
   ],
   "source": [
    "df[df>0]"
   ]
  },
  {
   "cell_type": "code",
   "execution_count": 78,
   "metadata": {},
   "outputs": [
    {
     "output_type": "execute_result",
     "data": {
      "text/plain": "                   A         B         C         D      E\n2013-01-01  2.034326  0.391132  1.682740 -0.686996    one\n2013-01-02  0.674211 -1.193833  1.133864 -2.939134    one\n2013-01-03  0.914461  0.102090 -0.729514 -0.258899    two\n2013-01-04  1.737314 -0.657807  0.425253  0.756033  three\n2013-01-05 -0.692272  0.557423 -1.715142  0.040964   four\n2013-01-06 -1.441848 -0.399357 -0.167461  1.786808  three",
      "text/html": "<div>\n<style scoped>\n    .dataframe tbody tr th:only-of-type {\n        vertical-align: middle;\n    }\n\n    .dataframe tbody tr th {\n        vertical-align: top;\n    }\n\n    .dataframe thead th {\n        text-align: right;\n    }\n</style>\n<table border=\"1\" class=\"dataframe\">\n  <thead>\n    <tr style=\"text-align: right;\">\n      <th></th>\n      <th>A</th>\n      <th>B</th>\n      <th>C</th>\n      <th>D</th>\n      <th>E</th>\n    </tr>\n  </thead>\n  <tbody>\n    <tr>\n      <th>2013-01-01</th>\n      <td>2.034326</td>\n      <td>0.391132</td>\n      <td>1.682740</td>\n      <td>-0.686996</td>\n      <td>one</td>\n    </tr>\n    <tr>\n      <th>2013-01-02</th>\n      <td>0.674211</td>\n      <td>-1.193833</td>\n      <td>1.133864</td>\n      <td>-2.939134</td>\n      <td>one</td>\n    </tr>\n    <tr>\n      <th>2013-01-03</th>\n      <td>0.914461</td>\n      <td>0.102090</td>\n      <td>-0.729514</td>\n      <td>-0.258899</td>\n      <td>two</td>\n    </tr>\n    <tr>\n      <th>2013-01-04</th>\n      <td>1.737314</td>\n      <td>-0.657807</td>\n      <td>0.425253</td>\n      <td>0.756033</td>\n      <td>three</td>\n    </tr>\n    <tr>\n      <th>2013-01-05</th>\n      <td>-0.692272</td>\n      <td>0.557423</td>\n      <td>-1.715142</td>\n      <td>0.040964</td>\n      <td>four</td>\n    </tr>\n    <tr>\n      <th>2013-01-06</th>\n      <td>-1.441848</td>\n      <td>-0.399357</td>\n      <td>-0.167461</td>\n      <td>1.786808</td>\n      <td>three</td>\n    </tr>\n  </tbody>\n</table>\n</div>"
     },
     "metadata": {},
     "execution_count": 78
    }
   ],
   "source": [
    "df2 = df.copy() #데이터 위치만 복사 (원본데이터는 하나)\n",
    "df2['E']=['one','one','two','three','four','three']\n",
    "df2"
   ]
  },
  {
   "cell_type": "code",
   "execution_count": 86,
   "metadata": {},
   "outputs": [
    {
     "output_type": "execute_result",
     "data": {
      "text/plain": "2013-01-01    False\n2013-01-02    False\n2013-01-03     True\n2013-01-04    False\n2013-01-05     True\n2013-01-06    False\nFreq: D, Name: E, dtype: bool"
     },
     "metadata": {},
     "execution_count": 86
    }
   ],
   "source": [
    "df2['E'].isin(['two','four']) # 컬럼 내에서 조건을 걸고싶을 때 .isin()"
   ]
  },
  {
   "cell_type": "code",
   "execution_count": 87,
   "metadata": {},
   "outputs": [
    {
     "output_type": "execute_result",
     "data": {
      "text/plain": "                   A         B         C         D     E\n2013-01-03  0.914461  0.102090 -0.729514 -0.258899   two\n2013-01-05 -0.692272  0.557423 -1.715142  0.040964  four",
      "text/html": "<div>\n<style scoped>\n    .dataframe tbody tr th:only-of-type {\n        vertical-align: middle;\n    }\n\n    .dataframe tbody tr th {\n        vertical-align: top;\n    }\n\n    .dataframe thead th {\n        text-align: right;\n    }\n</style>\n<table border=\"1\" class=\"dataframe\">\n  <thead>\n    <tr style=\"text-align: right;\">\n      <th></th>\n      <th>A</th>\n      <th>B</th>\n      <th>C</th>\n      <th>D</th>\n      <th>E</th>\n    </tr>\n  </thead>\n  <tbody>\n    <tr>\n      <th>2013-01-03</th>\n      <td>0.914461</td>\n      <td>0.102090</td>\n      <td>-0.729514</td>\n      <td>-0.258899</td>\n      <td>two</td>\n    </tr>\n    <tr>\n      <th>2013-01-05</th>\n      <td>-0.692272</td>\n      <td>0.557423</td>\n      <td>-1.715142</td>\n      <td>0.040964</td>\n      <td>four</td>\n    </tr>\n  </tbody>\n</table>\n</div>"
     },
     "metadata": {},
     "execution_count": 87
    }
   ],
   "source": [
    "df2[df2['E'].isin(['two','four'])]"
   ]
  },
  {
   "cell_type": "code",
   "execution_count": 90,
   "metadata": {},
   "outputs": [
    {
     "output_type": "execute_result",
     "data": {
      "text/plain": "                   A         B         C         D\n2013-01-01  2.034326  0.391132  1.682740 -0.686996\n2013-01-02  2.708537 -0.802701  2.816604 -3.626129\n2013-01-03  3.622998 -0.700610  2.087090 -3.885028\n2013-01-04  5.360312 -1.358418  2.512342 -3.128995\n2013-01-05  4.668040 -0.800994  0.797200 -3.088031\n2013-01-06  3.226192 -1.200352  0.629739 -1.301223",
      "text/html": "<div>\n<style scoped>\n    .dataframe tbody tr th:only-of-type {\n        vertical-align: middle;\n    }\n\n    .dataframe tbody tr th {\n        vertical-align: top;\n    }\n\n    .dataframe thead th {\n        text-align: right;\n    }\n</style>\n<table border=\"1\" class=\"dataframe\">\n  <thead>\n    <tr style=\"text-align: right;\">\n      <th></th>\n      <th>A</th>\n      <th>B</th>\n      <th>C</th>\n      <th>D</th>\n    </tr>\n  </thead>\n  <tbody>\n    <tr>\n      <th>2013-01-01</th>\n      <td>2.034326</td>\n      <td>0.391132</td>\n      <td>1.682740</td>\n      <td>-0.686996</td>\n    </tr>\n    <tr>\n      <th>2013-01-02</th>\n      <td>2.708537</td>\n      <td>-0.802701</td>\n      <td>2.816604</td>\n      <td>-3.626129</td>\n    </tr>\n    <tr>\n      <th>2013-01-03</th>\n      <td>3.622998</td>\n      <td>-0.700610</td>\n      <td>2.087090</td>\n      <td>-3.885028</td>\n    </tr>\n    <tr>\n      <th>2013-01-04</th>\n      <td>5.360312</td>\n      <td>-1.358418</td>\n      <td>2.512342</td>\n      <td>-3.128995</td>\n    </tr>\n    <tr>\n      <th>2013-01-05</th>\n      <td>4.668040</td>\n      <td>-0.800994</td>\n      <td>0.797200</td>\n      <td>-3.088031</td>\n    </tr>\n    <tr>\n      <th>2013-01-06</th>\n      <td>3.226192</td>\n      <td>-1.200352</td>\n      <td>0.629739</td>\n      <td>-1.301223</td>\n    </tr>\n  </tbody>\n</table>\n</div>"
     },
     "metadata": {},
     "execution_count": 90
    }
   ],
   "source": [
    "df.apply(np.cumsum) # 누적합"
   ]
  },
  {
   "cell_type": "code",
   "execution_count": 84,
   "metadata": {},
   "outputs": [
    {
     "output_type": "execute_result",
     "data": {
      "text/plain": "A    3.476174\nB    1.751256\nC    3.397883\nD    4.725942\ndtype: float64"
     },
     "metadata": {},
     "execution_count": 84
    }
   ],
   "source": [
    "df.apply(lambda x:x.max()-x.min())"
   ]
  },
  {
   "cell_type": "code",
   "execution_count": 6,
   "metadata": {},
   "outputs": [
    {
     "output_type": "execute_result",
     "data": {
      "text/plain": "   기관명    소계  2013년도 이전  2014년  2015년  2016년\n0  강남구  2780       1292    430    584    932\n1  강동구   773        379     99    155    377\n2  강북구   748        369    120    138    204\n3  강서구   884        388    258    184     81\n4  관악구  1496        846    260    390    613",
      "text/html": "<div>\n<style scoped>\n    .dataframe tbody tr th:only-of-type {\n        vertical-align: middle;\n    }\n\n    .dataframe tbody tr th {\n        vertical-align: top;\n    }\n\n    .dataframe thead th {\n        text-align: right;\n    }\n</style>\n<table border=\"1\" class=\"dataframe\">\n  <thead>\n    <tr style=\"text-align: right;\">\n      <th></th>\n      <th>기관명</th>\n      <th>소계</th>\n      <th>2013년도 이전</th>\n      <th>2014년</th>\n      <th>2015년</th>\n      <th>2016년</th>\n    </tr>\n  </thead>\n  <tbody>\n    <tr>\n      <th>0</th>\n      <td>강남구</td>\n      <td>2780</td>\n      <td>1292</td>\n      <td>430</td>\n      <td>584</td>\n      <td>932</td>\n    </tr>\n    <tr>\n      <th>1</th>\n      <td>강동구</td>\n      <td>773</td>\n      <td>379</td>\n      <td>99</td>\n      <td>155</td>\n      <td>377</td>\n    </tr>\n    <tr>\n      <th>2</th>\n      <td>강북구</td>\n      <td>748</td>\n      <td>369</td>\n      <td>120</td>\n      <td>138</td>\n      <td>204</td>\n    </tr>\n    <tr>\n      <th>3</th>\n      <td>강서구</td>\n      <td>884</td>\n      <td>388</td>\n      <td>258</td>\n      <td>184</td>\n      <td>81</td>\n    </tr>\n    <tr>\n      <th>4</th>\n      <td>관악구</td>\n      <td>1496</td>\n      <td>846</td>\n      <td>260</td>\n      <td>390</td>\n      <td>613</td>\n    </tr>\n  </tbody>\n</table>\n</div>"
     },
     "metadata": {},
     "execution_count": 6
    }
   ],
   "source": [
    "CCTV_Seoul.head()"
   ]
  },
  {
   "cell_type": "code",
   "execution_count": null,
   "metadata": {},
   "outputs": [],
   "source": []
  }
 ],
 "metadata": {
  "language_info": {
   "codemirror_mode": {
    "name": "ipython",
    "version": 3
   },
   "file_extension": ".py",
   "mimetype": "text/x-python",
   "name": "python",
   "nbconvert_exporter": "python",
   "pygments_lexer": "ipython3",
   "version": "3.7.7-final"
  },
  "orig_nbformat": 2,
  "kernelspec": {
   "name": "python37764bit3d364663d8164d6a92ec4df127b7f895",
   "display_name": "Python 3.7.7 64-bit"
  }
 },
 "nbformat": 4,
 "nbformat_minor": 2
}