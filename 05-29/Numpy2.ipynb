{
 "cells": [
  {
   "cell_type": "code",
   "execution_count": 1,
   "metadata": {},
   "outputs": [],
   "source": [
    "import numpy as np"
   ]
  },
  {
   "cell_type": "code",
   "execution_count": 2,
   "metadata": {},
   "outputs": [
    {
     "output_type": "execute_result",
     "data": {
      "text/plain": "array([[1., 2., 3.],\n       [4., 5., 6.]])"
     },
     "metadata": {},
     "execution_count": 2
    }
   ],
   "source": [
    "arr = np.array([[1., 2., 3.],[4., 5., 6.]])\n",
    "arr"
   ]
  },
  {
   "cell_type": "code",
   "execution_count": 7,
   "metadata": {},
   "outputs": [
    {
     "output_type": "stream",
     "name": "stdout",
     "text": "[[ 1.  4.  9.]\n [16. 25. 36.]]\n[[0. 0. 0.]\n [0. 0. 0.]]\n"
    }
   ],
   "source": [
    "print(arr * arr)\n",
    "print(arr-arr)"
   ]
  },
  {
   "cell_type": "code",
   "execution_count": 6,
   "metadata": {},
   "outputs": [
    {
     "output_type": "execute_result",
     "data": {
      "text/plain": "array([[False,  True, False],\n       [ True, False,  True]])"
     },
     "metadata": {},
     "execution_count": 6
    }
   ],
   "source": [
    "arr2>arr  # 같은크기를 가지는 배열간의 비교연산은 불리언 배열을 반환한다."
   ]
  },
  {
   "cell_type": "code",
   "execution_count": 10,
   "metadata": {},
   "outputs": [
    {
     "output_type": "stream",
     "name": "stdout",
     "text": "[0 1 2 3 4 5 6 7 8 9]\n5\n[5 6 7]\n"
    }
   ],
   "source": [
    "arr = np.arange(10)\n",
    "print(arr)\n",
    "print(arr[5])\n",
    "print(arr[5:8])"
   ]
  },
  {
   "cell_type": "code",
   "execution_count": 14,
   "metadata": {},
   "outputs": [
    {
     "output_type": "stream",
     "name": "stdout",
     "text": "[7 8 9]\n3\n3\n"
    }
   ],
   "source": [
    "arr2d = np.array([[1,2,3],[4,5,6],[7,8,9]])\n",
    "print(arr2d[2])\n",
    "print(arr2d[0][2])\n",
    "print(arr2d[0,2])"
   ]
  },
  {
   "cell_type": "code",
   "execution_count": 15,
   "metadata": {},
   "outputs": [
    {
     "output_type": "stream",
     "name": "stdout",
     "text": "[[[ 1  2  3]\n  [ 4  5  6]]\n\n [[ 7  8  9]\n  [10 11 12]]]\n"
    }
   ],
   "source": [
    "arr3d = np.array([[[1,2,3],[4,5,6]],[[7,8,9],[10,11,12]]])\n",
    "print(arr3d)"
   ]
  },
  {
   "cell_type": "code",
   "execution_count": 20,
   "metadata": {},
   "outputs": [
    {
     "output_type": "stream",
     "name": "stdout",
     "text": "[[[42 42 42]\n  [42 42 42]]\n\n [[ 7  8  9]\n  [10 11 12]]]\n"
    }
   ],
   "source": [
    "old_values = arr3d[0].copy()\n",
    "arr3d[0] = 42\n",
    "\n",
    "arr3d[0] = old_values\n",
    "print(arr3d)"
   ]
  },
  {
   "cell_type": "code",
   "execution_count": 21,
   "metadata": {},
   "outputs": [
    {
     "output_type": "execute_result",
     "data": {
      "text/plain": "array([[ 7,  8,  9],\n       [10, 11, 12]])"
     },
     "metadata": {},
     "execution_count": 21
    }
   ],
   "source": [
    "x = arr3d[1]\n",
    "x"
   ]
  },
  {
   "cell_type": "code",
   "execution_count": 22,
   "metadata": {},
   "outputs": [
    {
     "output_type": "execute_result",
     "data": {
      "text/plain": "array([7, 8, 9])"
     },
     "metadata": {},
     "execution_count": 22
    }
   ],
   "source": [
    "x[0]"
   ]
  },
  {
   "cell_type": "code",
   "execution_count": 23,
   "metadata": {},
   "outputs": [
    {
     "output_type": "execute_result",
     "data": {
      "text/plain": "array([0, 1, 2, 3, 4, 5, 6, 7, 8, 9])"
     },
     "metadata": {},
     "execution_count": 23
    }
   ],
   "source": [
    "arr"
   ]
  },
  {
   "cell_type": "code",
   "execution_count": 24,
   "metadata": {},
   "outputs": [
    {
     "output_type": "execute_result",
     "data": {
      "text/plain": "array([1, 2, 3, 4, 5])"
     },
     "metadata": {},
     "execution_count": 24
    }
   ],
   "source": [
    "arr[1:6]"
   ]
  },
  {
   "cell_type": "code",
   "execution_count": 29,
   "metadata": {},
   "outputs": [
    {
     "output_type": "stream",
     "name": "stdout",
     "text": "[[1 2 3]\n [4 5 6]]\n[[2 3]\n [5 6]]\n"
    }
   ],
   "source": [
    "print(arr2d[:2])\n",
    "print(arr2d[:2, 1:])"
   ]
  },
  {
   "cell_type": "code",
   "execution_count": 36,
   "metadata": {},
   "outputs": [
    {
     "output_type": "stream",
     "name": "stdout",
     "text": "[4 0]\n[4 5]\n[[1]\n [4]\n [7]]\n"
    },
    {
     "output_type": "execute_result",
     "data": {
      "text/plain": "array([[1, 0, 0],\n       [4, 0, 0],\n       [7, 8, 9]])"
     },
     "metadata": {},
     "execution_count": 36
    }
   ],
   "source": [
    "print(arr2d[1, :2])\n",
    "print(np.array([4,5]))\n",
    "print(arr2d[:, :1])\n",
    "arr2d[:2, 1:]=0\n",
    "arr2d"
   ]
  },
  {
   "cell_type": "markdown",
   "metadata": {},
   "source": [
    "## 불리언값으로 선택하기"
   ]
  },
  {
   "cell_type": "code",
   "execution_count": 39,
   "metadata": {},
   "outputs": [
    {
     "output_type": "stream",
     "name": "stdout",
     "text": "['Bob' 'Joe' 'Will' 'Bob' 'Will' 'Joe' 'Joe']\n[[ 0.03845958  0.35142658  0.79975512  0.60968637]\n [-0.05339426 -0.08741446  0.95545539  0.74269417]\n [ 1.1027687  -0.7177041   0.41585341  0.12049979]\n [ 2.29180992  2.25843218 -0.71615589  0.36478697]\n [-0.00573607  1.67007823  0.64917454  1.37046453]\n [ 0.20839368  1.66079822 -0.91089519  0.9775112 ]\n [-0.99731823  0.25892468 -0.57214549  0.33695463]]\n"
    }
   ],
   "source": [
    "name=np.array(['Bob','Joe','Will','Bob','Will','Joe','Joe'])\n",
    "data = np.random.randn(7,4)\n",
    "print(name)\n",
    "print(data)"
   ]
  },
  {
   "cell_type": "code",
   "execution_count": 40,
   "metadata": {},
   "outputs": [
    {
     "output_type": "execute_result",
     "data": {
      "text/plain": "array([ True, False, False,  True, False, False, False])"
     },
     "metadata": {},
     "execution_count": 40
    }
   ],
   "source": [
    "name=='Bob'"
   ]
  },
  {
   "cell_type": "code",
   "execution_count": 41,
   "metadata": {},
   "outputs": [
    {
     "output_type": "execute_result",
     "data": {
      "text/plain": "array([[ 0.03845958,  0.35142658,  0.79975512,  0.60968637],\n       [ 2.29180992,  2.25843218, -0.71615589,  0.36478697]])"
     },
     "metadata": {},
     "execution_count": 41
    }
   ],
   "source": [
    "data[name=='Bob']"
   ]
  },
  {
   "cell_type": "code",
   "execution_count": 42,
   "metadata": {},
   "outputs": [
    {
     "output_type": "execute_result",
     "data": {
      "text/plain": "array([[ 0.79975512,  0.60968637],\n       [-0.71615589,  0.36478697]])"
     },
     "metadata": {},
     "execution_count": 42
    }
   ],
   "source": [
    "data[name=='Bob',2:]"
   ]
  },
  {
   "cell_type": "code",
   "execution_count": 43,
   "metadata": {},
   "outputs": [
    {
     "output_type": "execute_result",
     "data": {
      "text/plain": "array([0.60968637, 0.36478697])"
     },
     "metadata": {},
     "execution_count": 43
    }
   ],
   "source": [
    "data[name=='Bob',3]"
   ]
  },
  {
   "cell_type": "code",
   "execution_count": 44,
   "metadata": {},
   "outputs": [
    {
     "output_type": "execute_result",
     "data": {
      "text/plain": "array([False,  True,  True, False,  True,  True,  True])"
     },
     "metadata": {},
     "execution_count": 44
    }
   ],
   "source": [
    "names != 'Bob'"
   ]
  },
  {
   "cell_type": "code",
   "execution_count": 46,
   "metadata": {},
   "outputs": [
    {
     "output_type": "execute_result",
     "data": {
      "text/plain": "array([[-0.05339426, -0.08741446,  0.95545539,  0.74269417],\n       [ 1.1027687 , -0.7177041 ,  0.41585341,  0.12049979],\n       [-0.00573607,  1.67007823,  0.64917454,  1.37046453],\n       [ 0.20839368,  1.66079822, -0.91089519,  0.9775112 ],\n       [-0.99731823,  0.25892468, -0.57214549,  0.33695463]])"
     },
     "metadata": {},
     "execution_count": 46
    }
   ],
   "source": [
    "data[~(name == 'Bob')]"
   ]
  }
 ],
 "metadata": {
  "language_info": {
   "codemirror_mode": {
    "name": "ipython",
    "version": 3
   },
   "file_extension": ".py",
   "mimetype": "text/x-python",
   "name": "python",
   "nbconvert_exporter": "python",
   "pygments_lexer": "ipython3",
   "version": "3.7.7-final"
  },
  "orig_nbformat": 2,
  "kernelspec": {
   "name": "python37764bit3d364663d8164d6a92ec4df127b7f895",
   "display_name": "Python 3.7.7 64-bit"
  }
 },
 "nbformat": 4,
 "nbformat_minor": 2
}