{
 "cells": [
  {
   "cell_type": "code",
   "execution_count": 2,
   "metadata": {},
   "outputs": [],
   "source": [
    "import numpy as np"
   ]
  },
  {
   "cell_type": "code",
   "execution_count": 3,
   "metadata": {},
   "outputs": [
    {
     "output_type": "stream",
     "name": "stdout",
     "text": "(3,) 1\n"
    }
   ],
   "source": [
    "x=[1,2,3]\n",
    "a = np.array(x)\n",
    "print(a.shape, a.ndim)"
   ]
  },
  {
   "cell_type": "code",
   "execution_count": 5,
   "metadata": {},
   "outputs": [
    {
     "output_type": "stream",
     "name": "stdout",
     "text": "[0 1 2 3 4]\n[0, 1, 2, 3, 4]\n"
    }
   ],
   "source": [
    "x1 = np.arange(5)\n",
    "print(x1) #같은내용이지만 출력물이 다르다\n",
    "x2 = list(range(5))\n",
    "print(x2)"
   ]
  },
  {
   "cell_type": "code",
   "execution_count": 6,
   "metadata": {},
   "outputs": [
    {
     "output_type": "stream",
     "name": "stdout",
     "text": "[10 12 14 16 18]\n"
    }
   ],
   "source": [
    "x3 = np.arange(10,20,2)\n",
    "print(x3)"
   ]
  },
  {
   "cell_type": "code",
   "execution_count": 10,
   "metadata": {},
   "outputs": [
    {
     "output_type": "stream",
     "name": "stdout",
     "text": "[[ 10  20  30  40]\n [ 20  40  60  80]\n [ 30  60  90 120]\n [ 40  80 120 160]]\n"
    }
   ],
   "source": [
    "# BroadCasting : 산술연산중에 다른 모양의 배열을 처리할 수 있는 기능을 말함\n",
    "a1 = np.array([1,2,3,4])\n",
    "b1 = np.array([[10],[20],[30],[40]])\n",
    "c2 = a1*b1\n",
    "print(c2)"
   ]
  },
  {
   "cell_type": "code",
   "execution_count": 11,
   "metadata": {},
   "outputs": [
    {
     "output_type": "stream",
     "name": "stdout",
     "text": "[[ 0  1  2]\n [10 11 12]\n [20 21 22]\n [30 31 32]]\n"
    }
   ],
   "source": [
    "a3 = np.array([[0,0,0],[10,10,10],[20,20,20],[30,30,30]])\n",
    "a4 = np.array([0,1,2])\n",
    "print(a3 + a4)"
   ]
  },
  {
   "cell_type": "code",
   "execution_count": null,
   "metadata": {},
   "outputs": [],
   "source": []
  }
 ],
 "metadata": {
  "language_info": {
   "codemirror_mode": {
    "name": "ipython",
    "version": 3
   },
   "file_extension": ".py",
   "mimetype": "text/x-python",
   "name": "python",
   "nbconvert_exporter": "python",
   "pygments_lexer": "ipython3",
   "version": "3.7.7-final"
  },
  "orig_nbformat": 2,
  "kernelspec": {
   "name": "python37764bit3d364663d8164d6a92ec4df127b7f895",
   "display_name": "Python 3.7.7 64-bit"
  }
 },
 "nbformat": 4,
 "nbformat_minor": 2
}