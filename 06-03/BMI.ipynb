{
 "cells": [
  {
   "cell_type": "code",
   "execution_count": 1,
   "metadata": {},
   "outputs": [],
   "source": [
    "import numpy as np\n",
    "import pandas as pd"
   ]
  },
  {
   "cell_type": "code",
   "execution_count": 6,
   "metadata": {},
   "outputs": [
    {
     "output_type": "execute_result",
     "data": {
      "text/plain": "      sex  weight  height\n0    male    52.3   157.1\n1  female    53.6   160.8\n2    male    53.4   160.5\n3    male    52.2   159.0\n4  female    53.1   160.9",
      "text/html": "<div>\n<style scoped>\n    .dataframe tbody tr th:only-of-type {\n        vertical-align: middle;\n    }\n\n    .dataframe tbody tr th {\n        vertical-align: top;\n    }\n\n    .dataframe thead th {\n        text-align: right;\n    }\n</style>\n<table border=\"1\" class=\"dataframe\">\n  <thead>\n    <tr style=\"text-align: right;\">\n      <th></th>\n      <th>sex</th>\n      <th>weight</th>\n      <th>height</th>\n    </tr>\n  </thead>\n  <tbody>\n    <tr>\n      <th>0</th>\n      <td>male</td>\n      <td>52.3</td>\n      <td>157.1</td>\n    </tr>\n    <tr>\n      <th>1</th>\n      <td>female</td>\n      <td>53.6</td>\n      <td>160.8</td>\n    </tr>\n    <tr>\n      <th>2</th>\n      <td>male</td>\n      <td>53.4</td>\n      <td>160.5</td>\n    </tr>\n    <tr>\n      <th>3</th>\n      <td>male</td>\n      <td>52.2</td>\n      <td>159.0</td>\n    </tr>\n    <tr>\n      <th>4</th>\n      <td>female</td>\n      <td>53.1</td>\n      <td>160.9</td>\n    </tr>\n  </tbody>\n</table>\n</div>"
     },
     "metadata": {},
     "execution_count": 6
    }
   ],
   "source": [
    "df = pd.read_csv(\"../data/student.csv\")\n",
    "df2 = pd.DataFrame(df, columns=['sex','weight','height'])\n",
    "df2.head()"
   ]
  },
  {
   "cell_type": "code",
   "execution_count": 13,
   "metadata": {},
   "outputs": [
    {
     "output_type": "execute_result",
     "data": {
      "text/plain": "      sex  weight  height      bmi_R\n0    male    52.3   157.1  21.190896\n1  female    53.6   160.8  20.729685\n2    male    53.4   160.5  20.729612\n3    male    52.2   159.0  20.647917\n4  female    53.1   160.9  20.510792",
      "text/html": "<div>\n<style scoped>\n    .dataframe tbody tr th:only-of-type {\n        vertical-align: middle;\n    }\n\n    .dataframe tbody tr th {\n        vertical-align: top;\n    }\n\n    .dataframe thead th {\n        text-align: right;\n    }\n</style>\n<table border=\"1\" class=\"dataframe\">\n  <thead>\n    <tr style=\"text-align: right;\">\n      <th></th>\n      <th>sex</th>\n      <th>weight</th>\n      <th>height</th>\n      <th>bmi_R</th>\n    </tr>\n  </thead>\n  <tbody>\n    <tr>\n      <th>0</th>\n      <td>male</td>\n      <td>52.3</td>\n      <td>157.1</td>\n      <td>21.190896</td>\n    </tr>\n    <tr>\n      <th>1</th>\n      <td>female</td>\n      <td>53.6</td>\n      <td>160.8</td>\n      <td>20.729685</td>\n    </tr>\n    <tr>\n      <th>2</th>\n      <td>male</td>\n      <td>53.4</td>\n      <td>160.5</td>\n      <td>20.729612</td>\n    </tr>\n    <tr>\n      <th>3</th>\n      <td>male</td>\n      <td>52.2</td>\n      <td>159.0</td>\n      <td>20.647917</td>\n    </tr>\n    <tr>\n      <th>4</th>\n      <td>female</td>\n      <td>53.1</td>\n      <td>160.9</td>\n      <td>20.510792</td>\n    </tr>\n  </tbody>\n</table>\n</div>"
     },
     "metadata": {},
     "execution_count": 13
    }
   ],
   "source": [
    "df2['bmi_R']=df2['weight']/((df2['height']/100)*(df2['height']/100))\n",
    "df2.head()"
   ]
  },
  {
   "cell_type": "code",
   "execution_count": 43,
   "metadata": {},
   "outputs": [
    {
     "output_type": "execute_result",
     "data": {
      "text/plain": "22.69063063951057"
     },
     "metadata": {},
     "execution_count": 43
    }
   ],
   "source": [
    "filterM = df2['sex']=='male'\n",
    "df_M = df2[filterM]\n",
    "df_M['bmi_R'].mean()"
   ]
  },
  {
   "cell_type": "code",
   "execution_count": 44,
   "metadata": {},
   "outputs": [
    {
     "output_type": "execute_result",
     "data": {
      "text/plain": "22.367154039283648"
     },
     "metadata": {},
     "execution_count": 44
    }
   ],
   "source": [
    "filterFM = df2['sex']=='female'\n",
    "df_FM = df2[filterFM]\n",
    "df_FM['bmi_R'].mean()"
   ]
  },
  {
   "cell_type": "code",
   "execution_count": 50,
   "metadata": {},
   "outputs": [
    {
     "output_type": "stream",
     "name": "stdout",
     "text": "22.69063063951057\n22.367154039283648\n"
    },
    {
     "output_type": "error",
     "ename": "ValueError",
     "evalue": "invalid literal for int() with base 10: ''",
     "traceback": [
      "\u001b[1;31m---------------------------------------------------------------------------\u001b[0m",
      "\u001b[1;31mValueError\u001b[0m                                Traceback (most recent call last)",
      "\u001b[1;32m<ipython-input-50-1253aafe7447>\u001b[0m in \u001b[0;36m<module>\u001b[1;34m\u001b[0m\n\u001b[0;32m      1\u001b[0m \u001b[1;32mwhile\u001b[0m \u001b[1;32mTrue\u001b[0m\u001b[1;33m:\u001b[0m\u001b[1;33m\u001b[0m\u001b[1;33m\u001b[0m\u001b[0m\n\u001b[1;32m----> 2\u001b[1;33m     \u001b[0ma\u001b[0m \u001b[1;33m=\u001b[0m \u001b[0mint\u001b[0m\u001b[1;33m(\u001b[0m\u001b[0minput\u001b[0m\u001b[1;33m(\u001b[0m\u001b[1;34m\"알고싶은 평균 BMI지수의 성별을 입력해 주세요. 남자(1) 여자(2) : \"\u001b[0m\u001b[1;33m)\u001b[0m\u001b[1;33m)\u001b[0m\u001b[1;33m\u001b[0m\u001b[1;33m\u001b[0m\u001b[0m\n\u001b[0m\u001b[0;32m      3\u001b[0m     \u001b[1;32mif\u001b[0m\u001b[1;33m(\u001b[0m\u001b[0ma\u001b[0m \u001b[1;33m==\u001b[0m \u001b[1;36m1\u001b[0m\u001b[1;33m)\u001b[0m\u001b[1;33m:\u001b[0m\u001b[1;33m\u001b[0m\u001b[1;33m\u001b[0m\u001b[0m\n\u001b[0;32m      4\u001b[0m         \u001b[0mprint\u001b[0m\u001b[1;33m(\u001b[0m\u001b[0mdf_M\u001b[0m\u001b[1;33m[\u001b[0m\u001b[1;34m'bmi_R'\u001b[0m\u001b[1;33m]\u001b[0m\u001b[1;33m.\u001b[0m\u001b[0mmean\u001b[0m\u001b[1;33m(\u001b[0m\u001b[1;33m)\u001b[0m\u001b[1;33m)\u001b[0m\u001b[1;33m\u001b[0m\u001b[1;33m\u001b[0m\u001b[0m\n\u001b[0;32m      5\u001b[0m     \u001b[1;32melif\u001b[0m\u001b[1;33m(\u001b[0m\u001b[0ma\u001b[0m \u001b[1;33m==\u001b[0m \u001b[1;36m2\u001b[0m\u001b[1;33m)\u001b[0m\u001b[1;33m:\u001b[0m\u001b[1;33m\u001b[0m\u001b[1;33m\u001b[0m\u001b[0m\n",
      "\u001b[1;31mValueError\u001b[0m: invalid literal for int() with base 10: ''"
     ]
    }
   ],
   "source": [
    "while True:\n",
    "    a = int(input(\"알고싶은 평균 BMI지수의 성별을 입력해 주세요. 남자(1) 여자(2) 종료(3): \"))\n",
    "    if(a == 1):\n",
    "        print(df_M['bmi_R'].mean())\n",
    "    elif(a == 2):\n",
    "        print(df_FM['bmi_R'].mean())\n",
    "    elif(a == 3):\n",
    "        print(\"화면종료\")\n",
    "        break"
   ]
  },
  {
   "cell_type": "code",
   "execution_count": null,
   "metadata": {},
   "outputs": [],
   "source": []
  }
 ],
 "metadata": {
  "language_info": {
   "codemirror_mode": {
    "name": "ipython",
    "version": 3
   },
   "file_extension": ".py",
   "mimetype": "text/x-python",
   "name": "python",
   "nbconvert_exporter": "python",
   "pygments_lexer": "ipython3",
   "version": "3.7.7-final"
  },
  "orig_nbformat": 2,
  "kernelspec": {
   "name": "python37764bit3d364663d8164d6a92ec4df127b7f895",
   "display_name": "Python 3.7.7 64-bit"
  }
 },
 "nbformat": 4,
 "nbformat_minor": 2
}