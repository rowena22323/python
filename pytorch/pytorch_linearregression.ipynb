{
 "metadata": {
  "language_info": {
   "codemirror_mode": {
    "name": "ipython",
    "version": 3
   },
   "file_extension": ".py",
   "mimetype": "text/x-python",
   "name": "python",
   "nbconvert_exporter": "python",
   "pygments_lexer": "ipython3",
   "version": "3.7.7-final"
  },
  "orig_nbformat": 2,
  "kernelspec": {
   "name": "python_defaultSpec_1597647409662",
   "display_name": "Python 3.7.7 64-bit"
  }
 },
 "nbformat": 4,
 "nbformat_minor": 2,
 "cells": [
  {
   "cell_type": "code",
   "execution_count": 13,
   "metadata": {},
   "outputs": [],
   "source": [
    "import torch\n",
    "import torch.nn as nn\n",
    "import torch.nn.functional as F\n",
    "import torch.optim as optim"
   ]
  },
  {
   "cell_type": "code",
   "execution_count": 14,
   "metadata": {},
   "outputs": [
    {
     "output_type": "execute_result",
     "data": {
      "text/plain": "<torch._C.Generator at 0x7febb29eb5b0>"
     },
     "metadata": {},
     "execution_count": 14
    }
   ],
   "source": [
    "torch.manual_seed(1)\n",
    "# 난수 발생 순서와 값을 동일하게 보장."
   ]
  },
  {
   "cell_type": "code",
   "execution_count": 15,
   "metadata": {},
   "outputs": [],
   "source": [
    "# 변수선언\n",
    "x_train = torch.FloatTensor([[1],[2],[3]])\n",
    "y_train = torch.FloatTensor([[2],[4],[6]])"
   ]
  },
  {
   "cell_type": "code",
   "execution_count": 16,
   "metadata": {
    "tags": []
   },
   "outputs": [
    {
     "output_type": "stream",
     "name": "stdout",
     "text": "torch.Size([3, 1])\ntorch.Size([3, 1])\n"
    }
   ],
   "source": [
    "print(x_train.shape)\n",
    "print(y_train.shape)"
   ]
  },
  {
   "cell_type": "code",
   "execution_count": 17,
   "metadata": {
    "tags": []
   },
   "outputs": [
    {
     "output_type": "stream",
     "name": "stdout",
     "text": "tensor([0.], requires_grad=True)\n"
    }
   ],
   "source": [
    "W = torch.zeros(1, requires_grad=True)\n",
    "print(W) # 0으로 초기화된 가중치"
   ]
  },
  {
   "cell_type": "markdown",
   "metadata": {},
   "source": [
    "requires_grad = True\n",
    "- 자동미분기능 적용 : 선형회귀부터 신경망과 같은 복잡한 구조에서 파라미터들이 모두 이 기능이 적용\n",
    "- 계산그래프가 생성되며 backward 함수를 호출하면 그래프로부터 자동으로 미분이 계산됨."
   ]
  },
  {
   "cell_type": "code",
   "execution_count": 18,
   "metadata": {
    "tags": []
   },
   "outputs": [
    {
     "output_type": "stream",
     "name": "stdout",
     "text": "tensor([0.], requires_grad=True)\n"
    }
   ],
   "source": [
    "b = torch.zeros(1, requires_grad=True)\n",
    "print(b) # bias 초기화"
   ]
  },
  {
   "cell_type": "code",
   "execution_count": 19,
   "metadata": {
    "tags": []
   },
   "outputs": [
    {
     "output_type": "stream",
     "name": "stdout",
     "text": "tensor([[0.],\n        [0.],\n        [0.]], grad_fn=<AddBackward0>)\n"
    }
   ],
   "source": [
    "hypothesis = x_train*W+b\n",
    "print(hypothesis)"
   ]
  },
  {
   "cell_type": "code",
   "execution_count": 20,
   "metadata": {
    "tags": []
   },
   "outputs": [
    {
     "output_type": "stream",
     "name": "stdout",
     "text": "tensor(18.6667, grad_fn=<MeanBackward0>)\n"
    }
   ],
   "source": [
    "# 비용함수 선언 : 선형회귀의 비용함수에 해당되는 평균제곱오차 선언\n",
    "cost = torch.mean((hypothesis - y_train)**2)\n",
    "print(cost)"
   ]
  },
  {
   "cell_type": "code",
   "execution_count": 21,
   "metadata": {},
   "outputs": [],
   "source": [
    "optimizer = optim.SGD([W,b], lr=0.01)\n",
    "optimizer.zero_grad()\n",
    "# 파이토치는 미분을 통해 얻은 기울기를 이전에 계산된 기울기 값에 누적시키므로 미분값을 0으로 초기화 해줘야 함.\n",
    "cost.backward()\n",
    "optimizer.step()"
   ]
  },
  {
   "cell_type": "code",
   "execution_count": 22,
   "metadata": {
    "tags": []
   },
   "outputs": [
    {
     "output_type": "stream",
     "name": "stdout",
     "text": "Epoch    0/2000 W: 0.353, b:0.151, Cost:14.770963\nEpoch  100/2000 W: 1.746, b:0.577, Cost:0.047939\nEpoch  200/2000 W: 1.801, b:0.453, Cost:0.029624\nEpoch  300/2000 W: 1.843, b:0.356, Cost:0.018306\nEpoch  400/2000 W: 1.877, b:0.280, Cost:0.011312\nEpoch  500/2000 W: 1.903, b:0.220, Cost:0.006990\nEpoch  600/2000 W: 1.924, b:0.173, Cost:0.004319\nEpoch  700/2000 W: 1.940, b:0.136, Cost:0.002669\nEpoch  800/2000 W: 1.953, b:0.107, Cost:0.001649\nEpoch  900/2000 W: 1.963, b:0.084, Cost:0.001019\nEpoch 1000/2000 W: 1.971, b:0.066, Cost:0.000630\nEpoch 1100/2000 W: 1.977, b:0.052, Cost:0.000389\nEpoch 1200/2000 W: 1.982, b:0.041, Cost:0.000240\nEpoch 1300/2000 W: 1.986, b:0.032, Cost:0.000149\nEpoch 1400/2000 W: 1.989, b:0.025, Cost:0.000092\nEpoch 1500/2000 W: 1.991, b:0.020, Cost:0.000057\nEpoch 1600/2000 W: 1.993, b:0.016, Cost:0.000035\nEpoch 1700/2000 W: 1.995, b:0.012, Cost:0.000022\nEpoch 1800/2000 W: 1.996, b:0.010, Cost:0.000013\nEpoch 1900/2000 W: 1.997, b:0.008, Cost:0.000008\nEpoch 2000/2000 W: 1.997, b:0.006, Cost:0.000005\n"
    }
   ],
   "source": [
    "nb_epochs = 2000\n",
    "for epoch in range(nb_epochs+1):\n",
    "    hypothesis = x_train*W+b\n",
    "    cost = torch.mean((hypothesis - y_train)**2)\n",
    "    optimizer.zero_grad()\n",
    "    cost.backward()\n",
    "    optimizer.step()\n",
    "\n",
    "    if epoch %100 == 0:\n",
    "        print('Epoch {:4d}/{} W: {:.3f}, b:{:.3f}, Cost:{:.6f}'.format(\n",
    "            epoch, nb_epochs, W.item(), b.item(), cost.item()))"
   ]
  },
  {
   "cell_type": "code",
   "execution_count": null,
   "metadata": {},
   "outputs": [],
   "source": []
  }
 ]
}