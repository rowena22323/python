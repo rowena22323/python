{
 "cells": [
  {
   "cell_type": "code",
   "execution_count": 1,
   "metadata": {},
   "outputs": [],
   "source": [
    "import pandas as pd\n",
    "import numpy as np\n",
    "import matplotlib.pyplot as plt\n",
    "import seaborn as sns\n",
    "plt.rcParams['figure.figsize'] = [8, 6]"
   ]
  },
  {
   "cell_type": "code",
   "execution_count": 2,
   "metadata": {},
   "outputs": [],
   "source": [
    "import matplotlib.font_manager as fm\n",
    "path = 'C:/Windows/Fonts/malgun.ttf'\n",
    "font_name = fm.FontProperties(fname=path, size=50).get_name()\n",
    "plt.rc('font', family=font_name)"
   ]
  },
  {
   "cell_type": "code",
   "execution_count": 3,
   "metadata": {},
   "outputs": [],
   "source": [
    "from sklearn.preprocessing import MinMaxScaler"
   ]
  },
  {
   "cell_type": "code",
   "execution_count": 4,
   "metadata": {},
   "outputs": [],
   "source": [
    "df12 = pd.read_excel('2012.xls')\n",
    "df13 = pd.read_excel('2013.xls')\n",
    "df14 = pd.read_excel('2014.xls')\n",
    "df15 = pd.read_excel('2015.xls')\n",
    "df16 = pd.read_excel('2016.xls')\n",
    "df17 = pd.read_excel('2017.xls')\n",
    "df18 = pd.read_excel('2018.xls')\n",
    "df19 = pd.read_excel('2019.xls')"
   ]
  },
  {
   "cell_type": "code",
   "execution_count": 5,
   "metadata": {},
   "outputs": [
    {
     "data": {
      "text/plain": [
       "(70, 13)"
      ]
     },
     "execution_count": 5,
     "metadata": {},
     "output_type": "execute_result"
    }
   ],
   "source": [
    "df12.shape"
   ]
  },
  {
   "cell_type": "code",
   "execution_count": 6,
   "metadata": {},
   "outputs": [],
   "source": [
    "df12['월별합계'] = df12.sum(axis=1)\n",
    "df13['월별합계'] = df13.sum(axis=1)\n",
    "df14['월별합계'] = df14.sum(axis=1)\n",
    "df15['월별합계'] = df15.sum(axis=1)\n",
    "df16['월별합계'] = df16.sum(axis=1)\n",
    "df17['월별합계'] = df17.sum(axis=1)\n",
    "df18['월별합계'] = df18.sum(axis=1)\n",
    "df19['월별합계'] = df19.sum(axis=1)"
   ]
  },
  {
   "cell_type": "code",
   "execution_count": 7,
   "metadata": {},
   "outputs": [],
   "source": [
    "df12['연도'] = '2012'\n",
    "df13['연도'] = '2013'\n",
    "df14['연도'] = '2014'\n",
    "df15['연도'] = '2015'\n",
    "df16['연도'] = '2016'\n",
    "df17['연도'] = '2017'\n",
    "df18['연도'] = '2018'\n",
    "df19['연도'] = '2019'"
   ]
  },
  {
   "cell_type": "code",
   "execution_count": 8,
   "metadata": {},
   "outputs": [
    {
     "name": "stdout",
     "output_type": "stream",
     "text": [
      "Index(['분류', '1월', '2월', '3월', '4월', '5월', '6월', '7월', '8월', '9월', '10월',\n",
      "       '11월', '12월', '월별합계', '연도'],\n",
      "      dtype='object')\n",
      "(560, 15)\n"
     ]
    }
   ],
   "source": [
    "concat = pd.concat([df12,df13,df14,df15,df16,df17,df18,df19], axis=0)\n",
    "print(concat.columns)\n",
    "print(concat.shape)"
   ]
  },
  {
   "cell_type": "code",
   "execution_count": 9,
   "metadata": {},
   "outputs": [
    {
     "data": {
      "text/html": [
       "<div>\n",
       "<style scoped>\n",
       "    .dataframe tbody tr th:only-of-type {\n",
       "        vertical-align: middle;\n",
       "    }\n",
       "\n",
       "    .dataframe tbody tr th {\n",
       "        vertical-align: top;\n",
       "    }\n",
       "\n",
       "    .dataframe thead th {\n",
       "        text-align: right;\n",
       "    }\n",
       "</style>\n",
       "<table border=\"1\" class=\"dataframe\">\n",
       "  <thead>\n",
       "    <tr style=\"text-align: right;\">\n",
       "      <th></th>\n",
       "      <th>분류</th>\n",
       "      <th>월별합계</th>\n",
       "      <th>연도</th>\n",
       "    </tr>\n",
       "  </thead>\n",
       "  <tbody>\n",
       "    <tr>\n",
       "      <th>0</th>\n",
       "      <td>공용관리비</td>\n",
       "      <td>10168</td>\n",
       "      <td>2012</td>\n",
       "    </tr>\n",
       "    <tr>\n",
       "      <th>1</th>\n",
       "      <td>일반관리비</td>\n",
       "      <td>3619</td>\n",
       "      <td>2012</td>\n",
       "    </tr>\n",
       "    <tr>\n",
       "      <th>2</th>\n",
       "      <td>인건비</td>\n",
       "      <td>3378</td>\n",
       "      <td>2012</td>\n",
       "    </tr>\n",
       "    <tr>\n",
       "      <th>3</th>\n",
       "      <td>급여</td>\n",
       "      <td>0</td>\n",
       "      <td>2012</td>\n",
       "    </tr>\n",
       "    <tr>\n",
       "      <th>4</th>\n",
       "      <td>제수당</td>\n",
       "      <td>0</td>\n",
       "      <td>2012</td>\n",
       "    </tr>\n",
       "    <tr>\n",
       "      <th>...</th>\n",
       "      <td>...</td>\n",
       "      <td>...</td>\n",
       "      <td>...</td>\n",
       "    </tr>\n",
       "    <tr>\n",
       "      <th>65</th>\n",
       "      <td>월사용액</td>\n",
       "      <td>0</td>\n",
       "      <td>2019</td>\n",
       "    </tr>\n",
       "    <tr>\n",
       "      <th>66</th>\n",
       "      <td>충당금잔액</td>\n",
       "      <td>0</td>\n",
       "      <td>2019</td>\n",
       "    </tr>\n",
       "    <tr>\n",
       "      <th>67</th>\n",
       "      <td>적립요율(%)</td>\n",
       "      <td>0</td>\n",
       "      <td>2019</td>\n",
       "    </tr>\n",
       "    <tr>\n",
       "      <th>68</th>\n",
       "      <td>합계</td>\n",
       "      <td>23995</td>\n",
       "      <td>2019</td>\n",
       "    </tr>\n",
       "    <tr>\n",
       "      <th>69</th>\n",
       "      <td>잡수입</td>\n",
       "      <td>428</td>\n",
       "      <td>2019</td>\n",
       "    </tr>\n",
       "  </tbody>\n",
       "</table>\n",
       "<p>560 rows × 3 columns</p>\n",
       "</div>"
      ],
      "text/plain": [
       "         분류   월별합계    연도\n",
       "0     공용관리비  10168  2012\n",
       "1     일반관리비   3619  2012\n",
       "2       인건비   3378  2012\n",
       "3        급여      0  2012\n",
       "4       제수당      0  2012\n",
       "..      ...    ...   ...\n",
       "65     월사용액      0  2019\n",
       "66    충당금잔액      0  2019\n",
       "67  적립요율(%)      0  2019\n",
       "68       합계  23995  2019\n",
       "69      잡수입    428  2019\n",
       "\n",
       "[560 rows x 3 columns]"
      ]
     },
     "execution_count": 9,
     "metadata": {},
     "output_type": "execute_result"
    }
   ],
   "source": [
    "concat1 = concat.loc[:,['분류','월별합계','연도']]\n",
    "concat1"
   ]
  },
  {
   "cell_type": "code",
   "execution_count": 10,
   "metadata": {},
   "outputs": [],
   "source": [
    "concat11 = pd.pivot(concat1, index='분류', columns='연도', values='월별합계')\n",
    "concat11 = concat11.T"
   ]
  },
  {
   "cell_type": "code",
   "execution_count": 11,
   "metadata": {},
   "outputs": [
    {
     "data": {
      "text/plain": [
       "Index(['연도', '가스공용', '가스사용료', '가스전용', '개별사용료', '건강보험료', '건물보험료', '경비비',\n",
       "       '고용보험료', '공과금중전기료', '공용관리비', '관리용품구입비', '교육훈련비', '국민연금', '그밖의부대비용',\n",
       "       '급여', '급탕공용', '급탕비', '급탕전용', '기타차량유지비', '난방공용', '난방비', '난방전용', '도서인쇄비',\n",
       "       '보험료', '산재보험료', '상여금', '생활폐기물수수료', '선거관리위원회운영비', '소독비', '수도공용', '수도료',\n",
       "       '수도전용', '수리비', '수선비', '수선유지비', '승강기유지비', '시설유지비', '식대등복리후생비', '안전점검비',\n",
       "       '여비교통비', '연료비', '우편료', '월사용액', '위탁관리수수료', '인건비', '일반관리비', '일반사무용품비',\n",
       "       '입주자대표회의운영비', '잡비', '잡수입', '장기수선충당금월부과액', '재해예방비', '적립요율(%)', '전기공용',\n",
       "       '전기료', '전기전용', '전문가자문비등', '정화조오물수수료', '제사무비', '제세공과금', '제세공과금등', '제수당',\n",
       "       '지능형홈네트워크설비유지비', '차량유지비', '청소비', '충당금잔액', '통신료', '퇴직금', '피복비', '합계'],\n",
       "      dtype='object', name='분류')"
      ]
     },
     "execution_count": 11,
     "metadata": {},
     "output_type": "execute_result"
    }
   ],
   "source": [
    "concat11 = concat11.reset_index()\n",
    "concat11.columns"
   ]
  },
  {
   "cell_type": "code",
   "execution_count": 12,
   "metadata": {},
   "outputs": [],
   "source": [
    "public = concat11.loc[:,['연도','일반관리비','청소비','경비비','소독비','승강기유지비','난방비','급탕비','수선유지비','위탁관리수수료','지능형홈네트워크설비유지비']]"
   ]
  },
  {
   "cell_type": "code",
   "execution_count": 13,
   "metadata": {},
   "outputs": [],
   "source": [
    "public = public.set_index('연도')"
   ]
  },
  {
   "cell_type": "code",
   "execution_count": 14,
   "metadata": {},
   "outputs": [],
   "source": [
    "general = concat11.loc[:,['연도','인건비','제사무비','제세공과금','피복비','교육훈련비','차량유지비','그밖의부대비용']]"
   ]
  },
  {
   "cell_type": "code",
   "execution_count": 15,
   "metadata": {},
   "outputs": [],
   "source": [
    "general = general.set_index('연도')"
   ]
  },
  {
   "cell_type": "code",
   "execution_count": 16,
   "metadata": {},
   "outputs": [
    {
     "data": {
      "text/html": [
       "<style  type=\"text/css\" >\n",
       "#T_81a840f6_db91_11ea_b558_988389829bcfrow0_col0,#T_81a840f6_db91_11ea_b558_988389829bcfrow0_col1,#T_81a840f6_db91_11ea_b558_988389829bcfrow0_col2,#T_81a840f6_db91_11ea_b558_988389829bcfrow0_col4,#T_81a840f6_db91_11ea_b558_988389829bcfrow0_col8,#T_81a840f6_db91_11ea_b558_988389829bcfrow0_col9,#T_81a840f6_db91_11ea_b558_988389829bcfrow1_col8,#T_81a840f6_db91_11ea_b558_988389829bcfrow1_col9,#T_81a840f6_db91_11ea_b558_988389829bcfrow2_col8,#T_81a840f6_db91_11ea_b558_988389829bcfrow2_col9,#T_81a840f6_db91_11ea_b558_988389829bcfrow3_col8,#T_81a840f6_db91_11ea_b558_988389829bcfrow3_col9,#T_81a840f6_db91_11ea_b558_988389829bcfrow4_col8,#T_81a840f6_db91_11ea_b558_988389829bcfrow4_col9,#T_81a840f6_db91_11ea_b558_988389829bcfrow5_col8,#T_81a840f6_db91_11ea_b558_988389829bcfrow5_col9,#T_81a840f6_db91_11ea_b558_988389829bcfrow6_col3,#T_81a840f6_db91_11ea_b558_988389829bcfrow6_col8,#T_81a840f6_db91_11ea_b558_988389829bcfrow6_col9,#T_81a840f6_db91_11ea_b558_988389829bcfrow7_col5,#T_81a840f6_db91_11ea_b558_988389829bcfrow7_col6,#T_81a840f6_db91_11ea_b558_988389829bcfrow7_col7,#T_81a840f6_db91_11ea_b558_988389829bcfrow7_col8,#T_81a840f6_db91_11ea_b558_988389829bcfrow7_col9{\n",
       "            background-color:  #008066;\n",
       "            color:  #f1f1f1;\n",
       "        }#T_81a840f6_db91_11ea_b558_988389829bcfrow0_col3{\n",
       "            background-color:  #4ca666;\n",
       "            color:  #000000;\n",
       "        }#T_81a840f6_db91_11ea_b558_988389829bcfrow0_col5{\n",
       "            background-color:  #239166;\n",
       "            color:  #000000;\n",
       "        }#T_81a840f6_db91_11ea_b558_988389829bcfrow0_col6{\n",
       "            background-color:  #259266;\n",
       "            color:  #000000;\n",
       "        }#T_81a840f6_db91_11ea_b558_988389829bcfrow0_col7{\n",
       "            background-color:  #9ece66;\n",
       "            color:  #000000;\n",
       "        }#T_81a840f6_db91_11ea_b558_988389829bcfrow1_col0,#T_81a840f6_db91_11ea_b558_988389829bcfrow1_col5{\n",
       "            background-color:  #4fa766;\n",
       "            color:  #000000;\n",
       "        }#T_81a840f6_db91_11ea_b558_988389829bcfrow1_col1{\n",
       "            background-color:  #3f9f66;\n",
       "            color:  #000000;\n",
       "        }#T_81a840f6_db91_11ea_b558_988389829bcfrow1_col2{\n",
       "            background-color:  #4ea666;\n",
       "            color:  #000000;\n",
       "        }#T_81a840f6_db91_11ea_b558_988389829bcfrow1_col3{\n",
       "            background-color:  #c4e266;\n",
       "            color:  #000000;\n",
       "        }#T_81a840f6_db91_11ea_b558_988389829bcfrow1_col4{\n",
       "            background-color:  #aad466;\n",
       "            color:  #000000;\n",
       "        }#T_81a840f6_db91_11ea_b558_988389829bcfrow1_col6{\n",
       "            background-color:  #44a266;\n",
       "            color:  #000000;\n",
       "        }#T_81a840f6_db91_11ea_b558_988389829bcfrow1_col7{\n",
       "            background-color:  #b4da66;\n",
       "            color:  #000000;\n",
       "        }#T_81a840f6_db91_11ea_b558_988389829bcfrow2_col0{\n",
       "            background-color:  #96cb66;\n",
       "            color:  #000000;\n",
       "        }#T_81a840f6_db91_11ea_b558_988389829bcfrow2_col1{\n",
       "            background-color:  #5dae66;\n",
       "            color:  #000000;\n",
       "        }#T_81a840f6_db91_11ea_b558_988389829bcfrow2_col2{\n",
       "            background-color:  #7ebe66;\n",
       "            color:  #000000;\n",
       "        }#T_81a840f6_db91_11ea_b558_988389829bcfrow2_col3,#T_81a840f6_db91_11ea_b558_988389829bcfrow2_col4,#T_81a840f6_db91_11ea_b558_988389829bcfrow2_col5,#T_81a840f6_db91_11ea_b558_988389829bcfrow2_col6,#T_81a840f6_db91_11ea_b558_988389829bcfrow2_col7,#T_81a840f6_db91_11ea_b558_988389829bcfrow3_col3,#T_81a840f6_db91_11ea_b558_988389829bcfrow3_col4,#T_81a840f6_db91_11ea_b558_988389829bcfrow4_col3,#T_81a840f6_db91_11ea_b558_988389829bcfrow4_col4,#T_81a840f6_db91_11ea_b558_988389829bcfrow5_col3,#T_81a840f6_db91_11ea_b558_988389829bcfrow5_col4,#T_81a840f6_db91_11ea_b558_988389829bcfrow6_col0,#T_81a840f6_db91_11ea_b558_988389829bcfrow6_col2,#T_81a840f6_db91_11ea_b558_988389829bcfrow7_col1{\n",
       "            background-color:  #ffff66;\n",
       "            color:  #000000;\n",
       "        }#T_81a840f6_db91_11ea_b558_988389829bcfrow3_col0{\n",
       "            background-color:  #a3d166;\n",
       "            color:  #000000;\n",
       "        }#T_81a840f6_db91_11ea_b558_988389829bcfrow3_col1{\n",
       "            background-color:  #71b866;\n",
       "            color:  #000000;\n",
       "        }#T_81a840f6_db91_11ea_b558_988389829bcfrow3_col2{\n",
       "            background-color:  #9cce66;\n",
       "            color:  #000000;\n",
       "        }#T_81a840f6_db91_11ea_b558_988389829bcfrow3_col5{\n",
       "            background-color:  #43a166;\n",
       "            color:  #000000;\n",
       "        }#T_81a840f6_db91_11ea_b558_988389829bcfrow3_col6{\n",
       "            background-color:  #3d9e66;\n",
       "            color:  #000000;\n",
       "        }#T_81a840f6_db91_11ea_b558_988389829bcfrow3_col7{\n",
       "            background-color:  #c6e266;\n",
       "            color:  #000000;\n",
       "        }#T_81a840f6_db91_11ea_b558_988389829bcfrow4_col0{\n",
       "            background-color:  #c5e266;\n",
       "            color:  #000000;\n",
       "        }#T_81a840f6_db91_11ea_b558_988389829bcfrow4_col1{\n",
       "            background-color:  #99cc66;\n",
       "            color:  #000000;\n",
       "        }#T_81a840f6_db91_11ea_b558_988389829bcfrow4_col2{\n",
       "            background-color:  #a7d366;\n",
       "            color:  #000000;\n",
       "        }#T_81a840f6_db91_11ea_b558_988389829bcfrow4_col5{\n",
       "            background-color:  #2d9666;\n",
       "            color:  #000000;\n",
       "        }#T_81a840f6_db91_11ea_b558_988389829bcfrow4_col6{\n",
       "            background-color:  #2b9566;\n",
       "            color:  #000000;\n",
       "        }#T_81a840f6_db91_11ea_b558_988389829bcfrow4_col7{\n",
       "            background-color:  #abd566;\n",
       "            color:  #000000;\n",
       "        }#T_81a840f6_db91_11ea_b558_988389829bcfrow5_col0{\n",
       "            background-color:  #ddee66;\n",
       "            color:  #000000;\n",
       "        }#T_81a840f6_db91_11ea_b558_988389829bcfrow5_col1{\n",
       "            background-color:  #c3e166;\n",
       "            color:  #000000;\n",
       "        }#T_81a840f6_db91_11ea_b558_988389829bcfrow5_col2{\n",
       "            background-color:  #c8e366;\n",
       "            color:  #000000;\n",
       "        }#T_81a840f6_db91_11ea_b558_988389829bcfrow5_col5{\n",
       "            background-color:  #40a066;\n",
       "            color:  #000000;\n",
       "        }#T_81a840f6_db91_11ea_b558_988389829bcfrow5_col6{\n",
       "            background-color:  #188c66;\n",
       "            color:  #000000;\n",
       "        }#T_81a840f6_db91_11ea_b558_988389829bcfrow5_col7{\n",
       "            background-color:  #329866;\n",
       "            color:  #000000;\n",
       "        }#T_81a840f6_db91_11ea_b558_988389829bcfrow6_col1{\n",
       "            background-color:  #f1f866;\n",
       "            color:  #000000;\n",
       "        }#T_81a840f6_db91_11ea_b558_988389829bcfrow6_col4{\n",
       "            background-color:  #55aa66;\n",
       "            color:  #000000;\n",
       "        }#T_81a840f6_db91_11ea_b558_988389829bcfrow6_col5{\n",
       "            background-color:  #42a066;\n",
       "            color:  #000000;\n",
       "        }#T_81a840f6_db91_11ea_b558_988389829bcfrow6_col6{\n",
       "            background-color:  #128866;\n",
       "            color:  #000000;\n",
       "        }#T_81a840f6_db91_11ea_b558_988389829bcfrow6_col7{\n",
       "            background-color:  #058266;\n",
       "            color:  #f1f1f1;\n",
       "        }#T_81a840f6_db91_11ea_b558_988389829bcfrow7_col0{\n",
       "            background-color:  #cde666;\n",
       "            color:  #000000;\n",
       "        }#T_81a840f6_db91_11ea_b558_988389829bcfrow7_col2{\n",
       "            background-color:  #dbed66;\n",
       "            color:  #000000;\n",
       "        }#T_81a840f6_db91_11ea_b558_988389829bcfrow7_col3{\n",
       "            background-color:  #1d8e66;\n",
       "            color:  #000000;\n",
       "        }#T_81a840f6_db91_11ea_b558_988389829bcfrow7_col4{\n",
       "            background-color:  #0e8666;\n",
       "            color:  #000000;\n",
       "        }</style><table id=\"T_81a840f6_db91_11ea_b558_988389829bcf\" ><thead>    <tr>        <th class=\"index_name level0\" >분류</th>        <th class=\"col_heading level0 col0\" >일반관리비</th>        <th class=\"col_heading level0 col1\" >청소비</th>        <th class=\"col_heading level0 col2\" >경비비</th>        <th class=\"col_heading level0 col3\" >소독비</th>        <th class=\"col_heading level0 col4\" >승강기유지비</th>        <th class=\"col_heading level0 col5\" >난방비</th>        <th class=\"col_heading level0 col6\" >급탕비</th>        <th class=\"col_heading level0 col7\" >수선유지비</th>        <th class=\"col_heading level0 col8\" >위탁관리수수료</th>        <th class=\"col_heading level0 col9\" >지능형홈네트워크설비유지비</th>    </tr>    <tr>        <th class=\"index_name level0\" >연도</th>        <th class=\"blank\" ></th>        <th class=\"blank\" ></th>        <th class=\"blank\" ></th>        <th class=\"blank\" ></th>        <th class=\"blank\" ></th>        <th class=\"blank\" ></th>        <th class=\"blank\" ></th>        <th class=\"blank\" ></th>        <th class=\"blank\" ></th>        <th class=\"blank\" ></th>    </tr></thead><tbody>\n",
       "                <tr>\n",
       "                        <th id=\"T_81a840f6_db91_11ea_b558_988389829bcflevel0_row0\" class=\"row_heading level0 row0\" >2012</th>\n",
       "                        <td id=\"T_81a840f6_db91_11ea_b558_988389829bcfrow0_col0\" class=\"data row0 col0\" >3619</td>\n",
       "                        <td id=\"T_81a840f6_db91_11ea_b558_988389829bcfrow0_col1\" class=\"data row0 col1\" >1290</td>\n",
       "                        <td id=\"T_81a840f6_db91_11ea_b558_988389829bcfrow0_col2\" class=\"data row0 col2\" >4282</td>\n",
       "                        <td id=\"T_81a840f6_db91_11ea_b558_988389829bcfrow0_col3\" class=\"data row0 col3\" >126</td>\n",
       "                        <td id=\"T_81a840f6_db91_11ea_b558_988389829bcfrow0_col4\" class=\"data row0 col4\" >216</td>\n",
       "                        <td id=\"T_81a840f6_db91_11ea_b558_988389829bcfrow0_col5\" class=\"data row0 col5\" >5184</td>\n",
       "                        <td id=\"T_81a840f6_db91_11ea_b558_988389829bcfrow0_col6\" class=\"data row0 col6\" >3856</td>\n",
       "                        <td id=\"T_81a840f6_db91_11ea_b558_988389829bcfrow0_col7\" class=\"data row0 col7\" >639</td>\n",
       "                        <td id=\"T_81a840f6_db91_11ea_b558_988389829bcfrow0_col8\" class=\"data row0 col8\" >0</td>\n",
       "                        <td id=\"T_81a840f6_db91_11ea_b558_988389829bcfrow0_col9\" class=\"data row0 col9\" >0</td>\n",
       "            </tr>\n",
       "            <tr>\n",
       "                        <th id=\"T_81a840f6_db91_11ea_b558_988389829bcflevel0_row1\" class=\"row_heading level0 row1\" >2013</th>\n",
       "                        <td id=\"T_81a840f6_db91_11ea_b558_988389829bcfrow1_col0\" class=\"data row1 col0\" >4425</td>\n",
       "                        <td id=\"T_81a840f6_db91_11ea_b558_988389829bcfrow1_col1\" class=\"data row1 col1\" >1672</td>\n",
       "                        <td id=\"T_81a840f6_db91_11ea_b558_988389829bcfrow1_col2\" class=\"data row1 col2\" >5280</td>\n",
       "                        <td id=\"T_81a840f6_db91_11ea_b558_988389829bcfrow1_col3\" class=\"data row1 col3\" >154</td>\n",
       "                        <td id=\"T_81a840f6_db91_11ea_b558_988389829bcfrow1_col4\" class=\"data row1 col4\" >264</td>\n",
       "                        <td id=\"T_81a840f6_db91_11ea_b558_988389829bcfrow1_col5\" class=\"data row1 col5\" >6292</td>\n",
       "                        <td id=\"T_81a840f6_db91_11ea_b558_988389829bcfrow1_col6\" class=\"data row1 col6\" >4612</td>\n",
       "                        <td id=\"T_81a840f6_db91_11ea_b558_988389829bcfrow1_col7\" class=\"data row1 col7\" >726</td>\n",
       "                        <td id=\"T_81a840f6_db91_11ea_b558_988389829bcfrow1_col8\" class=\"data row1 col8\" >0</td>\n",
       "                        <td id=\"T_81a840f6_db91_11ea_b558_988389829bcfrow1_col9\" class=\"data row1 col9\" >0</td>\n",
       "            </tr>\n",
       "            <tr>\n",
       "                        <th id=\"T_81a840f6_db91_11ea_b558_988389829bcflevel0_row2\" class=\"row_heading level0 row2\" >2014</th>\n",
       "                        <td id=\"T_81a840f6_db91_11ea_b558_988389829bcfrow2_col0\" class=\"data row2 col0\" >5144</td>\n",
       "                        <td id=\"T_81a840f6_db91_11ea_b558_988389829bcfrow2_col1\" class=\"data row2 col1\" >1856</td>\n",
       "                        <td id=\"T_81a840f6_db91_11ea_b558_988389829bcfrow2_col2\" class=\"data row2 col2\" >5892</td>\n",
       "                        <td id=\"T_81a840f6_db91_11ea_b558_988389829bcfrow2_col3\" class=\"data row2 col3\" >168</td>\n",
       "                        <td id=\"T_81a840f6_db91_11ea_b558_988389829bcfrow2_col4\" class=\"data row2 col4\" >288</td>\n",
       "                        <td id=\"T_81a840f6_db91_11ea_b558_988389829bcfrow2_col5\" class=\"data row2 col5\" >10816</td>\n",
       "                        <td id=\"T_81a840f6_db91_11ea_b558_988389829bcfrow2_col6\" class=\"data row2 col6\" >9195</td>\n",
       "                        <td id=\"T_81a840f6_db91_11ea_b558_988389829bcfrow2_col7\" class=\"data row2 col7\" >1025</td>\n",
       "                        <td id=\"T_81a840f6_db91_11ea_b558_988389829bcfrow2_col8\" class=\"data row2 col8\" >0</td>\n",
       "                        <td id=\"T_81a840f6_db91_11ea_b558_988389829bcfrow2_col9\" class=\"data row2 col9\" >0</td>\n",
       "            </tr>\n",
       "            <tr>\n",
       "                        <th id=\"T_81a840f6_db91_11ea_b558_988389829bcflevel0_row3\" class=\"row_heading level0 row3\" >2015</th>\n",
       "                        <td id=\"T_81a840f6_db91_11ea_b558_988389829bcfrow3_col0\" class=\"data row3 col0\" >5267</td>\n",
       "                        <td id=\"T_81a840f6_db91_11ea_b558_988389829bcfrow3_col1\" class=\"data row3 col1\" >1974</td>\n",
       "                        <td id=\"T_81a840f6_db91_11ea_b558_988389829bcfrow3_col2\" class=\"data row3 col2\" >6283</td>\n",
       "                        <td id=\"T_81a840f6_db91_11ea_b558_988389829bcfrow3_col3\" class=\"data row3 col3\" >168</td>\n",
       "                        <td id=\"T_81a840f6_db91_11ea_b558_988389829bcfrow3_col4\" class=\"data row3 col4\" >288</td>\n",
       "                        <td id=\"T_81a840f6_db91_11ea_b558_988389829bcfrow3_col5\" class=\"data row3 col5\" >6001</td>\n",
       "                        <td id=\"T_81a840f6_db91_11ea_b558_988389829bcfrow3_col6\" class=\"data row3 col6\" >4430</td>\n",
       "                        <td id=\"T_81a840f6_db91_11ea_b558_988389829bcfrow3_col7\" class=\"data row3 col7\" >795</td>\n",
       "                        <td id=\"T_81a840f6_db91_11ea_b558_988389829bcfrow3_col8\" class=\"data row3 col8\" >0</td>\n",
       "                        <td id=\"T_81a840f6_db91_11ea_b558_988389829bcfrow3_col9\" class=\"data row3 col9\" >0</td>\n",
       "            </tr>\n",
       "            <tr>\n",
       "                        <th id=\"T_81a840f6_db91_11ea_b558_988389829bcflevel0_row4\" class=\"row_heading level0 row4\" >2016</th>\n",
       "                        <td id=\"T_81a840f6_db91_11ea_b558_988389829bcfrow4_col0\" class=\"data row4 col0\" >5610</td>\n",
       "                        <td id=\"T_81a840f6_db91_11ea_b558_988389829bcfrow4_col1\" class=\"data row4 col1\" >2219</td>\n",
       "                        <td id=\"T_81a840f6_db91_11ea_b558_988389829bcfrow4_col2\" class=\"data row4 col2\" >6418</td>\n",
       "                        <td id=\"T_81a840f6_db91_11ea_b558_988389829bcfrow4_col3\" class=\"data row4 col3\" >168</td>\n",
       "                        <td id=\"T_81a840f6_db91_11ea_b558_988389829bcfrow4_col4\" class=\"data row4 col4\" >288</td>\n",
       "                        <td id=\"T_81a840f6_db91_11ea_b558_988389829bcfrow4_col5\" class=\"data row4 col5\" >5439</td>\n",
       "                        <td id=\"T_81a840f6_db91_11ea_b558_988389829bcfrow4_col6\" class=\"data row4 col6\" >3990</td>\n",
       "                        <td id=\"T_81a840f6_db91_11ea_b558_988389829bcfrow4_col7\" class=\"data row4 col7\" >688</td>\n",
       "                        <td id=\"T_81a840f6_db91_11ea_b558_988389829bcfrow4_col8\" class=\"data row4 col8\" >0</td>\n",
       "                        <td id=\"T_81a840f6_db91_11ea_b558_988389829bcfrow4_col9\" class=\"data row4 col9\" >0</td>\n",
       "            </tr>\n",
       "            <tr>\n",
       "                        <th id=\"T_81a840f6_db91_11ea_b558_988389829bcflevel0_row5\" class=\"row_heading level0 row5\" >2017</th>\n",
       "                        <td id=\"T_81a840f6_db91_11ea_b558_988389829bcfrow5_col0\" class=\"data row5 col0\" >5860</td>\n",
       "                        <td id=\"T_81a840f6_db91_11ea_b558_988389829bcfrow5_col1\" class=\"data row5 col1\" >2471</td>\n",
       "                        <td id=\"T_81a840f6_db91_11ea_b558_988389829bcfrow5_col2\" class=\"data row5 col2\" >6832</td>\n",
       "                        <td id=\"T_81a840f6_db91_11ea_b558_988389829bcfrow5_col3\" class=\"data row5 col3\" >168</td>\n",
       "                        <td id=\"T_81a840f6_db91_11ea_b558_988389829bcfrow5_col4\" class=\"data row5 col4\" >288</td>\n",
       "                        <td id=\"T_81a840f6_db91_11ea_b558_988389829bcfrow5_col5\" class=\"data row5 col5\" >5931</td>\n",
       "                        <td id=\"T_81a840f6_db91_11ea_b558_988389829bcfrow5_col6\" class=\"data row5 col6\" >3519</td>\n",
       "                        <td id=\"T_81a840f6_db91_11ea_b558_988389829bcfrow5_col7\" class=\"data row5 col7\" >210</td>\n",
       "                        <td id=\"T_81a840f6_db91_11ea_b558_988389829bcfrow5_col8\" class=\"data row5 col8\" >0</td>\n",
       "                        <td id=\"T_81a840f6_db91_11ea_b558_988389829bcfrow5_col9\" class=\"data row5 col9\" >0</td>\n",
       "            </tr>\n",
       "            <tr>\n",
       "                        <th id=\"T_81a840f6_db91_11ea_b558_988389829bcflevel0_row6\" class=\"row_heading level0 row6\" >2018</th>\n",
       "                        <td id=\"T_81a840f6_db91_11ea_b558_988389829bcfrow6_col0\" class=\"data row6 col0\" >6205</td>\n",
       "                        <td id=\"T_81a840f6_db91_11ea_b558_988389829bcfrow6_col1\" class=\"data row6 col1\" >2750</td>\n",
       "                        <td id=\"T_81a840f6_db91_11ea_b558_988389829bcfrow6_col2\" class=\"data row6 col2\" >7545</td>\n",
       "                        <td id=\"T_81a840f6_db91_11ea_b558_988389829bcfrow6_col3\" class=\"data row6 col3\" >108</td>\n",
       "                        <td id=\"T_81a840f6_db91_11ea_b558_988389829bcfrow6_col4\" class=\"data row6 col4\" >240</td>\n",
       "                        <td id=\"T_81a840f6_db91_11ea_b558_988389829bcfrow6_col5\" class=\"data row6 col5\" >5973</td>\n",
       "                        <td id=\"T_81a840f6_db91_11ea_b558_988389829bcfrow6_col6\" class=\"data row6 col6\" >3383</td>\n",
       "                        <td id=\"T_81a840f6_db91_11ea_b558_988389829bcfrow6_col7\" class=\"data row6 col7\" >31</td>\n",
       "                        <td id=\"T_81a840f6_db91_11ea_b558_988389829bcfrow6_col8\" class=\"data row6 col8\" >0</td>\n",
       "                        <td id=\"T_81a840f6_db91_11ea_b558_988389829bcfrow6_col9\" class=\"data row6 col9\" >0</td>\n",
       "            </tr>\n",
       "            <tr>\n",
       "                        <th id=\"T_81a840f6_db91_11ea_b558_988389829bcflevel0_row7\" class=\"row_heading level0 row7\" >2019</th>\n",
       "                        <td id=\"T_81a840f6_db91_11ea_b558_988389829bcfrow7_col0\" class=\"data row7 col0\" >5693</td>\n",
       "                        <td id=\"T_81a840f6_db91_11ea_b558_988389829bcfrow7_col1\" class=\"data row7 col1\" >2839</td>\n",
       "                        <td id=\"T_81a840f6_db91_11ea_b558_988389829bcfrow7_col2\" class=\"data row7 col2\" >7081</td>\n",
       "                        <td id=\"T_81a840f6_db91_11ea_b558_988389829bcfrow7_col3\" class=\"data row7 col3\" >115</td>\n",
       "                        <td id=\"T_81a840f6_db91_11ea_b558_988389829bcfrow7_col4\" class=\"data row7 col4\" >220</td>\n",
       "                        <td id=\"T_81a840f6_db91_11ea_b558_988389829bcfrow7_col5\" class=\"data row7 col5\" >4271</td>\n",
       "                        <td id=\"T_81a840f6_db91_11ea_b558_988389829bcfrow7_col6\" class=\"data row7 col6\" >2931</td>\n",
       "                        <td id=\"T_81a840f6_db91_11ea_b558_988389829bcfrow7_col7\" class=\"data row7 col7\" >9</td>\n",
       "                        <td id=\"T_81a840f6_db91_11ea_b558_988389829bcfrow7_col8\" class=\"data row7 col8\" >0</td>\n",
       "                        <td id=\"T_81a840f6_db91_11ea_b558_988389829bcfrow7_col9\" class=\"data row7 col9\" >0</td>\n",
       "            </tr>\n",
       "    </tbody></table>"
      ],
      "text/plain": [
       "<pandas.io.formats.style.Styler at 0x1552058e6c8>"
      ]
     },
     "execution_count": 16,
     "metadata": {},
     "output_type": "execute_result"
    }
   ],
   "source": [
    "public.style.background_gradient(cmap='summer')"
   ]
  },
  {
   "cell_type": "code",
   "execution_count": 17,
   "metadata": {},
   "outputs": [
    {
     "data": {
      "text/html": [
       "<div>\n",
       "<style scoped>\n",
       "    .dataframe tbody tr th:only-of-type {\n",
       "        vertical-align: middle;\n",
       "    }\n",
       "\n",
       "    .dataframe tbody tr th {\n",
       "        vertical-align: top;\n",
       "    }\n",
       "\n",
       "    .dataframe thead th {\n",
       "        text-align: right;\n",
       "    }\n",
       "</style>\n",
       "<table border=\"1\" class=\"dataframe\">\n",
       "  <thead>\n",
       "    <tr style=\"text-align: right;\">\n",
       "      <th>분류</th>\n",
       "      <th>일반관리비</th>\n",
       "      <th>청소비</th>\n",
       "      <th>경비비</th>\n",
       "      <th>소독비</th>\n",
       "      <th>승강기유지비</th>\n",
       "      <th>난방비</th>\n",
       "      <th>급탕비</th>\n",
       "      <th>수선유지비</th>\n",
       "    </tr>\n",
       "    <tr>\n",
       "      <th>연도</th>\n",
       "      <th></th>\n",
       "      <th></th>\n",
       "      <th></th>\n",
       "      <th></th>\n",
       "      <th></th>\n",
       "      <th></th>\n",
       "      <th></th>\n",
       "      <th></th>\n",
       "    </tr>\n",
       "  </thead>\n",
       "  <tbody>\n",
       "    <tr>\n",
       "      <th>2012</th>\n",
       "      <td>3619</td>\n",
       "      <td>1290</td>\n",
       "      <td>4282</td>\n",
       "      <td>126</td>\n",
       "      <td>216</td>\n",
       "      <td>5184</td>\n",
       "      <td>3856</td>\n",
       "      <td>639</td>\n",
       "    </tr>\n",
       "    <tr>\n",
       "      <th>2013</th>\n",
       "      <td>4425</td>\n",
       "      <td>1672</td>\n",
       "      <td>5280</td>\n",
       "      <td>154</td>\n",
       "      <td>264</td>\n",
       "      <td>6292</td>\n",
       "      <td>4612</td>\n",
       "      <td>726</td>\n",
       "    </tr>\n",
       "    <tr>\n",
       "      <th>2014</th>\n",
       "      <td>5144</td>\n",
       "      <td>1856</td>\n",
       "      <td>5892</td>\n",
       "      <td>168</td>\n",
       "      <td>288</td>\n",
       "      <td>10816</td>\n",
       "      <td>9195</td>\n",
       "      <td>1025</td>\n",
       "    </tr>\n",
       "    <tr>\n",
       "      <th>2015</th>\n",
       "      <td>5267</td>\n",
       "      <td>1974</td>\n",
       "      <td>6283</td>\n",
       "      <td>168</td>\n",
       "      <td>288</td>\n",
       "      <td>6001</td>\n",
       "      <td>4430</td>\n",
       "      <td>795</td>\n",
       "    </tr>\n",
       "    <tr>\n",
       "      <th>2016</th>\n",
       "      <td>5610</td>\n",
       "      <td>2219</td>\n",
       "      <td>6418</td>\n",
       "      <td>168</td>\n",
       "      <td>288</td>\n",
       "      <td>5439</td>\n",
       "      <td>3990</td>\n",
       "      <td>688</td>\n",
       "    </tr>\n",
       "    <tr>\n",
       "      <th>2017</th>\n",
       "      <td>5860</td>\n",
       "      <td>2471</td>\n",
       "      <td>6832</td>\n",
       "      <td>168</td>\n",
       "      <td>288</td>\n",
       "      <td>5931</td>\n",
       "      <td>3519</td>\n",
       "      <td>210</td>\n",
       "    </tr>\n",
       "    <tr>\n",
       "      <th>2018</th>\n",
       "      <td>6205</td>\n",
       "      <td>2750</td>\n",
       "      <td>7545</td>\n",
       "      <td>108</td>\n",
       "      <td>240</td>\n",
       "      <td>5973</td>\n",
       "      <td>3383</td>\n",
       "      <td>31</td>\n",
       "    </tr>\n",
       "    <tr>\n",
       "      <th>2019</th>\n",
       "      <td>5693</td>\n",
       "      <td>2839</td>\n",
       "      <td>7081</td>\n",
       "      <td>115</td>\n",
       "      <td>220</td>\n",
       "      <td>4271</td>\n",
       "      <td>2931</td>\n",
       "      <td>9</td>\n",
       "    </tr>\n",
       "  </tbody>\n",
       "</table>\n",
       "</div>"
      ],
      "text/plain": [
       "분류    일반관리비   청소비   경비비  소독비  승강기유지비    난방비   급탕비  수선유지비\n",
       "연도                                                      \n",
       "2012   3619  1290  4282  126     216   5184  3856    639\n",
       "2013   4425  1672  5280  154     264   6292  4612    726\n",
       "2014   5144  1856  5892  168     288  10816  9195   1025\n",
       "2015   5267  1974  6283  168     288   6001  4430    795\n",
       "2016   5610  2219  6418  168     288   5439  3990    688\n",
       "2017   5860  2471  6832  168     288   5931  3519    210\n",
       "2018   6205  2750  7545  108     240   5973  3383     31\n",
       "2019   5693  2839  7081  115     220   4271  2931      9"
      ]
     },
     "execution_count": 17,
     "metadata": {},
     "output_type": "execute_result"
    }
   ],
   "source": [
    "public = public.loc[:,['일반관리비','청소비','경비비','소독비','승강기유지비','난방비','급탕비','수선유지비']]\n",
    "public"
   ]
  },
  {
   "cell_type": "code",
   "execution_count": 18,
   "metadata": {},
   "outputs": [],
   "source": [
    "min_max_scaler = MinMaxScaler()\n",
    "fitted = min_max_scaler.fit(public)\n",
    "public_fitted = min_max_scaler.transform(public)\n",
    "public2 = pd.DataFrame(public_fitted, columns=['일반관리비','청소비','경비비','소독비','승강기유지비','난방비','급탕비','수선유지비'],\n",
    "                      index=['2012','2013','2014','2015','2016','2017','2018','2019'])"
   ]
  },
  {
   "cell_type": "code",
   "execution_count": 19,
   "metadata": {},
   "outputs": [
    {
     "data": {
      "text/html": [
       "<div>\n",
       "<style scoped>\n",
       "    .dataframe tbody tr th:only-of-type {\n",
       "        vertical-align: middle;\n",
       "    }\n",
       "\n",
       "    .dataframe tbody tr th {\n",
       "        vertical-align: top;\n",
       "    }\n",
       "\n",
       "    .dataframe thead th {\n",
       "        text-align: right;\n",
       "    }\n",
       "</style>\n",
       "<table border=\"1\" class=\"dataframe\">\n",
       "  <thead>\n",
       "    <tr style=\"text-align: right;\">\n",
       "      <th></th>\n",
       "      <th>일반관리비</th>\n",
       "      <th>청소비</th>\n",
       "      <th>경비비</th>\n",
       "      <th>소독비</th>\n",
       "      <th>승강기유지비</th>\n",
       "      <th>난방비</th>\n",
       "      <th>급탕비</th>\n",
       "      <th>수선유지비</th>\n",
       "    </tr>\n",
       "  </thead>\n",
       "  <tbody>\n",
       "    <tr>\n",
       "      <th>일반관리비</th>\n",
       "      <td>1.000000</td>\n",
       "      <td>0.921678</td>\n",
       "      <td>0.983430</td>\n",
       "      <td>-0.028953</td>\n",
       "      <td>0.302179</td>\n",
       "      <td>-0.035920</td>\n",
       "      <td>-0.178994</td>\n",
       "      <td>-0.551735</td>\n",
       "    </tr>\n",
       "    <tr>\n",
       "      <th>청소비</th>\n",
       "      <td>0.921678</td>\n",
       "      <td>1.000000</td>\n",
       "      <td>0.964002</td>\n",
       "      <td>-0.328901</td>\n",
       "      <td>-0.047447</td>\n",
       "      <td>-0.283840</td>\n",
       "      <td>-0.398636</td>\n",
       "      <td>-0.790485</td>\n",
       "    </tr>\n",
       "    <tr>\n",
       "      <th>경비비</th>\n",
       "      <td>0.983430</td>\n",
       "      <td>0.964002</td>\n",
       "      <td>1.000000</td>\n",
       "      <td>-0.175690</td>\n",
       "      <td>0.154932</td>\n",
       "      <td>-0.133690</td>\n",
       "      <td>-0.271631</td>\n",
       "      <td>-0.652982</td>\n",
       "    </tr>\n",
       "    <tr>\n",
       "      <th>소독비</th>\n",
       "      <td>-0.028953</td>\n",
       "      <td>-0.328901</td>\n",
       "      <td>-0.175690</td>\n",
       "      <td>1.000000</td>\n",
       "      <td>0.921151</td>\n",
       "      <td>0.456542</td>\n",
       "      <td>0.479470</td>\n",
       "      <td>0.685450</td>\n",
       "    </tr>\n",
       "    <tr>\n",
       "      <th>승강기유지비</th>\n",
       "      <td>0.302179</td>\n",
       "      <td>-0.047447</td>\n",
       "      <td>0.154932</td>\n",
       "      <td>0.921151</td>\n",
       "      <td>1.000000</td>\n",
       "      <td>0.508048</td>\n",
       "      <td>0.458358</td>\n",
       "      <td>0.517049</td>\n",
       "    </tr>\n",
       "    <tr>\n",
       "      <th>난방비</th>\n",
       "      <td>-0.035920</td>\n",
       "      <td>-0.283840</td>\n",
       "      <td>-0.133690</td>\n",
       "      <td>0.456542</td>\n",
       "      <td>0.508048</td>\n",
       "      <td>1.000000</td>\n",
       "      <td>0.969913</td>\n",
       "      <td>0.619961</td>\n",
       "    </tr>\n",
       "    <tr>\n",
       "      <th>급탕비</th>\n",
       "      <td>-0.178994</td>\n",
       "      <td>-0.398636</td>\n",
       "      <td>-0.271631</td>\n",
       "      <td>0.479470</td>\n",
       "      <td>0.458358</td>\n",
       "      <td>0.969913</td>\n",
       "      <td>1.000000</td>\n",
       "      <td>0.733869</td>\n",
       "    </tr>\n",
       "    <tr>\n",
       "      <th>수선유지비</th>\n",
       "      <td>-0.551735</td>\n",
       "      <td>-0.790485</td>\n",
       "      <td>-0.652982</td>\n",
       "      <td>0.685450</td>\n",
       "      <td>0.517049</td>\n",
       "      <td>0.619961</td>\n",
       "      <td>0.733869</td>\n",
       "      <td>1.000000</td>\n",
       "    </tr>\n",
       "  </tbody>\n",
       "</table>\n",
       "</div>"
      ],
      "text/plain": [
       "           일반관리비       청소비       경비비       소독비    승강기유지비       난방비       급탕비  \\\n",
       "일반관리비   1.000000  0.921678  0.983430 -0.028953  0.302179 -0.035920 -0.178994   \n",
       "청소비     0.921678  1.000000  0.964002 -0.328901 -0.047447 -0.283840 -0.398636   \n",
       "경비비     0.983430  0.964002  1.000000 -0.175690  0.154932 -0.133690 -0.271631   \n",
       "소독비    -0.028953 -0.328901 -0.175690  1.000000  0.921151  0.456542  0.479470   \n",
       "승강기유지비  0.302179 -0.047447  0.154932  0.921151  1.000000  0.508048  0.458358   \n",
       "난방비    -0.035920 -0.283840 -0.133690  0.456542  0.508048  1.000000  0.969913   \n",
       "급탕비    -0.178994 -0.398636 -0.271631  0.479470  0.458358  0.969913  1.000000   \n",
       "수선유지비  -0.551735 -0.790485 -0.652982  0.685450  0.517049  0.619961  0.733869   \n",
       "\n",
       "           수선유지비  \n",
       "일반관리비  -0.551735  \n",
       "청소비    -0.790485  \n",
       "경비비    -0.652982  \n",
       "소독비     0.685450  \n",
       "승강기유지비  0.517049  \n",
       "난방비     0.619961  \n",
       "급탕비     0.733869  \n",
       "수선유지비   1.000000  "
      ]
     },
     "execution_count": 19,
     "metadata": {},
     "output_type": "execute_result"
    }
   ],
   "source": [
    "public2.corr()"
   ]
  },
  {
   "cell_type": "code",
   "execution_count": 20,
   "metadata": {},
   "outputs": [
    {
     "data": {
      "image/png": "[encoded data removed]",
      "text/plain": [
       "<Figure size 576x432 with 2 Axes>"
      ]
     },
     "metadata": {
      "needs_background": "light"
     },
     "output_type": "display_data"
    }
   ],
   "source": [
    "ax = sns.heatmap(public2)\n",
    "plt.title('public_fee', fontsize=20)\n",
    "plt.show() "
   ]
  },
  {
   "cell_type": "code",
   "execution_count": 21,
   "metadata": {},
   "outputs": [
    {
     "data": {
      "text/html": [
       "<style  type=\"text/css\" >\n",
       "#T_81d857d2_db91_11ea_a402_988389829bcfrow0_col0,#T_81d857d2_db91_11ea_a402_988389829bcfrow0_col1,#T_81d857d2_db91_11ea_a402_988389829bcfrow0_col3,#T_81d857d2_db91_11ea_a402_988389829bcfrow0_col4,#T_81d857d2_db91_11ea_a402_988389829bcfrow0_col5,#T_81d857d2_db91_11ea_a402_988389829bcfrow0_col6,#T_81d857d2_db91_11ea_a402_988389829bcfrow1_col3,#T_81d857d2_db91_11ea_a402_988389829bcfrow1_col4,#T_81d857d2_db91_11ea_a402_988389829bcfrow1_col5,#T_81d857d2_db91_11ea_a402_988389829bcfrow1_col6,#T_81d857d2_db91_11ea_a402_988389829bcfrow2_col3,#T_81d857d2_db91_11ea_a402_988389829bcfrow2_col4,#T_81d857d2_db91_11ea_a402_988389829bcfrow2_col5,#T_81d857d2_db91_11ea_a402_988389829bcfrow3_col3,#T_81d857d2_db91_11ea_a402_988389829bcfrow3_col5,#T_81d857d2_db91_11ea_a402_988389829bcfrow4_col3,#T_81d857d2_db91_11ea_a402_988389829bcfrow4_col5,#T_81d857d2_db91_11ea_a402_988389829bcfrow5_col2,#T_81d857d2_db91_11ea_a402_988389829bcfrow5_col3,#T_81d857d2_db91_11ea_a402_988389829bcfrow5_col5,#T_81d857d2_db91_11ea_a402_988389829bcfrow6_col3,#T_81d857d2_db91_11ea_a402_988389829bcfrow6_col5,#T_81d857d2_db91_11ea_a402_988389829bcfrow7_col3,#T_81d857d2_db91_11ea_a402_988389829bcfrow7_col4,#T_81d857d2_db91_11ea_a402_988389829bcfrow7_col5{\n",
       "            background-color:  #008066;\n",
       "            color:  #f1f1f1;\n",
       "        }#T_81d857d2_db91_11ea_a402_988389829bcfrow0_col2,#T_81d857d2_db91_11ea_a402_988389829bcfrow3_col4,#T_81d857d2_db91_11ea_a402_988389829bcfrow3_col6,#T_81d857d2_db91_11ea_a402_988389829bcfrow4_col6,#T_81d857d2_db91_11ea_a402_988389829bcfrow5_col6,#T_81d857d2_db91_11ea_a402_988389829bcfrow6_col0,#T_81d857d2_db91_11ea_a402_988389829bcfrow6_col1,#T_81d857d2_db91_11ea_a402_988389829bcfrow6_col6{\n",
       "            background-color:  #ffff66;\n",
       "            color:  #000000;\n",
       "        }#T_81d857d2_db91_11ea_a402_988389829bcfrow1_col0{\n",
       "            background-color:  #4fa766;\n",
       "            color:  #000000;\n",
       "        }#T_81d857d2_db91_11ea_a402_988389829bcfrow1_col1{\n",
       "            background-color:  #6ab466;\n",
       "            color:  #000000;\n",
       "        }#T_81d857d2_db91_11ea_a402_988389829bcfrow1_col2{\n",
       "            background-color:  #c2e066;\n",
       "            color:  #000000;\n",
       "        }#T_81d857d2_db91_11ea_a402_988389829bcfrow2_col0{\n",
       "            background-color:  #98cc66;\n",
       "            color:  #000000;\n",
       "        }#T_81d857d2_db91_11ea_a402_988389829bcfrow2_col1{\n",
       "            background-color:  #cae466;\n",
       "            color:  #000000;\n",
       "        }#T_81d857d2_db91_11ea_a402_988389829bcfrow2_col2{\n",
       "            background-color:  #2a9466;\n",
       "            color:  #000000;\n",
       "        }#T_81d857d2_db91_11ea_a402_988389829bcfrow2_col6{\n",
       "            background-color:  #80c066;\n",
       "            color:  #000000;\n",
       "        }#T_81d857d2_db91_11ea_a402_988389829bcfrow3_col0{\n",
       "            background-color:  #a3d166;\n",
       "            color:  #000000;\n",
       "        }#T_81d857d2_db91_11ea_a402_988389829bcfrow3_col1{\n",
       "            background-color:  #badc66;\n",
       "            color:  #000000;\n",
       "        }#T_81d857d2_db91_11ea_a402_988389829bcfrow3_col2{\n",
       "            background-color:  #068266;\n",
       "            color:  #f1f1f1;\n",
       "        }#T_81d857d2_db91_11ea_a402_988389829bcfrow4_col0{\n",
       "            background-color:  #c5e266;\n",
       "            color:  #000000;\n",
       "        }#T_81d857d2_db91_11ea_a402_988389829bcfrow4_col1{\n",
       "            background-color:  #cee666;\n",
       "            color:  #000000;\n",
       "        }#T_81d857d2_db91_11ea_a402_988389829bcfrow4_col2{\n",
       "            background-color:  #0b8566;\n",
       "            color:  #000000;\n",
       "        }#T_81d857d2_db91_11ea_a402_988389829bcfrow4_col4,#T_81d857d2_db91_11ea_a402_988389829bcfrow5_col4{\n",
       "            background-color:  #66b266;\n",
       "            color:  #000000;\n",
       "        }#T_81d857d2_db91_11ea_a402_988389829bcfrow5_col0{\n",
       "            background-color:  #deee66;\n",
       "            color:  #000000;\n",
       "        }#T_81d857d2_db91_11ea_a402_988389829bcfrow5_col1{\n",
       "            background-color:  #e1f066;\n",
       "            color:  #000000;\n",
       "        }#T_81d857d2_db91_11ea_a402_988389829bcfrow6_col2{\n",
       "            background-color:  #018066;\n",
       "            color:  #f1f1f1;\n",
       "        }#T_81d857d2_db91_11ea_a402_988389829bcfrow6_col4{\n",
       "            background-color:  #339966;\n",
       "            color:  #000000;\n",
       "        }#T_81d857d2_db91_11ea_a402_988389829bcfrow7_col0{\n",
       "            background-color:  #cde666;\n",
       "            color:  #000000;\n",
       "        }#T_81d857d2_db91_11ea_a402_988389829bcfrow7_col1,#T_81d857d2_db91_11ea_a402_988389829bcfrow7_col6{\n",
       "            background-color:  #eaf466;\n",
       "            color:  #000000;\n",
       "        }#T_81d857d2_db91_11ea_a402_988389829bcfrow7_col2{\n",
       "            background-color:  #038166;\n",
       "            color:  #f1f1f1;\n",
       "        }</style><table id=\"T_81d857d2_db91_11ea_a402_988389829bcf\" ><thead>    <tr>        <th class=\"index_name level0\" >분류</th>        <th class=\"col_heading level0 col0\" >인건비</th>        <th class=\"col_heading level0 col1\" >제사무비</th>        <th class=\"col_heading level0 col2\" >제세공과금</th>        <th class=\"col_heading level0 col3\" >피복비</th>        <th class=\"col_heading level0 col4\" >교육훈련비</th>        <th class=\"col_heading level0 col5\" >차량유지비</th>        <th class=\"col_heading level0 col6\" >그밖의부대비용</th>    </tr>    <tr>        <th class=\"index_name level0\" >연도</th>        <th class=\"blank\" ></th>        <th class=\"blank\" ></th>        <th class=\"blank\" ></th>        <th class=\"blank\" ></th>        <th class=\"blank\" ></th>        <th class=\"blank\" ></th>        <th class=\"blank\" ></th>    </tr></thead><tbody>\n",
       "                <tr>\n",
       "                        <th id=\"T_81d857d2_db91_11ea_a402_988389829bcflevel0_row0\" class=\"row_heading level0 row0\" >2012</th>\n",
       "                        <td id=\"T_81d857d2_db91_11ea_a402_988389829bcfrow0_col0\" class=\"data row0 col0\" >3378</td>\n",
       "                        <td id=\"T_81d857d2_db91_11ea_a402_988389829bcfrow0_col1\" class=\"data row0 col1\" >56</td>\n",
       "                        <td id=\"T_81d857d2_db91_11ea_a402_988389829bcfrow0_col2\" class=\"data row0 col2\" >187</td>\n",
       "                        <td id=\"T_81d857d2_db91_11ea_a402_988389829bcfrow0_col3\" class=\"data row0 col3\" >0</td>\n",
       "                        <td id=\"T_81d857d2_db91_11ea_a402_988389829bcfrow0_col4\" class=\"data row0 col4\" >0</td>\n",
       "                        <td id=\"T_81d857d2_db91_11ea_a402_988389829bcfrow0_col5\" class=\"data row0 col5\" >0</td>\n",
       "                        <td id=\"T_81d857d2_db91_11ea_a402_988389829bcfrow0_col6\" class=\"data row0 col6\" >0</td>\n",
       "            </tr>\n",
       "            <tr>\n",
       "                        <th id=\"T_81d857d2_db91_11ea_a402_988389829bcflevel0_row1\" class=\"row_heading level0 row1\" >2013</th>\n",
       "                        <td id=\"T_81d857d2_db91_11ea_a402_988389829bcfrow1_col0\" class=\"data row1 col0\" >4148</td>\n",
       "                        <td id=\"T_81d857d2_db91_11ea_a402_988389829bcfrow1_col1\" class=\"data row1 col1\" >125</td>\n",
       "                        <td id=\"T_81d857d2_db91_11ea_a402_988389829bcfrow1_col2\" class=\"data row1 col2\" >151</td>\n",
       "                        <td id=\"T_81d857d2_db91_11ea_a402_988389829bcfrow1_col3\" class=\"data row1 col3\" >0</td>\n",
       "                        <td id=\"T_81d857d2_db91_11ea_a402_988389829bcfrow1_col4\" class=\"data row1 col4\" >0</td>\n",
       "                        <td id=\"T_81d857d2_db91_11ea_a402_988389829bcfrow1_col5\" class=\"data row1 col5\" >0</td>\n",
       "                        <td id=\"T_81d857d2_db91_11ea_a402_988389829bcfrow1_col6\" class=\"data row1 col6\" >0</td>\n",
       "            </tr>\n",
       "            <tr>\n",
       "                        <th id=\"T_81d857d2_db91_11ea_a402_988389829bcflevel0_row2\" class=\"row_heading level0 row2\" >2014</th>\n",
       "                        <td id=\"T_81d857d2_db91_11ea_a402_988389829bcfrow2_col0\" class=\"data row2 col0\" >4859</td>\n",
       "                        <td id=\"T_81d857d2_db91_11ea_a402_988389829bcfrow2_col1\" class=\"data row2 col1\" >187</td>\n",
       "                        <td id=\"T_81d857d2_db91_11ea_a402_988389829bcfrow2_col2\" class=\"data row2 col2\" >62</td>\n",
       "                        <td id=\"T_81d857d2_db91_11ea_a402_988389829bcfrow2_col3\" class=\"data row2 col3\" >0</td>\n",
       "                        <td id=\"T_81d857d2_db91_11ea_a402_988389829bcfrow2_col4\" class=\"data row2 col4\" >0</td>\n",
       "                        <td id=\"T_81d857d2_db91_11ea_a402_988389829bcfrow2_col5\" class=\"data row2 col5\" >0</td>\n",
       "                        <td id=\"T_81d857d2_db91_11ea_a402_988389829bcfrow2_col6\" class=\"data row2 col6\" >36</td>\n",
       "            </tr>\n",
       "            <tr>\n",
       "                        <th id=\"T_81d857d2_db91_11ea_a402_988389829bcflevel0_row3\" class=\"row_heading level0 row3\" >2015</th>\n",
       "                        <td id=\"T_81d857d2_db91_11ea_a402_988389829bcfrow3_col0\" class=\"data row3 col0\" >4971</td>\n",
       "                        <td id=\"T_81d857d2_db91_11ea_a402_988389829bcfrow3_col1\" class=\"data row3 col1\" >177</td>\n",
       "                        <td id=\"T_81d857d2_db91_11ea_a402_988389829bcfrow3_col2\" class=\"data row3 col2\" >41</td>\n",
       "                        <td id=\"T_81d857d2_db91_11ea_a402_988389829bcfrow3_col3\" class=\"data row3 col3\" >0</td>\n",
       "                        <td id=\"T_81d857d2_db91_11ea_a402_988389829bcfrow3_col4\" class=\"data row3 col4\" >5</td>\n",
       "                        <td id=\"T_81d857d2_db91_11ea_a402_988389829bcfrow3_col5\" class=\"data row3 col5\" >0</td>\n",
       "                        <td id=\"T_81d857d2_db91_11ea_a402_988389829bcfrow3_col6\" class=\"data row3 col6\" >72</td>\n",
       "            </tr>\n",
       "            <tr>\n",
       "                        <th id=\"T_81d857d2_db91_11ea_a402_988389829bcflevel0_row4\" class=\"row_heading level0 row4\" >2016</th>\n",
       "                        <td id=\"T_81d857d2_db91_11ea_a402_988389829bcfrow4_col0\" class=\"data row4 col0\" >5300</td>\n",
       "                        <td id=\"T_81d857d2_db91_11ea_a402_988389829bcfrow4_col1\" class=\"data row4 col1\" >190</td>\n",
       "                        <td id=\"T_81d857d2_db91_11ea_a402_988389829bcfrow4_col2\" class=\"data row4 col2\" >44</td>\n",
       "                        <td id=\"T_81d857d2_db91_11ea_a402_988389829bcfrow4_col3\" class=\"data row4 col3\" >0</td>\n",
       "                        <td id=\"T_81d857d2_db91_11ea_a402_988389829bcfrow4_col4\" class=\"data row4 col4\" >2</td>\n",
       "                        <td id=\"T_81d857d2_db91_11ea_a402_988389829bcfrow4_col5\" class=\"data row4 col5\" >0</td>\n",
       "                        <td id=\"T_81d857d2_db91_11ea_a402_988389829bcfrow4_col6\" class=\"data row4 col6\" >72</td>\n",
       "            </tr>\n",
       "            <tr>\n",
       "                        <th id=\"T_81d857d2_db91_11ea_a402_988389829bcflevel0_row5\" class=\"row_heading level0 row5\" >2017</th>\n",
       "                        <td id=\"T_81d857d2_db91_11ea_a402_988389829bcfrow5_col0\" class=\"data row5 col0\" >5546</td>\n",
       "                        <td id=\"T_81d857d2_db91_11ea_a402_988389829bcfrow5_col1\" class=\"data row5 col1\" >202</td>\n",
       "                        <td id=\"T_81d857d2_db91_11ea_a402_988389829bcfrow5_col2\" class=\"data row5 col2\" >37</td>\n",
       "                        <td id=\"T_81d857d2_db91_11ea_a402_988389829bcfrow5_col3\" class=\"data row5 col3\" >0</td>\n",
       "                        <td id=\"T_81d857d2_db91_11ea_a402_988389829bcfrow5_col4\" class=\"data row5 col4\" >2</td>\n",
       "                        <td id=\"T_81d857d2_db91_11ea_a402_988389829bcfrow5_col5\" class=\"data row5 col5\" >0</td>\n",
       "                        <td id=\"T_81d857d2_db91_11ea_a402_988389829bcfrow5_col6\" class=\"data row5 col6\" >72</td>\n",
       "            </tr>\n",
       "            <tr>\n",
       "                        <th id=\"T_81d857d2_db91_11ea_a402_988389829bcflevel0_row6\" class=\"row_heading level0 row6\" >2018</th>\n",
       "                        <td id=\"T_81d857d2_db91_11ea_a402_988389829bcfrow6_col0\" class=\"data row6 col0\" >5870</td>\n",
       "                        <td id=\"T_81d857d2_db91_11ea_a402_988389829bcfrow6_col1\" class=\"data row6 col1\" >222</td>\n",
       "                        <td id=\"T_81d857d2_db91_11ea_a402_988389829bcfrow6_col2\" class=\"data row6 col2\" >38</td>\n",
       "                        <td id=\"T_81d857d2_db91_11ea_a402_988389829bcfrow6_col3\" class=\"data row6 col3\" >0</td>\n",
       "                        <td id=\"T_81d857d2_db91_11ea_a402_988389829bcfrow6_col4\" class=\"data row6 col4\" >1</td>\n",
       "                        <td id=\"T_81d857d2_db91_11ea_a402_988389829bcfrow6_col5\" class=\"data row6 col5\" >0</td>\n",
       "                        <td id=\"T_81d857d2_db91_11ea_a402_988389829bcfrow6_col6\" class=\"data row6 col6\" >72</td>\n",
       "            </tr>\n",
       "            <tr>\n",
       "                        <th id=\"T_81d857d2_db91_11ea_a402_988389829bcflevel0_row7\" class=\"row_heading level0 row7\" >2019</th>\n",
       "                        <td id=\"T_81d857d2_db91_11ea_a402_988389829bcfrow7_col0\" class=\"data row7 col0\" >5380</td>\n",
       "                        <td id=\"T_81d857d2_db91_11ea_a402_988389829bcfrow7_col1\" class=\"data row7 col1\" >208</td>\n",
       "                        <td id=\"T_81d857d2_db91_11ea_a402_988389829bcfrow7_col2\" class=\"data row7 col2\" >39</td>\n",
       "                        <td id=\"T_81d857d2_db91_11ea_a402_988389829bcfrow7_col3\" class=\"data row7 col3\" >0</td>\n",
       "                        <td id=\"T_81d857d2_db91_11ea_a402_988389829bcfrow7_col4\" class=\"data row7 col4\" >0</td>\n",
       "                        <td id=\"T_81d857d2_db91_11ea_a402_988389829bcfrow7_col5\" class=\"data row7 col5\" >0</td>\n",
       "                        <td id=\"T_81d857d2_db91_11ea_a402_988389829bcfrow7_col6\" class=\"data row7 col6\" >66</td>\n",
       "            </tr>\n",
       "    </tbody></table>"
      ],
      "text/plain": [
       "<pandas.io.formats.style.Styler at 0x15520a8df88>"
      ]
     },
     "execution_count": 21,
     "metadata": {},
     "output_type": "execute_result"
    }
   ],
   "source": [
    "general.style.background_gradient(cmap='summer')"
   ]
  },
  {
   "cell_type": "code",
   "execution_count": 22,
   "metadata": {},
   "outputs": [
    {
     "data": {
      "text/html": [
       "<div>\n",
       "<style scoped>\n",
       "    .dataframe tbody tr th:only-of-type {\n",
       "        vertical-align: middle;\n",
       "    }\n",
       "\n",
       "    .dataframe tbody tr th {\n",
       "        vertical-align: top;\n",
       "    }\n",
       "\n",
       "    .dataframe thead th {\n",
       "        text-align: right;\n",
       "    }\n",
       "</style>\n",
       "<table border=\"1\" class=\"dataframe\">\n",
       "  <thead>\n",
       "    <tr style=\"text-align: right;\">\n",
       "      <th>분류</th>\n",
       "      <th>인건비</th>\n",
       "      <th>제사무비</th>\n",
       "      <th>제세공과금</th>\n",
       "      <th>교육훈련비</th>\n",
       "      <th>그밖의부대비용</th>\n",
       "    </tr>\n",
       "    <tr>\n",
       "      <th>연도</th>\n",
       "      <th></th>\n",
       "      <th></th>\n",
       "      <th></th>\n",
       "      <th></th>\n",
       "      <th></th>\n",
       "    </tr>\n",
       "  </thead>\n",
       "  <tbody>\n",
       "    <tr>\n",
       "      <th>2012</th>\n",
       "      <td>3378</td>\n",
       "      <td>56</td>\n",
       "      <td>187</td>\n",
       "      <td>0</td>\n",
       "      <td>0</td>\n",
       "    </tr>\n",
       "    <tr>\n",
       "      <th>2013</th>\n",
       "      <td>4148</td>\n",
       "      <td>125</td>\n",
       "      <td>151</td>\n",
       "      <td>0</td>\n",
       "      <td>0</td>\n",
       "    </tr>\n",
       "    <tr>\n",
       "      <th>2014</th>\n",
       "      <td>4859</td>\n",
       "      <td>187</td>\n",
       "      <td>62</td>\n",
       "      <td>0</td>\n",
       "      <td>36</td>\n",
       "    </tr>\n",
       "    <tr>\n",
       "      <th>2015</th>\n",
       "      <td>4971</td>\n",
       "      <td>177</td>\n",
       "      <td>41</td>\n",
       "      <td>5</td>\n",
       "      <td>72</td>\n",
       "    </tr>\n",
       "    <tr>\n",
       "      <th>2016</th>\n",
       "      <td>5300</td>\n",
       "      <td>190</td>\n",
       "      <td>44</td>\n",
       "      <td>2</td>\n",
       "      <td>72</td>\n",
       "    </tr>\n",
       "    <tr>\n",
       "      <th>2017</th>\n",
       "      <td>5546</td>\n",
       "      <td>202</td>\n",
       "      <td>37</td>\n",
       "      <td>2</td>\n",
       "      <td>72</td>\n",
       "    </tr>\n",
       "    <tr>\n",
       "      <th>2018</th>\n",
       "      <td>5870</td>\n",
       "      <td>222</td>\n",
       "      <td>38</td>\n",
       "      <td>1</td>\n",
       "      <td>72</td>\n",
       "    </tr>\n",
       "    <tr>\n",
       "      <th>2019</th>\n",
       "      <td>5380</td>\n",
       "      <td>208</td>\n",
       "      <td>39</td>\n",
       "      <td>0</td>\n",
       "      <td>66</td>\n",
       "    </tr>\n",
       "  </tbody>\n",
       "</table>\n",
       "</div>"
      ],
      "text/plain": [
       "분류     인건비  제사무비  제세공과금  교육훈련비  그밖의부대비용\n",
       "연도                                     \n",
       "2012  3378    56    187      0        0\n",
       "2013  4148   125    151      0        0\n",
       "2014  4859   187     62      0       36\n",
       "2015  4971   177     41      5       72\n",
       "2016  5300   190     44      2       72\n",
       "2017  5546   202     37      2       72\n",
       "2018  5870   222     38      1       72\n",
       "2019  5380   208     39      0       66"
      ]
     },
     "execution_count": 22,
     "metadata": {},
     "output_type": "execute_result"
    }
   ],
   "source": [
    "general = general.loc[:,['인건비','제사무비','제세공과금','교육훈련비','그밖의부대비용']]\n",
    "general"
   ]
  },
  {
   "cell_type": "code",
   "execution_count": 23,
   "metadata": {},
   "outputs": [],
   "source": [
    "min_max_scaler2 = MinMaxScaler()\n",
    "fitted2 = min_max_scaler2.fit(general)\n",
    "general_fitted = min_max_scaler2.transform(general)\n",
    "general2 = pd.DataFrame(general_fitted, columns=['인건비','제사무비','제세공과금','교육훈련비','그밖의부대비용'],\n",
    "                      index=['2012','2013','2014','2015','2016','2017','2018','2019'])"
   ]
  },
  {
   "cell_type": "code",
   "execution_count": 24,
   "metadata": {},
   "outputs": [
    {
     "data": {
      "text/html": [
       "<div>\n",
       "<style scoped>\n",
       "    .dataframe tbody tr th:only-of-type {\n",
       "        vertical-align: middle;\n",
       "    }\n",
       "\n",
       "    .dataframe tbody tr th {\n",
       "        vertical-align: top;\n",
       "    }\n",
       "\n",
       "    .dataframe thead th {\n",
       "        text-align: right;\n",
       "    }\n",
       "</style>\n",
       "<table border=\"1\" class=\"dataframe\">\n",
       "  <thead>\n",
       "    <tr style=\"text-align: right;\">\n",
       "      <th></th>\n",
       "      <th>인건비</th>\n",
       "      <th>제사무비</th>\n",
       "      <th>제세공과금</th>\n",
       "      <th>교육훈련비</th>\n",
       "      <th>그밖의부대비용</th>\n",
       "    </tr>\n",
       "  </thead>\n",
       "  <tbody>\n",
       "    <tr>\n",
       "      <th>인건비</th>\n",
       "      <td>1.000000</td>\n",
       "      <td>0.977641</td>\n",
       "      <td>-0.944808</td>\n",
       "      <td>0.310929</td>\n",
       "      <td>0.910174</td>\n",
       "    </tr>\n",
       "    <tr>\n",
       "      <th>제사무비</th>\n",
       "      <td>0.977641</td>\n",
       "      <td>1.000000</td>\n",
       "      <td>-0.957481</td>\n",
       "      <td>0.271717</td>\n",
       "      <td>0.866999</td>\n",
       "    </tr>\n",
       "    <tr>\n",
       "      <th>제세공과금</th>\n",
       "      <td>-0.944808</td>\n",
       "      <td>-0.957481</td>\n",
       "      <td>1.000000</td>\n",
       "      <td>-0.471568</td>\n",
       "      <td>-0.953632</td>\n",
       "    </tr>\n",
       "    <tr>\n",
       "      <th>교육훈련비</th>\n",
       "      <td>0.310929</td>\n",
       "      <td>0.271717</td>\n",
       "      <td>-0.471568</td>\n",
       "      <td>1.000000</td>\n",
       "      <td>0.583859</td>\n",
       "    </tr>\n",
       "    <tr>\n",
       "      <th>그밖의부대비용</th>\n",
       "      <td>0.910174</td>\n",
       "      <td>0.866999</td>\n",
       "      <td>-0.953632</td>\n",
       "      <td>0.583859</td>\n",
       "      <td>1.000000</td>\n",
       "    </tr>\n",
       "  </tbody>\n",
       "</table>\n",
       "</div>"
      ],
      "text/plain": [
       "              인건비      제사무비     제세공과금     교육훈련비   그밖의부대비용\n",
       "인건비      1.000000  0.977641 -0.944808  0.310929  0.910174\n",
       "제사무비     0.977641  1.000000 -0.957481  0.271717  0.866999\n",
       "제세공과금   -0.944808 -0.957481  1.000000 -0.471568 -0.953632\n",
       "교육훈련비    0.310929  0.271717 -0.471568  1.000000  0.583859\n",
       "그밖의부대비용  0.910174  0.866999 -0.953632  0.583859  1.000000"
      ]
     },
     "execution_count": 24,
     "metadata": {},
     "output_type": "execute_result"
    }
   ],
   "source": [
    "general2.corr()"
   ]
  },
  {
   "cell_type": "code",
   "execution_count": 25,
   "metadata": {},
   "outputs": [
    {
     "data": {
      "image/png": "[encoded data removed]",
      "text/plain": [
       "<Figure size 576x432 with 2 Axes>"
      ]
     },
     "metadata": {
      "needs_background": "light"
     },
     "output_type": "display_data"
    }
   ],
   "source": [
    "ax2 = sns.heatmap(general2)\n",
    "plt.title('general_fee', fontsize=20)\n",
    "plt.show() "
   ]
  },
  {
   "cell_type": "code",
   "execution_count": 36,
   "metadata": {},
   "outputs": [],
   "source": [
    "public['합계'] = public[['일반관리비','청소비','경비비','소독비','승강기유지비','난방비','급탕비','수선유지비']].sum(axis=1)\n",
    "public = public.reset_index()"
   ]
  },
  {
   "cell_type": "code",
   "execution_count": 27,
   "metadata": {},
   "outputs": [
    {
     "data": {
      "text/plain": [
       "<AxesSubplot:xlabel='연도'>"
      ]
     },
     "execution_count": 27,
     "metadata": {},
     "output_type": "execute_result"
    },
    {
     "data": {
      "image/png": "[encoded data removed]",
      "text/plain": [
       "<Figure size 576x432 with 1 Axes>"
      ]
     },
     "metadata": {
      "needs_background": "light"
     },
     "output_type": "display_data"
    }
   ],
   "source": [
    "public['합계'].plot(kind='bar')"
   ]
  },
  {
   "cell_type": "code",
   "execution_count": 28,
   "metadata": {},
   "outputs": [
    {
     "data": {
      "text/plain": [
       "<AxesSubplot:xlabel='연도'>"
      ]
     },
     "execution_count": 28,
     "metadata": {},
     "output_type": "execute_result"
    },
    {
     "data": {
      "image/png": "[encoded data removed]",
      "text/plain": [
       "<Figure size 576x432 with 1 Axes>"
      ]
     },
     "metadata": {
      "needs_background": "light"
     },
     "output_type": "display_data"
    }
   ],
   "source": [
    "public.plot(kind='bar')\n",
    "# 2014년 난방비, 급탕비 증가로 공용관리비 대폭 상승"
   ]
  },
  {
   "cell_type": "code",
   "execution_count": 29,
   "metadata": {},
   "outputs": [
    {
     "data": {
      "text/html": [
       "<div>\n",
       "<style scoped>\n",
       "    .dataframe tbody tr th:only-of-type {\n",
       "        vertical-align: middle;\n",
       "    }\n",
       "\n",
       "    .dataframe tbody tr th {\n",
       "        vertical-align: top;\n",
       "    }\n",
       "\n",
       "    .dataframe thead th {\n",
       "        text-align: right;\n",
       "    }\n",
       "</style>\n",
       "<table border=\"1\" class=\"dataframe\">\n",
       "  <thead>\n",
       "    <tr style=\"text-align: right;\">\n",
       "      <th>분류</th>\n",
       "      <th>연도</th>\n",
       "      <th>인건비</th>\n",
       "      <th>제사무비</th>\n",
       "      <th>제세공과금</th>\n",
       "      <th>교육훈련비</th>\n",
       "      <th>그밖의부대비용</th>\n",
       "      <th>합계</th>\n",
       "    </tr>\n",
       "  </thead>\n",
       "  <tbody>\n",
       "    <tr>\n",
       "      <th>0</th>\n",
       "      <td>2012</td>\n",
       "      <td>3378</td>\n",
       "      <td>56</td>\n",
       "      <td>187</td>\n",
       "      <td>0</td>\n",
       "      <td>0</td>\n",
       "      <td>3621</td>\n",
       "    </tr>\n",
       "    <tr>\n",
       "      <th>1</th>\n",
       "      <td>2013</td>\n",
       "      <td>4148</td>\n",
       "      <td>125</td>\n",
       "      <td>151</td>\n",
       "      <td>0</td>\n",
       "      <td>0</td>\n",
       "      <td>4424</td>\n",
       "    </tr>\n",
       "    <tr>\n",
       "      <th>2</th>\n",
       "      <td>2014</td>\n",
       "      <td>4859</td>\n",
       "      <td>187</td>\n",
       "      <td>62</td>\n",
       "      <td>0</td>\n",
       "      <td>36</td>\n",
       "      <td>5144</td>\n",
       "    </tr>\n",
       "    <tr>\n",
       "      <th>3</th>\n",
       "      <td>2015</td>\n",
       "      <td>4971</td>\n",
       "      <td>177</td>\n",
       "      <td>41</td>\n",
       "      <td>5</td>\n",
       "      <td>72</td>\n",
       "      <td>5266</td>\n",
       "    </tr>\n",
       "    <tr>\n",
       "      <th>4</th>\n",
       "      <td>2016</td>\n",
       "      <td>5300</td>\n",
       "      <td>190</td>\n",
       "      <td>44</td>\n",
       "      <td>2</td>\n",
       "      <td>72</td>\n",
       "      <td>5608</td>\n",
       "    </tr>\n",
       "    <tr>\n",
       "      <th>5</th>\n",
       "      <td>2017</td>\n",
       "      <td>5546</td>\n",
       "      <td>202</td>\n",
       "      <td>37</td>\n",
       "      <td>2</td>\n",
       "      <td>72</td>\n",
       "      <td>5859</td>\n",
       "    </tr>\n",
       "    <tr>\n",
       "      <th>6</th>\n",
       "      <td>2018</td>\n",
       "      <td>5870</td>\n",
       "      <td>222</td>\n",
       "      <td>38</td>\n",
       "      <td>1</td>\n",
       "      <td>72</td>\n",
       "      <td>6203</td>\n",
       "    </tr>\n",
       "    <tr>\n",
       "      <th>7</th>\n",
       "      <td>2019</td>\n",
       "      <td>5380</td>\n",
       "      <td>208</td>\n",
       "      <td>39</td>\n",
       "      <td>0</td>\n",
       "      <td>66</td>\n",
       "      <td>5693</td>\n",
       "    </tr>\n",
       "  </tbody>\n",
       "</table>\n",
       "</div>"
      ],
      "text/plain": [
       "분류    연도   인건비  제사무비  제세공과금  교육훈련비  그밖의부대비용    합계\n",
       "0   2012  3378    56    187      0        0  3621\n",
       "1   2013  4148   125    151      0        0  4424\n",
       "2   2014  4859   187     62      0       36  5144\n",
       "3   2015  4971   177     41      5       72  5266\n",
       "4   2016  5300   190     44      2       72  5608\n",
       "5   2017  5546   202     37      2       72  5859\n",
       "6   2018  5870   222     38      1       72  6203\n",
       "7   2019  5380   208     39      0       66  5693"
      ]
     },
     "execution_count": 29,
     "metadata": {},
     "output_type": "execute_result"
    }
   ],
   "source": [
    "general['합계'] = general[['인건비','제사무비','제세공과금','교육훈련비','그밖의부대비용']].sum(axis=1)\n",
    "general.reset_index()"
   ]
  },
  {
   "cell_type": "code",
   "execution_count": 30,
   "metadata": {},
   "outputs": [
    {
     "data": {
      "text/plain": [
       "<AxesSubplot:xlabel='연도'>"
      ]
     },
     "execution_count": 30,
     "metadata": {},
     "output_type": "execute_result"
    },
    {
     "data": {
      "image/png": "[encoded data removed]",
      "text/plain": [
       "<Figure size 576x432 with 1 Axes>"
      ]
     },
     "metadata": {
      "needs_background": "light"
     },
     "output_type": "display_data"
    }
   ],
   "source": [
    "general['합계'].plot(kind='bar')"
   ]
  },
  {
   "cell_type": "code",
   "execution_count": 31,
   "metadata": {},
   "outputs": [
    {
     "data": {
      "text/plain": [
       "<AxesSubplot:xlabel='연도'>"
      ]
     },
     "execution_count": 31,
     "metadata": {},
     "output_type": "execute_result"
    },
    {
     "data": {
      "image/png": "[encoded data removed]",
      "text/plain": [
       "<Figure size 576x432 with 1 Axes>"
      ]
     },
     "metadata": {
      "needs_background": "light"
     },
     "output_type": "display_data"
    }
   ],
   "source": [
    "general.plot(kind='bar') # 2019년 인건비 감소로 합계 감소 > 인건비가 일반관리비 중요 요소"
   ]
  },
  {
   "cell_type": "code",
   "execution_count": 32,
   "metadata": {},
   "outputs": [
    {
     "data": {
      "text/plain": [
       "([<matplotlib.patches.Wedge at 0x15520f9a7c8>,\n",
       "  <matplotlib.patches.Wedge at 0x15520fa0388>,\n",
       "  <matplotlib.patches.Wedge at 0x15520fa0d48>,\n",
       "  <matplotlib.patches.Wedge at 0x15520fa6708>,\n",
       "  <matplotlib.patches.Wedge at 0x15520fac1c8>],\n",
       " [Text(-1.082669071428822, 0.1944933977580022, '인건비'),\n",
       "  Text(1.0650383286276521, -0.27512426020621505, '제사무비'),\n",
       "  Text(1.0939302328475875, -0.11539777147771509, '제세공과금'),\n",
       "  Text(1.09806329484379, -0.0652456934732109, '교육훈련비'),\n",
       "  Text(1.099527897959194, -0.03222423947025529, '그밖의부대비용')])"
      ]
     },
     "execution_count": 32,
     "metadata": {},
     "output_type": "execute_result"
    },
    {
     "data": {
      "image/png": "[encoded data removed]",
      "text/plain": [
       "<Figure size 576x432 with 1 Axes>"
      ]
     },
     "metadata": {},
     "output_type": "display_data"
    }
   ],
   "source": [
    "general_por = general[['인건비','제사무비','제세공과금','교육훈련비','그밖의부대비용']].sum(axis=0)\n",
    "general_por = pd.DataFrame(general_por).reset_index()\n",
    "plt.pie(general_por[0],labels = general_por['분류']) "
   ]
  },
  {
   "cell_type": "code",
   "execution_count": null,
   "metadata": {},
   "outputs": [],
   "source": []
  },
  {
   "cell_type": "code",
   "execution_count": null,
   "metadata": {},
   "outputs": [],
   "source": []
  },
  {
   "cell_type": "code",
   "execution_count": null,
   "metadata": {},
   "outputs": [],
   "source": []
  },
  {
   "cell_type": "code",
   "execution_count": null,
   "metadata": {},
   "outputs": [],
   "source": []
  },
  {
   "cell_type": "code",
   "execution_count": null,
   "metadata": {},
   "outputs": [],
   "source": []
  },
  {
   "cell_type": "code",
   "execution_count": null,
   "metadata": {},
   "outputs": [],
   "source": []
  },
  {
   "cell_type": "code",
   "execution_count": null,
   "metadata": {},
   "outputs": [],
   "source": []
  },
  {
   "cell_type": "code",
   "execution_count": null,
   "metadata": {},
   "outputs": [],
   "source": []
  },
  {
   "cell_type": "code",
   "execution_count": null,
   "metadata": {},
   "outputs": [],
   "source": []
  },
  {
   "cell_type": "code",
   "execution_count": null,
   "metadata": {},
   "outputs": [],
   "source": []
  },
  {
   "cell_type": "code",
   "execution_count": null,
   "metadata": {},
   "outputs": [],
   "source": []
  },
  {
   "cell_type": "code",
   "execution_count": null,
   "metadata": {},
   "outputs": [],
   "source": []
  },
  {
   "cell_type": "code",
   "execution_count": null,
   "metadata": {},
   "outputs": [],
   "source": []
  },
  {
   "cell_type": "code",
   "execution_count": 33,
   "metadata": {},
   "outputs": [],
   "source": [
    "from sklearn.linear_model import LinearRegression, Ridge, Lasso"
   ]
  },
  {
   "cell_type": "code",
   "execution_count": 58,
   "metadata": {},
   "outputs": [],
   "source": [
    "public.to_csv('public.csv', index=False, encoding='utf-8')"
   ]
  },
  {
   "cell_type": "code",
   "execution_count": 61,
   "metadata": {},
   "outputs": [],
   "source": [
    "trainData = np.genfromtxt('public.csv',delimiter=',', skip_header=1, encoding='utf-8')"
   ]
  },
  {
   "cell_type": "code",
   "execution_count": 62,
   "metadata": {},
   "outputs": [],
   "source": [
    "x_train=trainData[:,:-1]\n",
    "y_train=trainData[:,-1]"
   ]
  },
  {
   "cell_type": "code",
   "execution_count": 63,
   "metadata": {},
   "outputs": [],
   "source": [
    "ridge_alpha = 1\n",
    "lasso_alpha = 0.1\n",
    "\n",
    "linear = LinearRegression()\n",
    "ridge = Ridge(alpha = ridge_alpha)\n",
    "lasso = Lasso(alpha = lasso_alpha)"
   ]
  },
  {
   "cell_type": "code",
   "execution_count": 65,
   "metadata": {},
   "outputs": [
    {
     "data": {
      "text/plain": [
       "Lasso(alpha=0.1)"
      ]
     },
     "execution_count": 65,
     "metadata": {},
     "output_type": "execute_result"
    }
   ],
   "source": [
    "linear.fit(x_train,y_train)\n",
    "ridge.fit(x_train,y_train)\n",
    "lasso.fit(x_train,y_train)"
   ]
  },
  {
   "cell_type": "code",
   "execution_count": 66,
   "metadata": {},
   "outputs": [
    {
     "ename": "NameError",
     "evalue": "name 'X_test' is not defined",
     "output_type": "error",
     "traceback": [
      "\u001b[1;31m---------------------------------------------------------------------------\u001b[0m",
      "\u001b[1;31mNameError\u001b[0m                                 Traceback (most recent call last)",
      "\u001b[1;32m<ipython-input-66-9d4db3b17c22>\u001b[0m in \u001b[0;36m<module>\u001b[1;34m\u001b[0m\n\u001b[1;32m----> 1\u001b[1;33m \u001b[0mlinear_y_hat\u001b[0m \u001b[1;33m=\u001b[0m \u001b[0mlinear\u001b[0m\u001b[1;33m.\u001b[0m\u001b[0mpredict\u001b[0m\u001b[1;33m(\u001b[0m\u001b[0mX_test\u001b[0m\u001b[1;33m)\u001b[0m\u001b[1;33m\u001b[0m\u001b[1;33m\u001b[0m\u001b[0m\n\u001b[0m\u001b[0;32m      2\u001b[0m \u001b[0mridge_y_hat\u001b[0m \u001b[1;33m=\u001b[0m \u001b[0mridge\u001b[0m\u001b[1;33m.\u001b[0m\u001b[0mpredict\u001b[0m\u001b[1;33m(\u001b[0m\u001b[0mX_test\u001b[0m\u001b[1;33m)\u001b[0m\u001b[1;33m\u001b[0m\u001b[1;33m\u001b[0m\u001b[0m\n\u001b[0;32m      3\u001b[0m \u001b[0mlasso_y_hat\u001b[0m \u001b[1;33m=\u001b[0m \u001b[0mlasso\u001b[0m\u001b[1;33m.\u001b[0m\u001b[0mpredict\u001b[0m\u001b[1;33m(\u001b[0m\u001b[0mX_test\u001b[0m\u001b[1;33m)\u001b[0m\u001b[1;33m\u001b[0m\u001b[1;33m\u001b[0m\u001b[0m\n\u001b[0;32m      4\u001b[0m \u001b[1;33m\u001b[0m\u001b[0m\n\u001b[0;32m      5\u001b[0m \u001b[0mlinear_r2\u001b[0m\u001b[1;33m,\u001b[0m \u001b[0mridge_r2\u001b[0m\u001b[1;33m,\u001b[0m \u001b[0mlasso_r2\u001b[0m \u001b[1;33m=\u001b[0m \u001b[0mr2_score\u001b[0m\u001b[1;33m(\u001b[0m\u001b[0my_test\u001b[0m\u001b[1;33m,\u001b[0m\u001b[0mlinear_y_hat\u001b[0m\u001b[1;33m)\u001b[0m\u001b[1;33m,\u001b[0m \u001b[0mr2_score\u001b[0m\u001b[1;33m(\u001b[0m\u001b[0my_test\u001b[0m\u001b[1;33m,\u001b[0m\u001b[0mridge_y_hat\u001b[0m\u001b[1;33m)\u001b[0m\u001b[1;33m,\u001b[0m \u001b[0mr2_score\u001b[0m\u001b[1;33m(\u001b[0m\u001b[0my_test\u001b[0m\u001b[1;33m,\u001b[0m\u001b[0mlasso_y_hat\u001b[0m\u001b[1;33m)\u001b[0m\u001b[1;33m\u001b[0m\u001b[1;33m\u001b[0m\u001b[0m\n",
      "\u001b[1;31mNameError\u001b[0m: name 'X_test' is not defined"
     ]
    }
   ],
   "source": [
    "linear_y_hat = linear.predict(X_test)\n",
    "ridge_y_hat = ridge.predict(X_test)\n",
    "lasso_y_hat = lasso.predict(X_test)\n",
    "\n",
    "linear_r2, ridge_r2, lasso_r2 = r2_score(y_test,linear_y_hat), r2_score(y_test,ridge_y_hat), r2_score(y_test,lasso_y_hat)\n",
    "linear_MSE, ridge_MSE, lasso_MSE = mean_squared_error(y_test,linear_y_hat), mean_squared_error(y_test,ridge_y_hat), mean_squared_error(y_test,lasso_y_hat)\n",
    "linear_MAE, ridge_MAE, lasso_MAE = mean_absolute_error(y_test,linear_y_hat), mean_absolute_error(y_test,ridge_y_hat), mean_absolute_error(y_test,lasso_y_hat)\n",
    "\n",
    "print('R2 score - Linear: %.2f, Ridge: %.2f, Lasso: %.2f' %(linear_r2, ridge_r2, lasso_r2))\n",
    "print('MSE - Linear: %.2f, Ridge: %.2f, Lasso: %.2f' %(linear_MSE, ridge_MSE, lasso_MSE))\n",
    "print('MAE - Linear: %.2f, Ridge: %.2f, Lasso: %.2f' %(linear_MAE, ridge_MAE, lasso_MAE))"
   ]
  }
 ],
 "metadata": {
  "kernelspec": {
   "display_name": "Python 3",
   "language": "python",
   "name": "python3"
  },
  "language_info": {
   "codemirror_mode": {
    "name": "ipython",
    "version": 3
   },
   "file_extension": ".py",
   "mimetype": "text/x-python",
   "name": "python",
   "nbconvert_exporter": "python",
   "pygments_lexer": "ipython3",
   "version": "3.7.7"
  }
 },
 "nbformat": 4,
 "nbformat_minor": 4
}
