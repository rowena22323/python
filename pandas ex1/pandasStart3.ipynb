{
 "cells": [
  {
   "cell_type": "code",
   "execution_count": 10,
   "metadata": {},
   "outputs": [],
   "source": [
    "import pandas as pd\n",
    "import numpy as np"
   ]
  },
  {
   "cell_type": "code",
   "execution_count": 4,
   "metadata": {},
   "outputs": [
    {
     "output_type": "execute_result",
     "data": {
      "text/plain": "  name  age  salary\n0  강감찬   33     200\n1  이순신   23     300\n2  홍길동   45     400\n3  김자바   34     500\n4  이자바   44     600\n5  홍자바   39     700\n6  안자바   56    1000",
      "text/html": "<div>\n<style scoped>\n    .dataframe tbody tr th:only-of-type {\n        vertical-align: middle;\n    }\n\n    .dataframe tbody tr th {\n        vertical-align: top;\n    }\n\n    .dataframe thead th {\n        text-align: right;\n    }\n</style>\n<table border=\"1\" class=\"dataframe\">\n  <thead>\n    <tr style=\"text-align: right;\">\n      <th></th>\n      <th>name</th>\n      <th>age</th>\n      <th>salary</th>\n    </tr>\n  </thead>\n  <tbody>\n    <tr>\n      <th>0</th>\n      <td>강감찬</td>\n      <td>33</td>\n      <td>200</td>\n    </tr>\n    <tr>\n      <th>1</th>\n      <td>이순신</td>\n      <td>23</td>\n      <td>300</td>\n    </tr>\n    <tr>\n      <th>2</th>\n      <td>홍길동</td>\n      <td>45</td>\n      <td>400</td>\n    </tr>\n    <tr>\n      <th>3</th>\n      <td>김자바</td>\n      <td>34</td>\n      <td>500</td>\n    </tr>\n    <tr>\n      <th>4</th>\n      <td>이자바</td>\n      <td>44</td>\n      <td>600</td>\n    </tr>\n    <tr>\n      <th>5</th>\n      <td>홍자바</td>\n      <td>39</td>\n      <td>700</td>\n    </tr>\n    <tr>\n      <th>6</th>\n      <td>안자바</td>\n      <td>56</td>\n      <td>1000</td>\n    </tr>\n  </tbody>\n</table>\n</div>"
     },
     "metadata": {},
     "execution_count": 4
    }
   ],
   "source": [
    "data2 = {'name':pd.Series(['강감찬','이순신','홍길동','김자바','이자바','홍자바','안자바']),\n",
    "         'age': pd.Series([33, 23, 45, 34, 44, 39, 56]),\n",
    "         'salary':pd.Series([200,300,400,500,600,700,1000])}\n",
    "df2 = pd.DataFrame(data2)\n",
    "df2"
   ]
  },
  {
   "cell_type": "code",
   "execution_count": 6,
   "metadata": {},
   "outputs": [
    {
     "output_type": "execute_result",
     "data": {
      "text/plain": "  name  salary  grade\n0  강감찬     200    NaN\n2  홍길동     400    NaN\n5  홍자바     700    NaN",
      "text/html": "<div>\n<style scoped>\n    .dataframe tbody tr th:only-of-type {\n        vertical-align: middle;\n    }\n\n    .dataframe tbody tr th {\n        vertical-align: top;\n    }\n\n    .dataframe thead th {\n        text-align: right;\n    }\n</style>\n<table border=\"1\" class=\"dataframe\">\n  <thead>\n    <tr style=\"text-align: right;\">\n      <th></th>\n      <th>name</th>\n      <th>salary</th>\n      <th>grade</th>\n    </tr>\n  </thead>\n  <tbody>\n    <tr>\n      <th>0</th>\n      <td>강감찬</td>\n      <td>200</td>\n      <td>NaN</td>\n    </tr>\n    <tr>\n      <th>2</th>\n      <td>홍길동</td>\n      <td>400</td>\n      <td>NaN</td>\n    </tr>\n    <tr>\n      <th>5</th>\n      <td>홍자바</td>\n      <td>700</td>\n      <td>NaN</td>\n    </tr>\n  </tbody>\n</table>\n</div>"
     },
     "metadata": {},
     "execution_count": 6
    }
   ],
   "source": [
    "df3 = df2.reindex(index=[0,2,5],columns=['name','salary','grade'])\n",
    "df3"
   ]
  },
  {
   "cell_type": "code",
   "execution_count": 7,
   "metadata": {},
   "outputs": [],
   "source": [
    "df4 = pd.DataFrame(np.random.randn(10,3), columns=['col1','col2','col3'])\n",
    "df5 = pd.DataFrame(np.random.randn(7,3), columns=['col1','col2','col3'])"
   ]
  },
  {
   "cell_type": "code",
   "execution_count": 8,
   "metadata": {},
   "outputs": [
    {
     "output_type": "execute_result",
     "data": {
      "text/plain": "       col1      col2      col3\n0  0.673771  0.030837  1.578095\n1 -0.224372  0.599455  0.894887\n2 -0.050710  1.597494  0.028971\n3  0.491156 -2.117701  1.343641\n4  0.502838  0.216177 -0.737353\n5  0.351073  1.429529 -1.316371\n6  1.053924  3.084307  1.272822\n7 -0.800700 -0.633049 -0.115920\n8  0.237114  0.414427 -0.470155\n9 -0.108229  0.932796  0.769201",
      "text/html": "<div>\n<style scoped>\n    .dataframe tbody tr th:only-of-type {\n        vertical-align: middle;\n    }\n\n    .dataframe tbody tr th {\n        vertical-align: top;\n    }\n\n    .dataframe thead th {\n        text-align: right;\n    }\n</style>\n<table border=\"1\" class=\"dataframe\">\n  <thead>\n    <tr style=\"text-align: right;\">\n      <th></th>\n      <th>col1</th>\n      <th>col2</th>\n      <th>col3</th>\n    </tr>\n  </thead>\n  <tbody>\n    <tr>\n      <th>0</th>\n      <td>0.673771</td>\n      <td>0.030837</td>\n      <td>1.578095</td>\n    </tr>\n    <tr>\n      <th>1</th>\n      <td>-0.224372</td>\n      <td>0.599455</td>\n      <td>0.894887</td>\n    </tr>\n    <tr>\n      <th>2</th>\n      <td>-0.050710</td>\n      <td>1.597494</td>\n      <td>0.028971</td>\n    </tr>\n    <tr>\n      <th>3</th>\n      <td>0.491156</td>\n      <td>-2.117701</td>\n      <td>1.343641</td>\n    </tr>\n    <tr>\n      <th>4</th>\n      <td>0.502838</td>\n      <td>0.216177</td>\n      <td>-0.737353</td>\n    </tr>\n    <tr>\n      <th>5</th>\n      <td>0.351073</td>\n      <td>1.429529</td>\n      <td>-1.316371</td>\n    </tr>\n    <tr>\n      <th>6</th>\n      <td>1.053924</td>\n      <td>3.084307</td>\n      <td>1.272822</td>\n    </tr>\n    <tr>\n      <th>7</th>\n      <td>-0.800700</td>\n      <td>-0.633049</td>\n      <td>-0.115920</td>\n    </tr>\n    <tr>\n      <th>8</th>\n      <td>0.237114</td>\n      <td>0.414427</td>\n      <td>-0.470155</td>\n    </tr>\n    <tr>\n      <th>9</th>\n      <td>-0.108229</td>\n      <td>0.932796</td>\n      <td>0.769201</td>\n    </tr>\n  </tbody>\n</table>\n</div>"
     },
     "metadata": {},
     "execution_count": 8
    }
   ],
   "source": [
    "df4"
   ]
  },
  {
   "cell_type": "code",
   "execution_count": 10,
   "metadata": {},
   "outputs": [
    {
     "output_type": "execute_result",
     "data": {
      "text/plain": "       col1      col2      col3\n0  0.673771  0.030837  1.578095\n1 -0.224372  0.599455  0.894887\n2 -0.050710  1.597494  0.028971\n3  0.491156 -2.117701  1.343641\n4  0.502838  0.216177 -0.737353\n5  0.351073  1.429529 -1.316371\n6  1.053924  3.084307  1.272822",
      "text/html": "<div>\n<style scoped>\n    .dataframe tbody tr th:only-of-type {\n        vertical-align: middle;\n    }\n\n    .dataframe tbody tr th {\n        vertical-align: top;\n    }\n\n    .dataframe thead th {\n        text-align: right;\n    }\n</style>\n<table border=\"1\" class=\"dataframe\">\n  <thead>\n    <tr style=\"text-align: right;\">\n      <th></th>\n      <th>col1</th>\n      <th>col2</th>\n      <th>col3</th>\n    </tr>\n  </thead>\n  <tbody>\n    <tr>\n      <th>0</th>\n      <td>0.673771</td>\n      <td>0.030837</td>\n      <td>1.578095</td>\n    </tr>\n    <tr>\n      <th>1</th>\n      <td>-0.224372</td>\n      <td>0.599455</td>\n      <td>0.894887</td>\n    </tr>\n    <tr>\n      <th>2</th>\n      <td>-0.050710</td>\n      <td>1.597494</td>\n      <td>0.028971</td>\n    </tr>\n    <tr>\n      <th>3</th>\n      <td>0.491156</td>\n      <td>-2.117701</td>\n      <td>1.343641</td>\n    </tr>\n    <tr>\n      <th>4</th>\n      <td>0.502838</td>\n      <td>0.216177</td>\n      <td>-0.737353</td>\n    </tr>\n    <tr>\n      <th>5</th>\n      <td>0.351073</td>\n      <td>1.429529</td>\n      <td>-1.316371</td>\n    </tr>\n    <tr>\n      <th>6</th>\n      <td>1.053924</td>\n      <td>3.084307</td>\n      <td>1.272822</td>\n    </tr>\n  </tbody>\n</table>\n</div>"
     },
     "metadata": {},
     "execution_count": 10
    }
   ],
   "source": [
    "df4.reindex_like(df5)"
   ]
  },
  {
   "cell_type": "code",
   "execution_count": 11,
   "metadata": {},
   "outputs": [
    {
     "output_type": "execute_result",
     "data": {
      "text/plain": "       col1      col2      col3\n0 -0.208538 -0.396501  0.050229\n1 -0.169368  0.626273 -0.748456\n2 -0.674552 -0.974378  0.122602\n3  1.646559 -1.260636  1.276568\n4  0.271105  1.019527  1.725406\n5  0.767609  1.551765  0.338006\n6 -1.034951 -0.665008 -0.181750\n7       NaN       NaN       NaN\n8       NaN       NaN       NaN\n9       NaN       NaN       NaN",
      "text/html": "<div>\n<style scoped>\n    .dataframe tbody tr th:only-of-type {\n        vertical-align: middle;\n    }\n\n    .dataframe tbody tr th {\n        vertical-align: top;\n    }\n\n    .dataframe thead th {\n        text-align: right;\n    }\n</style>\n<table border=\"1\" class=\"dataframe\">\n  <thead>\n    <tr style=\"text-align: right;\">\n      <th></th>\n      <th>col1</th>\n      <th>col2</th>\n      <th>col3</th>\n    </tr>\n  </thead>\n  <tbody>\n    <tr>\n      <th>0</th>\n      <td>-0.208538</td>\n      <td>-0.396501</td>\n      <td>0.050229</td>\n    </tr>\n    <tr>\n      <th>1</th>\n      <td>-0.169368</td>\n      <td>0.626273</td>\n      <td>-0.748456</td>\n    </tr>\n    <tr>\n      <th>2</th>\n      <td>-0.674552</td>\n      <td>-0.974378</td>\n      <td>0.122602</td>\n    </tr>\n    <tr>\n      <th>3</th>\n      <td>1.646559</td>\n      <td>-1.260636</td>\n      <td>1.276568</td>\n    </tr>\n    <tr>\n      <th>4</th>\n      <td>0.271105</td>\n      <td>1.019527</td>\n      <td>1.725406</td>\n    </tr>\n    <tr>\n      <th>5</th>\n      <td>0.767609</td>\n      <td>1.551765</td>\n      <td>0.338006</td>\n    </tr>\n    <tr>\n      <th>6</th>\n      <td>-1.034951</td>\n      <td>-0.665008</td>\n      <td>-0.181750</td>\n    </tr>\n    <tr>\n      <th>7</th>\n      <td>NaN</td>\n      <td>NaN</td>\n      <td>NaN</td>\n    </tr>\n    <tr>\n      <th>8</th>\n      <td>NaN</td>\n      <td>NaN</td>\n      <td>NaN</td>\n    </tr>\n    <tr>\n      <th>9</th>\n      <td>NaN</td>\n      <td>NaN</td>\n      <td>NaN</td>\n    </tr>\n  </tbody>\n</table>\n</div>"
     },
     "metadata": {},
     "execution_count": 11
    }
   ],
   "source": [
    "df5.reindex_like(df4) # 결측치를 무엇으로 채울까?"
   ]
  },
  {
   "cell_type": "code",
   "execution_count": 12,
   "metadata": {},
   "outputs": [
    {
     "output_type": "execute_result",
     "data": {
      "text/plain": "       col1      col2      col3\n0 -0.208538 -0.396501  0.050229\n1 -0.169368  0.626273 -0.748456\n2 -0.674552 -0.974378  0.122602\n3  1.646559 -1.260636  1.276568\n4  0.271105  1.019527  1.725406\n5  0.767609  1.551765  0.338006\n6 -1.034951 -0.665008 -0.181750\n7 -1.034951 -0.665008 -0.181750\n8 -1.034951 -0.665008 -0.181750\n9 -1.034951 -0.665008 -0.181750",
      "text/html": "<div>\n<style scoped>\n    .dataframe tbody tr th:only-of-type {\n        vertical-align: middle;\n    }\n\n    .dataframe tbody tr th {\n        vertical-align: top;\n    }\n\n    .dataframe thead th {\n        text-align: right;\n    }\n</style>\n<table border=\"1\" class=\"dataframe\">\n  <thead>\n    <tr style=\"text-align: right;\">\n      <th></th>\n      <th>col1</th>\n      <th>col2</th>\n      <th>col3</th>\n    </tr>\n  </thead>\n  <tbody>\n    <tr>\n      <th>0</th>\n      <td>-0.208538</td>\n      <td>-0.396501</td>\n      <td>0.050229</td>\n    </tr>\n    <tr>\n      <th>1</th>\n      <td>-0.169368</td>\n      <td>0.626273</td>\n      <td>-0.748456</td>\n    </tr>\n    <tr>\n      <th>2</th>\n      <td>-0.674552</td>\n      <td>-0.974378</td>\n      <td>0.122602</td>\n    </tr>\n    <tr>\n      <th>3</th>\n      <td>1.646559</td>\n      <td>-1.260636</td>\n      <td>1.276568</td>\n    </tr>\n    <tr>\n      <th>4</th>\n      <td>0.271105</td>\n      <td>1.019527</td>\n      <td>1.725406</td>\n    </tr>\n    <tr>\n      <th>5</th>\n      <td>0.767609</td>\n      <td>1.551765</td>\n      <td>0.338006</td>\n    </tr>\n    <tr>\n      <th>6</th>\n      <td>-1.034951</td>\n      <td>-0.665008</td>\n      <td>-0.181750</td>\n    </tr>\n    <tr>\n      <th>7</th>\n      <td>-1.034951</td>\n      <td>-0.665008</td>\n      <td>-0.181750</td>\n    </tr>\n    <tr>\n      <th>8</th>\n      <td>-1.034951</td>\n      <td>-0.665008</td>\n      <td>-0.181750</td>\n    </tr>\n    <tr>\n      <th>9</th>\n      <td>-1.034951</td>\n      <td>-0.665008</td>\n      <td>-0.181750</td>\n    </tr>\n  </tbody>\n</table>\n</div>"
     },
     "metadata": {},
     "execution_count": 12
    }
   ],
   "source": [
    "df5.reindex_like(df4, method='ffill')"
   ]
  },
  {
   "cell_type": "code",
   "execution_count": 14,
   "metadata": {},
   "outputs": [
    {
     "output_type": "execute_result",
     "data": {
      "text/plain": "7.639999999999999"
     },
     "metadata": {},
     "execution_count": 14
    }
   ],
   "source": [
    "import time\n",
    "import numpy as np\n",
    "import pandas as pd\n",
    "import requests\n",
    "from bs4 import BeautifulSoup\n",
    "URL = \"http://ticket2.movie.daum.net/Movie/MovieRankList.aspx\"\n",
    "res = requests.get(URL)\n",
    "soup = BeautifulSoup(res.content, 'lxml')\n",
    "box = soup.find_all('div', class_=\"desc_boxthumb\")\n",
    "count = 0\n",
    "data = []\n",
    "for movie in box:  \n",
    "    title, ranking = movie.find('strong', class_=\"tit_join\"), movie.find('em', class_=\"emph_grade\")\n",
    "    movie, grade = title.get_text().strip(), ranking.get_text().strip()\n",
    "    # print(movie, grade)\n",
    "    list = [movie, grade]\n",
    "    data.append(list)\n",
    "    count += 1\n",
    "\n",
    "df = pd.DataFrame(data,columns=['title','rating'])\n",
    "df['rating'] = df['rating'].astype(float)\n",
    "df.dtypes\n",
    "df['rating'].mean()"
   ]
  },
  {
   "cell_type": "code",
   "execution_count": 26,
   "metadata": {},
   "outputs": [
    {
     "output_type": "stream",
     "name": "stdout",
     "text": "> (317, 81)\n> year              int64\nartist           object\ntrack            object\ntime             object\ndate.entered     object\n                 ...   \nwk72            float64\nwk73            float64\nwk74            float64\nwk75            float64\nwk76            float64\nLength: 81, dtype: object\n> Index(['year', 'artist', 'track', 'time', 'date.entered', 'wk1', 'wk2', 'wk3',\n       'wk4', 'wk5', 'wk6', 'wk7', 'wk8', 'wk9', 'wk10', 'wk11', 'wk12',\n       'wk13', 'wk14', 'wk15', 'wk16', 'wk17', 'wk18', 'wk19', 'wk20', 'wk21',\n       'wk22', 'wk23', 'wk24', 'wk25', 'wk26', 'wk27', 'wk28', 'wk29', 'wk30',\n       'wk31', 'wk32', 'wk33', 'wk34', 'wk35', 'wk36', 'wk37', 'wk38', 'wk39',\n       'wk40', 'wk41', 'wk42', 'wk43', 'wk44', 'wk45', 'wk46', 'wk47', 'wk48',\n       'wk49', 'wk50', 'wk51', 'wk52', 'wk53', 'wk54', 'wk55', 'wk56', 'wk57',\n       'wk58', 'wk59', 'wk60', 'wk61', 'wk62', 'wk63', 'wk64', 'wk65', 'wk66',\n       'wk67', 'wk68', 'wk69', 'wk70', 'wk71', 'wk72', 'wk73', 'wk74', 'wk75',\n       'wk76'],\n      dtype='object')\n> RangeIndex(start=0, stop=317, step=1)\n"
    },
    {
     "output_type": "execute_result",
     "data": {
      "text/plain": "         year         wk1         wk2         wk3         wk4         wk5  \\\ncount   317.0  317.000000  312.000000  307.000000  300.000000  292.000000   \nmean   2000.0   79.958991   71.173077   65.045603   59.763333   56.339041   \nstd       0.0   14.686865   18.200443   20.752302   22.324619   23.780022   \nmin    2000.0   15.000000    8.000000    6.000000    5.000000    2.000000   \n25%    2000.0   74.000000   63.000000   53.000000   44.750000   38.750000   \n50%    2000.0   81.000000   73.000000   66.000000   61.000000   57.000000   \n75%    2000.0   91.000000   84.000000   79.000000   76.000000   73.250000   \nmax    2000.0  100.000000  100.000000  100.000000  100.000000  100.000000   \n\n              wk6         wk7         wk8         wk9  ...  wk67  wk68  wk69  \\\ncount  280.000000  269.000000  260.000000  253.000000  ...   0.0   0.0   0.0   \nmean    52.360714   49.219331   47.119231   46.343874  ...   NaN   NaN   NaN   \nstd     24.473273   25.654279   26.370782   27.136419  ...   NaN   NaN   NaN   \nmin      1.000000    1.000000    1.000000    1.000000  ...   NaN   NaN   NaN   \n25%     33.750000   30.000000   27.000000   26.000000  ...   NaN   NaN   NaN   \n50%     51.500000   47.000000   45.500000   42.000000  ...   NaN   NaN   NaN   \n75%     72.250000   67.000000   67.000000   67.000000  ...   NaN   NaN   NaN   \nmax     99.000000  100.000000   99.000000  100.000000  ...   NaN   NaN   NaN   \n\n       wk70  wk71  wk72  wk73  wk74  wk75  wk76  \ncount   0.0   0.0   0.0   0.0   0.0   0.0   0.0  \nmean    NaN   NaN   NaN   NaN   NaN   NaN   NaN  \nstd     NaN   NaN   NaN   NaN   NaN   NaN   NaN  \nmin     NaN   NaN   NaN   NaN   NaN   NaN   NaN  \n25%     NaN   NaN   NaN   NaN   NaN   NaN   NaN  \n50%     NaN   NaN   NaN   NaN   NaN   NaN   NaN  \n75%     NaN   NaN   NaN   NaN   NaN   NaN   NaN  \nmax     NaN   NaN   NaN   NaN   NaN   NaN   NaN  \n\n[8 rows x 77 columns]",
      "text/html": "<div>\n<style scoped>\n    .dataframe tbody tr th:only-of-type {\n        vertical-align: middle;\n    }\n\n    .dataframe tbody tr th {\n        vertical-align: top;\n    }\n\n    .dataframe thead th {\n        text-align: right;\n    }\n</style>\n<table border=\"1\" class=\"dataframe\">\n  <thead>\n    <tr style=\"text-align: right;\">\n      <th></th>\n      <th>year</th>\n      <th>wk1</th>\n      <th>wk2</th>\n      <th>wk3</th>\n      <th>wk4</th>\n      <th>wk5</th>\n      <th>wk6</th>\n      <th>wk7</th>\n      <th>wk8</th>\n      <th>wk9</th>\n      <th>...</th>\n      <th>wk67</th>\n      <th>wk68</th>\n      <th>wk69</th>\n      <th>wk70</th>\n      <th>wk71</th>\n      <th>wk72</th>\n      <th>wk73</th>\n      <th>wk74</th>\n      <th>wk75</th>\n      <th>wk76</th>\n    </tr>\n  </thead>\n  <tbody>\n    <tr>\n      <th>count</th>\n      <td>317.0</td>\n      <td>317.000000</td>\n      <td>312.000000</td>\n      <td>307.000000</td>\n      <td>300.000000</td>\n      <td>292.000000</td>\n      <td>280.000000</td>\n      <td>269.000000</td>\n      <td>260.000000</td>\n      <td>253.000000</td>\n      <td>...</td>\n      <td>0.0</td>\n      <td>0.0</td>\n      <td>0.0</td>\n      <td>0.0</td>\n      <td>0.0</td>\n      <td>0.0</td>\n      <td>0.0</td>\n      <td>0.0</td>\n      <td>0.0</td>\n      <td>0.0</td>\n    </tr>\n    <tr>\n      <th>mean</th>\n      <td>2000.0</td>\n      <td>79.958991</td>\n      <td>71.173077</td>\n      <td>65.045603</td>\n      <td>59.763333</td>\n      <td>56.339041</td>\n      <td>52.360714</td>\n      <td>49.219331</td>\n      <td>47.119231</td>\n      <td>46.343874</td>\n      <td>...</td>\n      <td>NaN</td>\n      <td>NaN</td>\n      <td>NaN</td>\n      <td>NaN</td>\n      <td>NaN</td>\n      <td>NaN</td>\n      <td>NaN</td>\n      <td>NaN</td>\n      <td>NaN</td>\n      <td>NaN</td>\n    </tr>\n    <tr>\n      <th>std</th>\n      <td>0.0</td>\n      <td>14.686865</td>\n      <td>18.200443</td>\n      <td>20.752302</td>\n      <td>22.324619</td>\n      <td>23.780022</td>\n      <td>24.473273</td>\n      <td>25.654279</td>\n      <td>26.370782</td>\n      <td>27.136419</td>\n      <td>...</td>\n      <td>NaN</td>\n      <td>NaN</td>\n      <td>NaN</td>\n      <td>NaN</td>\n      <td>NaN</td>\n      <td>NaN</td>\n      <td>NaN</td>\n      <td>NaN</td>\n      <td>NaN</td>\n      <td>NaN</td>\n    </tr>\n    <tr>\n      <th>min</th>\n      <td>2000.0</td>\n      <td>15.000000</td>\n      <td>8.000000</td>\n      <td>6.000000</td>\n      <td>5.000000</td>\n      <td>2.000000</td>\n      <td>1.000000</td>\n      <td>1.000000</td>\n      <td>1.000000</td>\n      <td>1.000000</td>\n      <td>...</td>\n      <td>NaN</td>\n      <td>NaN</td>\n      <td>NaN</td>\n      <td>NaN</td>\n      <td>NaN</td>\n      <td>NaN</td>\n      <td>NaN</td>\n      <td>NaN</td>\n      <td>NaN</td>\n      <td>NaN</td>\n    </tr>\n    <tr>\n      <th>25%</th>\n      <td>2000.0</td>\n      <td>74.000000</td>\n      <td>63.000000</td>\n      <td>53.000000</td>\n      <td>44.750000</td>\n      <td>38.750000</td>\n      <td>33.750000</td>\n      <td>30.000000</td>\n      <td>27.000000</td>\n      <td>26.000000</td>\n      <td>...</td>\n      <td>NaN</td>\n      <td>NaN</td>\n      <td>NaN</td>\n      <td>NaN</td>\n      <td>NaN</td>\n      <td>NaN</td>\n      <td>NaN</td>\n      <td>NaN</td>\n      <td>NaN</td>\n      <td>NaN</td>\n    </tr>\n    <tr>\n      <th>50%</th>\n      <td>2000.0</td>\n      <td>81.000000</td>\n      <td>73.000000</td>\n      <td>66.000000</td>\n      <td>61.000000</td>\n      <td>57.000000</td>\n      <td>51.500000</td>\n      <td>47.000000</td>\n      <td>45.500000</td>\n      <td>42.000000</td>\n      <td>...</td>\n      <td>NaN</td>\n      <td>NaN</td>\n      <td>NaN</td>\n      <td>NaN</td>\n      <td>NaN</td>\n      <td>NaN</td>\n      <td>NaN</td>\n      <td>NaN</td>\n      <td>NaN</td>\n      <td>NaN</td>\n    </tr>\n    <tr>\n      <th>75%</th>\n      <td>2000.0</td>\n      <td>91.000000</td>\n      <td>84.000000</td>\n      <td>79.000000</td>\n      <td>76.000000</td>\n      <td>73.250000</td>\n      <td>72.250000</td>\n      <td>67.000000</td>\n      <td>67.000000</td>\n      <td>67.000000</td>\n      <td>...</td>\n      <td>NaN</td>\n      <td>NaN</td>\n      <td>NaN</td>\n      <td>NaN</td>\n      <td>NaN</td>\n      <td>NaN</td>\n      <td>NaN</td>\n      <td>NaN</td>\n      <td>NaN</td>\n      <td>NaN</td>\n    </tr>\n    <tr>\n      <th>max</th>\n      <td>2000.0</td>\n      <td>100.000000</td>\n      <td>100.000000</td>\n      <td>100.000000</td>\n      <td>100.000000</td>\n      <td>100.000000</td>\n      <td>99.000000</td>\n      <td>100.000000</td>\n      <td>99.000000</td>\n      <td>100.000000</td>\n      <td>...</td>\n      <td>NaN</td>\n      <td>NaN</td>\n      <td>NaN</td>\n      <td>NaN</td>\n      <td>NaN</td>\n      <td>NaN</td>\n      <td>NaN</td>\n      <td>NaN</td>\n      <td>NaN</td>\n      <td>NaN</td>\n    </tr>\n  </tbody>\n</table>\n<p>8 rows × 77 columns</p>\n</div>"
     },
     "metadata": {},
     "execution_count": 26
    }
   ],
   "source": [
    "df = pd.read_csv(\"../data/billboard.csv\")\n",
    "print(\">\",df.shape)\n",
    "print(\">\",df.dtypes)\n",
    "print(\">\",df.columns)\n",
    "print(\">\",df.index)\n",
    "df.describe()\n"
   ]
  },
  {
   "cell_type": "code",
   "execution_count": 27,
   "metadata": {},
   "outputs": [
    {
     "output_type": "execute_result",
     "data": {
      "text/plain": "   time        artist  year\n0  4:22         2 Pac  2000\n1  3:15       2Ge+her  2000\n2  3:53  3 Doors Down  2000",
      "text/html": "<div>\n<style scoped>\n    .dataframe tbody tr th:only-of-type {\n        vertical-align: middle;\n    }\n\n    .dataframe tbody tr th {\n        vertical-align: top;\n    }\n\n    .dataframe thead th {\n        text-align: right;\n    }\n</style>\n<table border=\"1\" class=\"dataframe\">\n  <thead>\n    <tr style=\"text-align: right;\">\n      <th></th>\n      <th>time</th>\n      <th>artist</th>\n      <th>year</th>\n    </tr>\n  </thead>\n  <tbody>\n    <tr>\n      <th>0</th>\n      <td>4:22</td>\n      <td>2 Pac</td>\n      <td>2000</td>\n    </tr>\n    <tr>\n      <th>1</th>\n      <td>3:15</td>\n      <td>2Ge+her</td>\n      <td>2000</td>\n    </tr>\n    <tr>\n      <th>2</th>\n      <td>3:53</td>\n      <td>3 Doors Down</td>\n      <td>2000</td>\n    </tr>\n  </tbody>\n</table>\n</div>"
     },
     "metadata": {},
     "execution_count": 27
    }
   ],
   "source": [
    "df2 = df.reindex(index=[0,1,2], columns=['time','artist','year'])\n",
    "df2"
   ]
  },
  {
   "cell_type": "code",
   "execution_count": 32,
   "metadata": {},
   "outputs": [
    {
     "output_type": "execute_result",
     "data": {
      "text/plain": "          one       two     three\n100  0.597492  0.502067 -0.053564\n200  0.421295 -0.409383 -2.154995\n300 -0.016697  0.395271  0.789551\n400  0.600965  1.299508 -1.097878\n500  1.556413  2.766104  0.378918\n600 -0.419638  0.076887  0.697766",
      "text/html": "<div>\n<style scoped>\n    .dataframe tbody tr th:only-of-type {\n        vertical-align: middle;\n    }\n\n    .dataframe tbody tr th {\n        vertical-align: top;\n    }\n\n    .dataframe thead th {\n        text-align: right;\n    }\n</style>\n<table border=\"1\" class=\"dataframe\">\n  <thead>\n    <tr style=\"text-align: right;\">\n      <th></th>\n      <th>one</th>\n      <th>two</th>\n      <th>three</th>\n    </tr>\n  </thead>\n  <tbody>\n    <tr>\n      <th>100</th>\n      <td>0.597492</td>\n      <td>0.502067</td>\n      <td>-0.053564</td>\n    </tr>\n    <tr>\n      <th>200</th>\n      <td>0.421295</td>\n      <td>-0.409383</td>\n      <td>-2.154995</td>\n    </tr>\n    <tr>\n      <th>300</th>\n      <td>-0.016697</td>\n      <td>0.395271</td>\n      <td>0.789551</td>\n    </tr>\n    <tr>\n      <th>400</th>\n      <td>0.600965</td>\n      <td>1.299508</td>\n      <td>-1.097878</td>\n    </tr>\n    <tr>\n      <th>500</th>\n      <td>1.556413</td>\n      <td>2.766104</td>\n      <td>0.378918</td>\n    </tr>\n    <tr>\n      <th>600</th>\n      <td>-0.419638</td>\n      <td>0.076887</td>\n      <td>0.697766</td>\n    </tr>\n  </tbody>\n</table>\n</div>"
     },
     "metadata": {},
     "execution_count": 32
    }
   ],
   "source": [
    "df3 = pd.DataFrame(np.random.randn(6,3), columns=['c1','c2','c3'])\n",
    "df4 = df3.rename(index = {0:100,1:200,2:300,3:400,4:500,5:600}, columns={'c1':'one','c2':'two','c3':'three'})\n",
    "df4"
   ]
  },
  {
   "cell_type": "code",
   "execution_count": 44,
   "metadata": {},
   "outputs": [
    {
     "output_type": "stream",
     "name": "stdout",
     "text": ">\n c1   -1.769653\nc2   -0.603054\nc3    0.839545\nc4    0.272604\nName: a, dtype: float64\n>\n          c1        c3\na -1.769653  0.839545\nb  0.745533  1.357864\nc  0.614613 -0.492843\nd  0.066587  0.207006\ne -0.256170  0.394502\nf  0.282699  1.023546\n>\n          c1        c3\na -1.769653  0.839545\nc  0.614613 -0.492843\ne -0.256170  0.394502\n>\n          c1        c2        c3        c4\na -1.769653 -0.603054  0.839545  0.272604\nb  0.745533  2.008709  1.357864  0.907540\nc  0.614613  1.478953 -0.492843  0.944599\nd  0.066587  0.984656  0.207006 -0.761297\n>\n c1    False\nc2    False\nc3     True\nc4     True\nName: a, dtype: bool\n"
    },
    {
     "output_type": "execute_result",
     "data": {
      "text/plain": "         c1        c2        c3        c4\na -1.769653 -0.603054  0.839545  0.272604\nb  0.745533  2.008709  1.357864  0.907540\nc  0.614613  1.478953 -0.492843  0.944599\nd  0.066587  0.984656  0.207006 -0.761297\ne -0.256170 -0.913173  0.394502 -0.116765\nf  0.282699  0.004691  1.023546  0.632953",
      "text/html": "<div>\n<style scoped>\n    .dataframe tbody tr th:only-of-type {\n        vertical-align: middle;\n    }\n\n    .dataframe tbody tr th {\n        vertical-align: top;\n    }\n\n    .dataframe thead th {\n        text-align: right;\n    }\n</style>\n<table border=\"1\" class=\"dataframe\">\n  <thead>\n    <tr style=\"text-align: right;\">\n      <th></th>\n      <th>c1</th>\n      <th>c2</th>\n      <th>c3</th>\n      <th>c4</th>\n    </tr>\n  </thead>\n  <tbody>\n    <tr>\n      <th>a</th>\n      <td>-1.769653</td>\n      <td>-0.603054</td>\n      <td>0.839545</td>\n      <td>0.272604</td>\n    </tr>\n    <tr>\n      <th>b</th>\n      <td>0.745533</td>\n      <td>2.008709</td>\n      <td>1.357864</td>\n      <td>0.907540</td>\n    </tr>\n    <tr>\n      <th>c</th>\n      <td>0.614613</td>\n      <td>1.478953</td>\n      <td>-0.492843</td>\n      <td>0.944599</td>\n    </tr>\n    <tr>\n      <th>d</th>\n      <td>0.066587</td>\n      <td>0.984656</td>\n      <td>0.207006</td>\n      <td>-0.761297</td>\n    </tr>\n    <tr>\n      <th>e</th>\n      <td>-0.256170</td>\n      <td>-0.913173</td>\n      <td>0.394502</td>\n      <td>-0.116765</td>\n    </tr>\n    <tr>\n      <th>f</th>\n      <td>0.282699</td>\n      <td>0.004691</td>\n      <td>1.023546</td>\n      <td>0.632953</td>\n    </tr>\n  </tbody>\n</table>\n</div>"
     },
     "metadata": {},
     "execution_count": 44
    }
   ],
   "source": [
    "df = pd.DataFrame(np.random.randn(6,4), index = ['a','b','c','d','e','f'],columns = ['c1','c2','c3','c4'])\n",
    "print(\">\\n\",df.loc['a'])\n",
    "print(\">\\n\",df.loc[:,['c1','c3']])\n",
    "print(\">\\n\",df.loc[['a','c','e'],['c1','c3']])\n",
    "print(\">\\n\",df.loc['a':'d','c1':'c4'])\n",
    "print(\">\\n\",df.loc['a']>0)\n",
    "df"
   ]
  },
  {
   "cell_type": "code",
   "execution_count": 48,
   "metadata": {},
   "outputs": [
    {
     "output_type": "stream",
     "name": "stdout",
     "text": ">\n          c2\nb -1.610481\nc -0.779630\n>\n          c1        c2\na  0.713557 -0.039796\nb  1.678572 -1.610481\n>\n a    0.713557\nb    1.678572\nName: c1, dtype: float64\n"
    },
    {
     "output_type": "execute_result",
     "data": {
      "text/plain": "         c1        c2        c3        c4\na  0.713557 -0.039796  0.015147 -0.738644\nb  1.678572 -1.610481 -0.555015  0.750117\nc -0.276756 -0.779630  0.895287 -1.177343\nd -0.541233 -0.385336 -0.228637  0.313506\ne  0.806063  2.111903  2.335620 -0.834924\nf  0.025627  1.780263 -0.936592  0.329808",
      "text/html": "<div>\n<style scoped>\n    .dataframe tbody tr th:only-of-type {\n        vertical-align: middle;\n    }\n\n    .dataframe tbody tr th {\n        vertical-align: top;\n    }\n\n    .dataframe thead th {\n        text-align: right;\n    }\n</style>\n<table border=\"1\" class=\"dataframe\">\n  <thead>\n    <tr style=\"text-align: right;\">\n      <th></th>\n      <th>c1</th>\n      <th>c2</th>\n      <th>c3</th>\n      <th>c4</th>\n    </tr>\n  </thead>\n  <tbody>\n    <tr>\n      <th>a</th>\n      <td>0.713557</td>\n      <td>-0.039796</td>\n      <td>0.015147</td>\n      <td>-0.738644</td>\n    </tr>\n    <tr>\n      <th>b</th>\n      <td>1.678572</td>\n      <td>-1.610481</td>\n      <td>-0.555015</td>\n      <td>0.750117</td>\n    </tr>\n    <tr>\n      <th>c</th>\n      <td>-0.276756</td>\n      <td>-0.779630</td>\n      <td>0.895287</td>\n      <td>-1.177343</td>\n    </tr>\n    <tr>\n      <th>d</th>\n      <td>-0.541233</td>\n      <td>-0.385336</td>\n      <td>-0.228637</td>\n      <td>0.313506</td>\n    </tr>\n    <tr>\n      <th>e</th>\n      <td>0.806063</td>\n      <td>2.111903</td>\n      <td>2.335620</td>\n      <td>-0.834924</td>\n    </tr>\n    <tr>\n      <th>f</th>\n      <td>0.025627</td>\n      <td>1.780263</td>\n      <td>-0.936592</td>\n      <td>0.329808</td>\n    </tr>\n  </tbody>\n</table>\n</div>"
     },
     "metadata": {},
     "execution_count": 48
    }
   ],
   "source": [
    "df2 = pd.DataFrame(np.random.randn(6,4), index = ['a','b','c','d','e','f'],columns = ['c1','c2','c3','c4'])\n",
    "print(\">\\n\",df2.iloc[1:3,1:2])\n",
    "print(\">\\n\",df2.iloc[0:2,0:2])\n",
    "print(\">\\n\",df2['c1'][:2])\n",
    "df2"
   ]
  }
 ],
 "metadata": {
  "language_info": {
   "codemirror_mode": {
    "name": "ipython",
    "version": 3
   },
   "file_extension": ".py",
   "mimetype": "text/x-python",
   "name": "python",
   "nbconvert_exporter": "python",
   "pygments_lexer": "ipython3",
   "version": "3.7.7-final"
  },
  "orig_nbformat": 2,
  "kernelspec": {
   "name": "python37764bit3d364663d8164d6a92ec4df127b7f895",
   "display_name": "Python 3.7.7 64-bit"
  }
 },
 "nbformat": 4,
 "nbformat_minor": 2
}