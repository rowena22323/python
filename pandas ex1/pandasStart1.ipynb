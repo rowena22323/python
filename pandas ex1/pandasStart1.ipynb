{
 "cells": [
  {
   "cell_type": "code",
   "execution_count": 2,
   "metadata": {},
   "outputs": [],
   "source": [
    "import pandas as pd\n",
    "import numpy as np"
   ]
  },
  {
   "cell_type": "markdown",
   "metadata": {},
   "source": [
    "## Series 객체를 담을 수 있는 1차원 배열 같은 자료구조\n",
    "#### 색인이라고 하는 배열의 데이터와 연관된 이름을 가지고 있다.\n",
    "#### Series의 배열과 색인 객체는 각각 values와 index속성을 통해 얻을 수 있다.\n",
    "#### 불리언 배열을 사용해서 값을 걸러내거나 산술곱셈을 수행하거나 또는 수학 함수를 적용하는 등, Numpy배열 연산을 수행해도 색인-값 연결 유지."
   ]
  },
  {
   "cell_type": "code",
   "execution_count": 3,
   "metadata": {},
   "outputs": [
    {
     "output_type": "execute_result",
     "data": {
      "text/plain": "0    4\n1    7\n2   -5\n3    3\ndtype: int64"
     },
     "metadata": {},
     "execution_count": 3
    }
   ],
   "source": [
    "obj = pd.Series([4,7,-5,3])\n",
    "obj"
   ]
  },
  {
   "cell_type": "code",
   "execution_count": 4,
   "metadata": {},
   "outputs": [
    {
     "output_type": "stream",
     "name": "stdout",
     "text": "[ 4  7 -5  3]\nRangeIndex(start=0, stop=4, step=1)\n"
    }
   ],
   "source": [
    "print(obj.values)\n",
    "print(obj.index)"
   ]
  },
  {
   "cell_type": "code",
   "execution_count": 5,
   "metadata": {},
   "outputs": [
    {
     "output_type": "stream",
     "name": "stdout",
     "text": "d    4\nb    7\na   -5\nc    3\ndtype: int64\nIndex(['d', 'b', 'a', 'c'], dtype='object')\n"
    }
   ],
   "source": [
    "obj2 = pd.Series([4,7,-5,3], index=['d','b','a','c'])\n",
    "print(obj2)\n",
    "print(obj2.index)"
   ]
  },
  {
   "cell_type": "code",
   "execution_count": 6,
   "metadata": {},
   "outputs": [
    {
     "output_type": "stream",
     "name": "stdout",
     "text": "-5\nc    3\na   -5\nd    6\ndtype: int64\n"
    }
   ],
   "source": [
    "print(obj2['a'])\n",
    "obj2['d']=6\n",
    "print(obj2[['c','a','d']])"
   ]
  },
  {
   "cell_type": "code",
   "execution_count": 7,
   "metadata": {},
   "outputs": [
    {
     "output_type": "stream",
     "name": "stdout",
     "text": "d    6\nb    7\nc    3\ndtype: int64\n"
    }
   ],
   "source": [
    "print(obj2[obj2>0])"
   ]
  },
  {
   "cell_type": "code",
   "execution_count": 8,
   "metadata": {},
   "outputs": [
    {
     "output_type": "stream",
     "name": "stdout",
     "text": "d    12\nb    14\na   -10\nc     6\ndtype: int64\nd     403.428793\nb    1096.633158\na       0.006738\nc      20.085537\ndtype: float64\n"
    }
   ],
   "source": [
    "print(obj2*2)\n",
    "print(np.exp(obj2))"
   ]
  },
  {
   "cell_type": "code",
   "execution_count": 9,
   "metadata": {},
   "outputs": [
    {
     "output_type": "stream",
     "name": "stdout",
     "text": "True\nFalse\n"
    }
   ],
   "source": [
    "print('b' in obj2)\n",
    "print('e' in obj2)"
   ]
  },
  {
   "cell_type": "code",
   "execution_count": 10,
   "metadata": {},
   "outputs": [
    {
     "output_type": "stream",
     "name": "stdout",
     "text": "Ohio      35000\nTexas     71000\nOregon    16000\nUtah       5000\ndtype: int64\n"
    }
   ],
   "source": [
    "sdata = {'Ohio':35000, 'Texas':71000, 'Oregon':16000, 'Utah':5000}\n",
    "obj3 = pd.Series(sdata)\n",
    "print(obj3)"
   ]
  },
  {
   "cell_type": "code",
   "execution_count": 11,
   "metadata": {},
   "outputs": [
    {
     "output_type": "execute_result",
     "data": {
      "text/plain": "California        NaN\nOhio          35000.0\nOregon        16000.0\nTexas         71000.0\ndtype: float64"
     },
     "metadata": {},
     "execution_count": 11
    }
   ],
   "source": [
    "states = ['California','Ohio','Oregon','Texas']\n",
    "obj4 = pd.Series(sdata, index = states)\n",
    "obj4"
   ]
  },
  {
   "cell_type": "markdown",
   "metadata": {},
   "source": [
    "#### 누락데이터를 찾을 때\n",
    "#### isnull()  /  notnull()"
   ]
  },
  {
   "cell_type": "code",
   "execution_count": 12,
   "metadata": {},
   "outputs": [
    {
     "output_type": "stream",
     "name": "stdout",
     "text": "California     True\nOhio          False\nOregon        False\nTexas         False\ndtype: bool\n---------------\nCalifornia    False\nOhio           True\nOregon         True\nTexas          True\ndtype: bool\n---------------\nCalifornia     True\nOhio          False\nOregon        False\nTexas         False\ndtype: bool\n---------------\n"
    }
   ],
   "source": [
    "print(pd.isnull(obj4))\n",
    "print(\"---------------\")\n",
    "print(pd.notnull(obj4))\n",
    "print(\"---------------\")\n",
    "print(obj4.isnull())\n",
    "print(\"---------------\")"
   ]
  },
  {
   "cell_type": "code",
   "execution_count": 13,
   "metadata": {},
   "outputs": [
    {
     "output_type": "stream",
     "name": "stdout",
     "text": "Ohio      35000\nTexas     71000\nOregon    16000\nUtah       5000\ndtype: int64\nCalifornia        NaN\nOhio          35000.0\nOregon        16000.0\nTexas         71000.0\ndtype: float64\nCalifornia         NaN\nOhio           70000.0\nOregon         32000.0\nTexas         142000.0\nUtah               NaN\ndtype: float64\n"
    }
   ],
   "source": [
    "print(obj3)\n",
    "print(obj4)\n",
    "print(obj3+obj4)"
   ]
  },
  {
   "cell_type": "code",
   "execution_count": 14,
   "metadata": {},
   "outputs": [
    {
     "output_type": "stream",
     "name": "stdout",
     "text": "state\nCalifornia        NaN\nOhio          35000.0\nOregon        16000.0\nTexas         71000.0\nName: population, dtype: float64\n"
    }
   ],
   "source": [
    "obj4.name = 'population'\n",
    "obj4.index.name='state'\n",
    "print(obj4)"
   ]
  },
  {
   "cell_type": "code",
   "execution_count": 15,
   "metadata": {},
   "outputs": [
    {
     "output_type": "stream",
     "name": "stdout",
     "text": "0    4\n1    7\n2   -5\n3    3\ndtype: int64\nBob      4\nSteve    7\nJeff    -5\nRyan     3\ndtype: int64\n"
    }
   ],
   "source": [
    "print(obj)\n",
    "obj.index = ['Bob','Steve','Jeff','Ryan']\n",
    "print(obj)"
   ]
  },
  {
   "cell_type": "markdown",
   "metadata": {},
   "source": [
    "#### DataFrame - 표 같은 스프레드시트 형식의 자료구조이고 각 컬럼은 서로다른 종류의 값을 담을 수 있다\n",
    "#### DataFrame은 row와 column에 대한 색인을 가지고 있는데, 색인의 모양이 같은 series객체를 담고 있는 파이썬 사전으로 생각하면 ok!\n"
   ]
  },
  {
   "cell_type": "code",
   "execution_count": 16,
   "metadata": {},
   "outputs": [],
   "source": [
    "data = {'state':['Ohio','Ohio','Ohio','Nevada','Nevada','Nevada'],\n",
    "        'year':[2000,2001,2002,2001,2002,2003],\n",
    "        'pop':[1.5,1.7,3.6,2.4,2.9,3.2]}\n",
    "frame = pd.DataFrame(data)"
   ]
  },
  {
   "cell_type": "code",
   "execution_count": 17,
   "metadata": {},
   "outputs": [
    {
     "output_type": "execute_result",
     "data": {
      "text/plain": "    state  year  pop\n0    Ohio  2000  1.5\n1    Ohio  2001  1.7\n2    Ohio  2002  3.6\n3  Nevada  2001  2.4\n4  Nevada  2002  2.9\n5  Nevada  2003  3.2",
      "text/html": "<div>\n<style scoped>\n    .dataframe tbody tr th:only-of-type {\n        vertical-align: middle;\n    }\n\n    .dataframe tbody tr th {\n        vertical-align: top;\n    }\n\n    .dataframe thead th {\n        text-align: right;\n    }\n</style>\n<table border=\"1\" class=\"dataframe\">\n  <thead>\n    <tr style=\"text-align: right;\">\n      <th></th>\n      <th>state</th>\n      <th>year</th>\n      <th>pop</th>\n    </tr>\n  </thead>\n  <tbody>\n    <tr>\n      <th>0</th>\n      <td>Ohio</td>\n      <td>2000</td>\n      <td>1.5</td>\n    </tr>\n    <tr>\n      <th>1</th>\n      <td>Ohio</td>\n      <td>2001</td>\n      <td>1.7</td>\n    </tr>\n    <tr>\n      <th>2</th>\n      <td>Ohio</td>\n      <td>2002</td>\n      <td>3.6</td>\n    </tr>\n    <tr>\n      <th>3</th>\n      <td>Nevada</td>\n      <td>2001</td>\n      <td>2.4</td>\n    </tr>\n    <tr>\n      <th>4</th>\n      <td>Nevada</td>\n      <td>2002</td>\n      <td>2.9</td>\n    </tr>\n    <tr>\n      <th>5</th>\n      <td>Nevada</td>\n      <td>2003</td>\n      <td>3.2</td>\n    </tr>\n  </tbody>\n</table>\n</div>"
     },
     "metadata": {},
     "execution_count": 17
    }
   ],
   "source": [
    "frame"
   ]
  },
  {
   "cell_type": "code",
   "execution_count": 18,
   "metadata": {},
   "outputs": [
    {
     "output_type": "execute_result",
     "data": {
      "text/plain": "    state  year  pop\n0    Ohio  2000  1.5\n1    Ohio  2001  1.7\n2    Ohio  2002  3.6\n3  Nevada  2001  2.4\n4  Nevada  2002  2.9",
      "text/html": "<div>\n<style scoped>\n    .dataframe tbody tr th:only-of-type {\n        vertical-align: middle;\n    }\n\n    .dataframe tbody tr th {\n        vertical-align: top;\n    }\n\n    .dataframe thead th {\n        text-align: right;\n    }\n</style>\n<table border=\"1\" class=\"dataframe\">\n  <thead>\n    <tr style=\"text-align: right;\">\n      <th></th>\n      <th>state</th>\n      <th>year</th>\n      <th>pop</th>\n    </tr>\n  </thead>\n  <tbody>\n    <tr>\n      <th>0</th>\n      <td>Ohio</td>\n      <td>2000</td>\n      <td>1.5</td>\n    </tr>\n    <tr>\n      <th>1</th>\n      <td>Ohio</td>\n      <td>2001</td>\n      <td>1.7</td>\n    </tr>\n    <tr>\n      <th>2</th>\n      <td>Ohio</td>\n      <td>2002</td>\n      <td>3.6</td>\n    </tr>\n    <tr>\n      <th>3</th>\n      <td>Nevada</td>\n      <td>2001</td>\n      <td>2.4</td>\n    </tr>\n    <tr>\n      <th>4</th>\n      <td>Nevada</td>\n      <td>2002</td>\n      <td>2.9</td>\n    </tr>\n  </tbody>\n</table>\n</div>"
     },
     "metadata": {},
     "execution_count": 18
    }
   ],
   "source": [
    "frame.head()"
   ]
  },
  {
   "cell_type": "code",
   "execution_count": 19,
   "metadata": {},
   "outputs": [
    {
     "output_type": "execute_result",
     "data": {
      "text/plain": "   year   state  pop\n0  2000    Ohio  1.5\n1  2001    Ohio  1.7\n2  2002    Ohio  3.6\n3  2001  Nevada  2.4\n4  2002  Nevada  2.9\n5  2003  Nevada  3.2",
      "text/html": "<div>\n<style scoped>\n    .dataframe tbody tr th:only-of-type {\n        vertical-align: middle;\n    }\n\n    .dataframe tbody tr th {\n        vertical-align: top;\n    }\n\n    .dataframe thead th {\n        text-align: right;\n    }\n</style>\n<table border=\"1\" class=\"dataframe\">\n  <thead>\n    <tr style=\"text-align: right;\">\n      <th></th>\n      <th>year</th>\n      <th>state</th>\n      <th>pop</th>\n    </tr>\n  </thead>\n  <tbody>\n    <tr>\n      <th>0</th>\n      <td>2000</td>\n      <td>Ohio</td>\n      <td>1.5</td>\n    </tr>\n    <tr>\n      <th>1</th>\n      <td>2001</td>\n      <td>Ohio</td>\n      <td>1.7</td>\n    </tr>\n    <tr>\n      <th>2</th>\n      <td>2002</td>\n      <td>Ohio</td>\n      <td>3.6</td>\n    </tr>\n    <tr>\n      <th>3</th>\n      <td>2001</td>\n      <td>Nevada</td>\n      <td>2.4</td>\n    </tr>\n    <tr>\n      <th>4</th>\n      <td>2002</td>\n      <td>Nevada</td>\n      <td>2.9</td>\n    </tr>\n    <tr>\n      <th>5</th>\n      <td>2003</td>\n      <td>Nevada</td>\n      <td>3.2</td>\n    </tr>\n  </tbody>\n</table>\n</div>"
     },
     "metadata": {},
     "execution_count": 19
    }
   ],
   "source": [
    "# 원하는 순서대로 columns를 지정하면 원하는 순서를 가진 DataFrame이 생성\n",
    "pd.DataFrame(data,columns=['year','state','pop'])"
   ]
  },
  {
   "cell_type": "code",
   "execution_count": 20,
   "metadata": {},
   "outputs": [
    {
     "output_type": "stream",
     "name": "stdout",
     "text": "year   state  pop debt\none    2000    Ohio  1.5  NaN\ntwo    2001    Ohio  1.7  NaN\nthree  2002    Ohio  3.6  NaN\nfour   2001  Nevada  2.4  NaN\nfive   2002  Nevada  2.9  NaN\nsix    2003  Nevada  3.2  NaN\nIndex(['year', 'state', 'pop', 'debt'], dtype='object')\n"
    }
   ],
   "source": [
    "# series와 마찬가지로 사전에 없는 값을 넘기면 결측치로 저장\n",
    "frame2 = pd.DataFrame(data,columns = ['year','state','pop','debt'],\n",
    "                            index = ['one','two','three','four','five','six'])\n",
    "print(frame2)\n",
    "print(frame2.columns)"
   ]
  },
  {
   "cell_type": "code",
   "execution_count": 21,
   "metadata": {},
   "outputs": [
    {
     "output_type": "stream",
     "name": "stdout",
     "text": "one        Ohio\ntwo        Ohio\nthree      Ohio\nfour     Nevada\nfive     Nevada\nsix      Nevada\nName: state, dtype: object\n---------------\none      2000\ntwo      2001\nthree    2002\nfour     2001\nfive     2002\nsix      2003\nName: year, dtype: int64\n---------------\nyear     2002\nstate    Ohio\npop       3.6\ndebt      NaN\nName: three, dtype: object\n---------------\n       year   state  pop  debt\none    2000    Ohio  1.5  16.5\ntwo    2001    Ohio  1.7  16.5\nthree  2002    Ohio  3.6  16.5\nfour   2001  Nevada  2.4  16.5\nfive   2002  Nevada  2.9  16.5\nsix    2003  Nevada  3.2  16.5\n---------------\n       year   state  pop  debt\none    2000    Ohio  1.5   0.0\ntwo    2001    Ohio  1.7   1.0\nthree  2002    Ohio  3.6   2.0\nfour   2001  Nevada  2.4   3.0\nfive   2002  Nevada  2.9   4.0\nsix    2003  Nevada  3.2   5.0\n---------------\n"
    }
   ],
   "source": [
    "print(frame2['state'])\n",
    "print(\"---------------\")\n",
    "print(frame2.year)\n",
    "print(\"---------------\")\n",
    "print(frame2.loc['three'])\n",
    "print(\"---------------\")\n",
    "frame2['debt']=16.5\n",
    "print(frame2)\n",
    "print(\"---------------\")\n",
    "frame2['debt'] = np.arange(6.)\n",
    "print(frame2)\n",
    "print(\"---------------\")"
   ]
  },
  {
   "cell_type": "code",
   "execution_count": 22,
   "metadata": {},
   "outputs": [
    {
     "output_type": "execute_result",
     "data": {
      "text/plain": "       year   state  pop  debt\none    2000    Ohio  1.5   NaN\ntwo    2001    Ohio  1.7  -1.2\nthree  2002    Ohio  3.6   NaN\nfour   2001  Nevada  2.4  -1.5\nfive   2002  Nevada  2.9  -1.7\nsix    2003  Nevada  3.2   NaN",
      "text/html": "<div>\n<style scoped>\n    .dataframe tbody tr th:only-of-type {\n        vertical-align: middle;\n    }\n\n    .dataframe tbody tr th {\n        vertical-align: top;\n    }\n\n    .dataframe thead th {\n        text-align: right;\n    }\n</style>\n<table border=\"1\" class=\"dataframe\">\n  <thead>\n    <tr style=\"text-align: right;\">\n      <th></th>\n      <th>year</th>\n      <th>state</th>\n      <th>pop</th>\n      <th>debt</th>\n    </tr>\n  </thead>\n  <tbody>\n    <tr>\n      <th>one</th>\n      <td>2000</td>\n      <td>Ohio</td>\n      <td>1.5</td>\n      <td>NaN</td>\n    </tr>\n    <tr>\n      <th>two</th>\n      <td>2001</td>\n      <td>Ohio</td>\n      <td>1.7</td>\n      <td>-1.2</td>\n    </tr>\n    <tr>\n      <th>three</th>\n      <td>2002</td>\n      <td>Ohio</td>\n      <td>3.6</td>\n      <td>NaN</td>\n    </tr>\n    <tr>\n      <th>four</th>\n      <td>2001</td>\n      <td>Nevada</td>\n      <td>2.4</td>\n      <td>-1.5</td>\n    </tr>\n    <tr>\n      <th>five</th>\n      <td>2002</td>\n      <td>Nevada</td>\n      <td>2.9</td>\n      <td>-1.7</td>\n    </tr>\n    <tr>\n      <th>six</th>\n      <td>2003</td>\n      <td>Nevada</td>\n      <td>3.2</td>\n      <td>NaN</td>\n    </tr>\n  </tbody>\n</table>\n</div>"
     },
     "metadata": {},
     "execution_count": 22
    }
   ],
   "source": [
    "# 컬럼에 스칼라값이나 배열의 값 대입이 가능.\n",
    "# 리스트나 배열을 컬럼에 대입할 때는 대입하려는 값의 길이가 DataFrame의 크기와 동일해야 한다.\n",
    "val = pd.Series([-1.2, -1.5, -1.7], index = ['two','four','five'])\n",
    "frame2['debt']=val\n",
    "frame2"
   ]
  },
  {
   "cell_type": "code",
   "execution_count": 23,
   "metadata": {},
   "outputs": [
    {
     "output_type": "execute_result",
     "data": {
      "text/plain": "       year   state  pop  debt  eastern\none    2000    Ohio  1.5   NaN     True\ntwo    2001    Ohio  1.7  -1.2     True\nthree  2002    Ohio  3.6   NaN     True\nfour   2001  Nevada  2.4  -1.5    False\nfive   2002  Nevada  2.9  -1.7    False\nsix    2003  Nevada  3.2   NaN    False",
      "text/html": "<div>\n<style scoped>\n    .dataframe tbody tr th:only-of-type {\n        vertical-align: middle;\n    }\n\n    .dataframe tbody tr th {\n        vertical-align: top;\n    }\n\n    .dataframe thead th {\n        text-align: right;\n    }\n</style>\n<table border=\"1\" class=\"dataframe\">\n  <thead>\n    <tr style=\"text-align: right;\">\n      <th></th>\n      <th>year</th>\n      <th>state</th>\n      <th>pop</th>\n      <th>debt</th>\n      <th>eastern</th>\n    </tr>\n  </thead>\n  <tbody>\n    <tr>\n      <th>one</th>\n      <td>2000</td>\n      <td>Ohio</td>\n      <td>1.5</td>\n      <td>NaN</td>\n      <td>True</td>\n    </tr>\n    <tr>\n      <th>two</th>\n      <td>2001</td>\n      <td>Ohio</td>\n      <td>1.7</td>\n      <td>-1.2</td>\n      <td>True</td>\n    </tr>\n    <tr>\n      <th>three</th>\n      <td>2002</td>\n      <td>Ohio</td>\n      <td>3.6</td>\n      <td>NaN</td>\n      <td>True</td>\n    </tr>\n    <tr>\n      <th>four</th>\n      <td>2001</td>\n      <td>Nevada</td>\n      <td>2.4</td>\n      <td>-1.5</td>\n      <td>False</td>\n    </tr>\n    <tr>\n      <th>five</th>\n      <td>2002</td>\n      <td>Nevada</td>\n      <td>2.9</td>\n      <td>-1.7</td>\n      <td>False</td>\n    </tr>\n    <tr>\n      <th>six</th>\n      <td>2003</td>\n      <td>Nevada</td>\n      <td>3.2</td>\n      <td>NaN</td>\n      <td>False</td>\n    </tr>\n  </tbody>\n</table>\n</div>"
     },
     "metadata": {},
     "execution_count": 23
    }
   ],
   "source": [
    "frame2['eastern']=frame2.state=='Ohio'\n",
    "frame2"
   ]
  },
  {
   "cell_type": "code",
   "execution_count": 24,
   "metadata": {},
   "outputs": [
    {
     "output_type": "execute_result",
     "data": {
      "text/plain": "Index(['year', 'state', 'pop', 'debt'], dtype='object')"
     },
     "metadata": {},
     "execution_count": 24
    }
   ],
   "source": [
    "del frame2['eastern']\n",
    "frame2.columns"
   ]
  },
  {
   "cell_type": "code",
   "execution_count": 25,
   "metadata": {},
   "outputs": [],
   "source": [
    "pop = {'Nevada':{2001:2.4, 2002:2.9},\n",
    "        'Ohio':{2000:1.5, 2001:1.7, 2002:3.6}}"
   ]
  },
  {
   "cell_type": "code",
   "execution_count": 26,
   "metadata": {},
   "outputs": [
    {
     "output_type": "execute_result",
     "data": {
      "text/plain": "      Nevada  Ohio\n2001     2.4   1.7\n2002     2.9   3.6\n2000     NaN   1.5",
      "text/html": "<div>\n<style scoped>\n    .dataframe tbody tr th:only-of-type {\n        vertical-align: middle;\n    }\n\n    .dataframe tbody tr th {\n        vertical-align: top;\n    }\n\n    .dataframe thead th {\n        text-align: right;\n    }\n</style>\n<table border=\"1\" class=\"dataframe\">\n  <thead>\n    <tr style=\"text-align: right;\">\n      <th></th>\n      <th>Nevada</th>\n      <th>Ohio</th>\n    </tr>\n  </thead>\n  <tbody>\n    <tr>\n      <th>2001</th>\n      <td>2.4</td>\n      <td>1.7</td>\n    </tr>\n    <tr>\n      <th>2002</th>\n      <td>2.9</td>\n      <td>3.6</td>\n    </tr>\n    <tr>\n      <th>2000</th>\n      <td>NaN</td>\n      <td>1.5</td>\n    </tr>\n  </tbody>\n</table>\n</div>"
     },
     "metadata": {},
     "execution_count": 26
    }
   ],
   "source": [
    "frame3 = pd.DataFrame(pop)\n",
    "frame3"
   ]
  },
  {
   "cell_type": "code",
   "execution_count": 27,
   "metadata": {},
   "outputs": [
    {
     "output_type": "execute_result",
     "data": {
      "text/plain": "        2001  2002  2000\nNevada   2.4   2.9   NaN\nOhio     1.7   3.6   1.5",
      "text/html": "<div>\n<style scoped>\n    .dataframe tbody tr th:only-of-type {\n        vertical-align: middle;\n    }\n\n    .dataframe tbody tr th {\n        vertical-align: top;\n    }\n\n    .dataframe thead th {\n        text-align: right;\n    }\n</style>\n<table border=\"1\" class=\"dataframe\">\n  <thead>\n    <tr style=\"text-align: right;\">\n      <th></th>\n      <th>2001</th>\n      <th>2002</th>\n      <th>2000</th>\n    </tr>\n  </thead>\n  <tbody>\n    <tr>\n      <th>Nevada</th>\n      <td>2.4</td>\n      <td>2.9</td>\n      <td>NaN</td>\n    </tr>\n    <tr>\n      <th>Ohio</th>\n      <td>1.7</td>\n      <td>3.6</td>\n      <td>1.5</td>\n    </tr>\n  </tbody>\n</table>\n</div>"
     },
     "metadata": {},
     "execution_count": 27
    }
   ],
   "source": [
    "frame3.T #numpy 배열과 유사한 문법으로 데이터를 전치할 수 있다."
   ]
  },
  {
   "cell_type": "code",
   "execution_count": 28,
   "metadata": {},
   "outputs": [
    {
     "output_type": "execute_result",
     "data": {
      "text/plain": "      Nevada  Ohio\n2001     2.4   1.7\n2002     2.9   3.6\n2003     NaN   NaN",
      "text/html": "<div>\n<style scoped>\n    .dataframe tbody tr th:only-of-type {\n        vertical-align: middle;\n    }\n\n    .dataframe tbody tr th {\n        vertical-align: top;\n    }\n\n    .dataframe thead th {\n        text-align: right;\n    }\n</style>\n<table border=\"1\" class=\"dataframe\">\n  <thead>\n    <tr style=\"text-align: right;\">\n      <th></th>\n      <th>Nevada</th>\n      <th>Ohio</th>\n    </tr>\n  </thead>\n  <tbody>\n    <tr>\n      <th>2001</th>\n      <td>2.4</td>\n      <td>1.7</td>\n    </tr>\n    <tr>\n      <th>2002</th>\n      <td>2.9</td>\n      <td>3.6</td>\n    </tr>\n    <tr>\n      <th>2003</th>\n      <td>NaN</td>\n      <td>NaN</td>\n    </tr>\n  </tbody>\n</table>\n</div>"
     },
     "metadata": {},
     "execution_count": 28
    }
   ],
   "source": [
    "pd.DataFrame(pop, index=[2001,2002,2003])"
   ]
  },
  {
   "cell_type": "code",
   "execution_count": 29,
   "metadata": {},
   "outputs": [
    {
     "output_type": "execute_result",
     "data": {
      "text/plain": "      Ohio  Nevada\n2001   1.7     2.4\n2002   3.6     2.9",
      "text/html": "<div>\n<style scoped>\n    .dataframe tbody tr th:only-of-type {\n        vertical-align: middle;\n    }\n\n    .dataframe tbody tr th {\n        vertical-align: top;\n    }\n\n    .dataframe thead th {\n        text-align: right;\n    }\n</style>\n<table border=\"1\" class=\"dataframe\">\n  <thead>\n    <tr style=\"text-align: right;\">\n      <th></th>\n      <th>Ohio</th>\n      <th>Nevada</th>\n    </tr>\n  </thead>\n  <tbody>\n    <tr>\n      <th>2001</th>\n      <td>1.7</td>\n      <td>2.4</td>\n    </tr>\n    <tr>\n      <th>2002</th>\n      <td>3.6</td>\n      <td>2.9</td>\n    </tr>\n  </tbody>\n</table>\n</div>"
     },
     "metadata": {},
     "execution_count": 29
    }
   ],
   "source": [
    "pdata = {'Ohio':frame3['Ohio'][:-1],\n",
    "         'Nevada':frame3['Nevada'][:2]}\n",
    "pd.DataFrame(pdata)"
   ]
  },
  {
   "cell_type": "code",
   "execution_count": 30,
   "metadata": {},
   "outputs": [
    {
     "output_type": "execute_result",
     "data": {
      "text/plain": "state  Nevada  Ohio\nyear               \n2001      2.4   1.7\n2002      2.9   3.6\n2000      NaN   1.5",
      "text/html": "<div>\n<style scoped>\n    .dataframe tbody tr th:only-of-type {\n        vertical-align: middle;\n    }\n\n    .dataframe tbody tr th {\n        vertical-align: top;\n    }\n\n    .dataframe thead th {\n        text-align: right;\n    }\n</style>\n<table border=\"1\" class=\"dataframe\">\n  <thead>\n    <tr style=\"text-align: right;\">\n      <th>state</th>\n      <th>Nevada</th>\n      <th>Ohio</th>\n    </tr>\n    <tr>\n      <th>year</th>\n      <th></th>\n      <th></th>\n    </tr>\n  </thead>\n  <tbody>\n    <tr>\n      <th>2001</th>\n      <td>2.4</td>\n      <td>1.7</td>\n    </tr>\n    <tr>\n      <th>2002</th>\n      <td>2.9</td>\n      <td>3.6</td>\n    </tr>\n    <tr>\n      <th>2000</th>\n      <td>NaN</td>\n      <td>1.5</td>\n    </tr>\n  </tbody>\n</table>\n</div>"
     },
     "metadata": {},
     "execution_count": 30
    }
   ],
   "source": [
    "frame3.index.name = 'year';frame3.columns.name='state'\n",
    "frame3"
   ]
  },
  {
   "cell_type": "code",
   "execution_count": 31,
   "metadata": {},
   "outputs": [
    {
     "output_type": "stream",
     "name": "stdout",
     "text": "[[2.4 1.7]\n [2.9 3.6]\n [nan 1.5]]\n---------------\n[[2000 'Ohio' 1.5 nan]\n [2001 'Ohio' 1.7 -1.2]\n [2002 'Ohio' 3.6 nan]\n [2001 'Nevada' 2.4 -1.5]\n [2002 'Nevada' 2.9 -1.7]\n [2003 'Nevada' 3.2 nan]]\n"
    }
   ],
   "source": [
    "print(frame3.values) # series와 유사하게 value속성은 DataFrame에 저장된 데이터를 2차원 배열로 반환한다.\n",
    "print(\"---------------\")\n",
    "print(frame2.values)"
   ]
  },
  {
   "cell_type": "code",
   "execution_count": 32,
   "metadata": {},
   "outputs": [
    {
     "output_type": "stream",
     "name": "stdout",
     "text": "Index(['a', 'b', 'c'], dtype='object')\nIndex(['b', 'c'], dtype='object')\n"
    }
   ],
   "source": [
    "obj = pd.Series(range(3), index=['a','b','c'])\n",
    "index = obj.index\n",
    "print(index)\n",
    "print(index[1:])"
   ]
  },
  {
   "cell_type": "code",
   "execution_count": 33,
   "metadata": {},
   "outputs": [
    {
     "output_type": "stream",
     "name": "stdout",
     "text": "Int64Index([0, 1, 2], dtype='int64')\n0    1.5\n1   -2.5\n2    0.0\ndtype: float64\n"
    }
   ],
   "source": [
    "labels = pd.Index(np.arange(3))\n",
    "print(labels)\n",
    "obj2 = pd.Series([1.5, -2.5, 0], index = labels)\n",
    "print(obj2)"
   ]
  },
  {
   "cell_type": "code",
   "execution_count": 34,
   "metadata": {},
   "outputs": [
    {
     "output_type": "stream",
     "name": "stdout",
     "text": "state  Nevada  Ohio\nyear               \n2001      2.4   1.7\n2002      2.9   3.6\n2000      NaN   1.5\n---------------\nIndex(['Nevada', 'Ohio'], dtype='object', name='state')\n"
    }
   ],
   "source": [
    "print(frame3)\n",
    "print(\"---------------\")\n",
    "print(frame3.columns)"
   ]
  },
  {
   "cell_type": "code",
   "execution_count": 35,
   "metadata": {},
   "outputs": [
    {
     "output_type": "stream",
     "name": "stdout",
     "text": "True\nFalse\n"
    }
   ],
   "source": [
    "print('Ohio' in frame3.columns)\n",
    "print(2003 in frame3.index)"
   ]
  },
  {
   "cell_type": "code",
   "execution_count": 36,
   "metadata": {},
   "outputs": [
    {
     "output_type": "stream",
     "name": "stdout",
     "text": "Index(['foo', 'foo', 'bar', 'bar'], dtype='object')\n"
    }
   ],
   "source": [
    "# pandas의 index는 중복되는 값을 허용한다.\n",
    "dup_labels = pd.Index(['foo','foo','bar','bar'])\n",
    "print(dup_labels)"
   ]
  }
 ],
 "metadata": {
  "language_info": {
   "codemirror_mode": {
    "name": "ipython",
    "version": 3
   },
   "file_extension": ".py",
   "mimetype": "text/x-python",
   "name": "python",
   "nbconvert_exporter": "python",
   "pygments_lexer": "ipython3",
   "version": "3.7.7-final"
  },
  "orig_nbformat": 2,
  "kernelspec": {
   "name": "python37764bit3d364663d8164d6a92ec4df127b7f895",
   "display_name": "Python 3.7.7 64-bit"
  }
 },
 "nbformat": 4,
 "nbformat_minor": 2
}