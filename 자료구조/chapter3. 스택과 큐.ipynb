{
 "cells": [
  {
   "cell_type": "markdown",
   "metadata": {},
   "source": [
    "# 스택\n",
    " - 한쪽 끝에서만 항목을 삭제하거나 새로운 항목을 저장하는 후입선출(LIFO)자료구조\n",
    " - 컴파일러의 괄호 짝 맞추기, 회문 검사하기, 미로 찾기, 트리의 노드방문, 그래프의 깊이 우선탐색에 사용\n",
    " - 함수호출도 스택 자료구조를 바탕으로 구현\n",
    " - push() / pop()연산은 각각 O(1) 시간이 소요\n",
    " - 동적 크기 조절은 스택의(리스트)의 모든 항목들을 새 리스트로 복사해야 하기 때문에 O(N) 시간이 소요"
   ]
  },
  {
   "cell_type": "code",
   "execution_count": 1,
   "metadata": {},
   "outputs": [
    {
     "name": "stdout",
     "output_type": "stream",
     "text": [
      "사과, 오렌지, 체리  push 후:\t['apple', 'orange', 'cherry'] \t<- top\n",
      "top 항목: cherry\n",
      "배 push 후:\t\t['apple', 'orange', 'cherry', 'pear'] \t<- top\n",
      "pop(), 포도 push 후:\t['apple', 'orange', 'cherry', 'grape'] \t<- top\n"
     ]
    }
   ],
   "source": [
    "def push(item): # 삽입 연산\n",
    "    stack.append(item) # list의 맨 뒤에 item추가\n",
    "    \n",
    "def peek(): # top 항목 접근\n",
    "    if len(stack) != 0:\n",
    "        return stack[-1] # lst의 맨 뒤 항목\n",
    "\n",
    "def pop(): # 삭제 연산\n",
    "    if len(stack) != 0:\n",
    "        item = stack.pop(-1) # lst의 맨 뒤에 있는 항목 제거\n",
    "        return item\n",
    "stack = [] # 리스트 선언\n",
    "push('apple')\n",
    "push('orange')\n",
    "push('cherry')\n",
    "print('사과, 오렌지, 체리  push 후:\\t', end='')\n",
    "print(stack, '\\t<- top')\n",
    "print('top 항목: ', end='')\n",
    "print(peek())\n",
    "push('pear')\n",
    "print('배 push 후:\\t\\t', end='')       \n",
    "print(stack, '\\t<- top')\n",
    "pop()              \n",
    "push('grape')\n",
    "print('pop(), 포도 push 후:\\t', end='')\n",
    "print(stack, '\\t<- top')"
   ]
  },
  {
   "cell_type": "code",
   "execution_count": 2,
   "metadata": {},
   "outputs": [
    {
     "name": "stdout",
     "output_type": "stream",
     "text": [
      "사과, 오렌지, 체리  push 후:\ttop ->\tcherry -> orange -> apple\n",
      "top 항목: cherry\n",
      "배 push 후:\t\ttop ->\tpear -> cherry -> orange -> apple\n",
      "pop(), 포도 push 후:\ttop ->\tgrape -> cherry -> orange -> apple\n"
     ]
    }
   ],
   "source": [
    "class Node: # Node 클래스  \n",
    "    def __init__(self, item, link): # Node 생성자 : 항목과 다음 노드 레퍼런스\n",
    "        self.item = item           \n",
    "        self.next = link\n",
    "                                \n",
    "def push(item): # push 연산\n",
    "    global top\n",
    "    global size\n",
    "    top = Node(item, top)  # 새 노드 객체를 생성하여 연결리스트의 첫 노드로 삽입\n",
    "    size += 1\n",
    "    \n",
    "def peek(): # peek 연산\n",
    "    if size != 0:\n",
    "        return top.item # top항목만 리턴\n",
    "              \n",
    "def pop(): # pop 연산\n",
    "    global top\n",
    "    global size\n",
    "    if size != 0:\n",
    "        top_item = top.item\n",
    "        top = top.next  # 연결리스트에서 top이 참조하던 노드 분리\n",
    "        size -= 1\n",
    "        return top_item   # 제거된 top항목 리턴\n",
    "def print_stack(): # 스택 출력\n",
    "    print('top ->\\t', end='')\n",
    "    p = top\n",
    "    while p:\n",
    "        if p.next != None:\n",
    "            print(p.item, '-> ', end='')\n",
    "        else:\n",
    "            print(p.item, end='')\n",
    "        p = p.next # 단순연결리스트(스택)의 항목을 차례로 방문\n",
    "    print()\n",
    "top = None # 초기화\n",
    "size = 0\n",
    "push('apple')\n",
    "push('orange')       \n",
    "push('cherry')       \n",
    "print('사과, 오렌지, 체리  push 후:\\t', end='')\n",
    "print_stack()\n",
    "print('top 항목: ', end='')\n",
    "print(peek())              \n",
    "push('pear') \n",
    "print('배 push 후:\\t\\t', end='')       \n",
    "print_stack()\n",
    "pop()               \n",
    "push('grape')\n",
    "print('pop(), 포도 push 후:\\t', end='')           \n",
    "print_stack()"
   ]
  },
  {
   "cell_type": "markdown",
   "metadata": {},
   "source": [
    "# 큐\n",
    " - 삽입과 삭제가 양 끝에서 각각 수행되는 선입선출(FIFO)자료구조\n",
    " - CPU의 태스크 스케쥴링, 네트워크 프린터, 실시간 시스템의 인터럽트 처리, 다양한 이벤트 구동방식 컴퓨터 시뮬레이션, 콜센터 전화서비스 등\n",
    " - 이진트리의 레벨순회와 그래프의 너비우선탐색에 사용"
   ]
  },
  {
   "cell_type": "code",
   "execution_count": 3,
   "metadata": {},
   "outputs": [
    {
     "name": "stdout",
     "output_type": "stream",
     "text": [
      "사과, 오렌지, 체리, 배 삽입 후: \tfront ->  apple   orange  cherry  pear      <- rear\n",
      "remove한 후:\t\tfront ->  orange  cherry  pear      <- rear\n",
      "remove한 후:\t\tfront ->  cherry  pear      <- rear\n",
      "포도 삽입 후:\t\tfront ->  cherry  pear    grape     <- rear\n"
     ]
    }
   ],
   "source": [
    "def add(item): # 삽입 연산\n",
    "    q.append(item) # 맨 뒤에 새 항목 삽입\n",
    "\n",
    "def remove(): # 삭제 연산\n",
    "    if len(q) != 0:\n",
    "        item = q.pop(0) # 맨 앞의 항목 삭제     \n",
    "        return item\n",
    "\n",
    "def print_q(): # 큐 출력\n",
    "    print('front ->  ', end='')\n",
    "    for i in range(len(q)):\n",
    "        print('{!s:<8}'.format(q[i]), end='') # 맨 앞부터 항목들을 차례대로 출력\n",
    "    print('  <- rear')\n",
    "q = [] # 리스트 선언\n",
    "add('apple')       \n",
    "add('orange')        \n",
    "add('cherry')   \n",
    "add('pear')\n",
    "print('사과, 오렌지, 체리, 배 삽입 후: \\t', end='')         \n",
    "print_q()         \n",
    "remove()\n",
    "print('remove한 후:\\t\\t', end='')\n",
    "print_q()           \n",
    "remove()\n",
    "print('remove한 후:\\t\\t', end='')\n",
    "print_q()           \n",
    "add('grape')\n",
    "print('포도 삽입 후:\\t\\t', end='')\n",
    "print_q()"
   ]
  },
  {
   "cell_type": "code",
   "execution_count": 4,
   "metadata": {},
   "outputs": [
    {
     "name": "stdout",
     "output_type": "stream",
     "text": [
      "사과, 오렌지, 체리, 배 삽입 후: \tfront: apple ->   orange ->   cherry ->   pear  : rear\n",
      "remove한 후:\t\tfront: orange ->   cherry ->   pear  : rear\n",
      "remove한 후:\t\tfront: cherry ->   pear  : rear\n",
      "포도 삽입 후:\t\tfront: cherry ->   pear ->   grape  : rear\n"
     ]
    }
   ],
   "source": [
    "class Node: \n",
    "    def __init__(self, item, n): # Node 생성자 : 항목과 다음 노드 레퍼런스\n",
    "        self.item = item\n",
    "        self.next = n\n",
    "def add(item): # 삽입 연산\n",
    "    global size # global : 전역변수\n",
    "    global front\n",
    "    global rear\n",
    "    new_node = Node(item, None)  # 새 노드 객체를 생성\n",
    "    if size == 0:\n",
    "        front = new_node   # 연결리스트의 맨 뒤에 삽입\n",
    "    else:\n",
    "        rear.next = new_node\n",
    "    rear = new_node\n",
    "    size += 1      \n",
    "def remove(): # 삭제 연산\n",
    "    global size\n",
    "    global front\n",
    "    global rear\n",
    "    if size != 0:\n",
    "        fitem = front.item\n",
    "        front = front.next # 연결리스트에서 front가 참조하던 노드 분리\n",
    "        size -= 1\n",
    "        if size == 0: \n",
    "            rear = None \n",
    "        return fitem      # 제거된 맨 앞의 항목 리턴\n",
    "def print_q(): # 큐 출력\n",
    "    p = front\n",
    "    print('front: ', end='')\n",
    "    while p:\n",
    "        if p.next != None:\n",
    "            print(p.item, '->   ', end='') # 단순연결리스트(스택)의 항목을 차례로 출력\n",
    "        else:\n",
    "            print(p.item, end = '')\n",
    "        p = p.next\n",
    "    print('  : rear') \n",
    "front = None\n",
    "rear = None\n",
    "size = 0\n",
    "add('apple')       \n",
    "add('orange')        \n",
    "add('cherry')   \n",
    "add('pear')         \n",
    "print('사과, 오렌지, 체리, 배 삽입 후: \\t', end='')         \n",
    "print_q()         \n",
    "remove()\n",
    "print('remove한 후:\\t\\t', end='')\n",
    "print_q()           \n",
    "remove()\n",
    "print('remove한 후:\\t\\t', end='')\n",
    "print_q()           \n",
    "add('grape')\n",
    "print('포도 삽입 후:\\t\\t', end='')\n",
    "print_q()"
   ]
  },
  {
   "cell_type": "markdown",
   "metadata": {},
   "source": [
    "# 데크\n",
    " - 양쪽 끝에서 삽입과 삭제를 허용하는 자료구조로서 스택과 큐 자료구조를 혼합한 자료구조\n",
    " - 스크롤, 문서편집기의 undo연산, 웹 브라우저의 방문기록 등에 사용\n",
    " - 수행시간 : 데크를 리스트나 이중연결리스트로 구현한 경우, 스택과 큐의 각 연산의 수행시간과 같다. \n",
    " - 하지만 양 끝에서 삽입과 삭제가 가능하므로 프로그램이 다소 복잡하며, 이중연결리스트로 구현한 경우는 더 복잡해진다."
   ]
  },
  {
   "cell_type": "code",
   "execution_count": 5,
   "metadata": {},
   "outputs": [
    {
     "name": "stdout",
     "output_type": "stream",
     "text": [
      "DATA\n",
      "deque(['k', 'd', 'a', 't', 'a', 'r'])\n",
      "a\n",
      "False\n",
      "deque(['p', 'y', 't', 'h', 'o', 'n', 'd', 'a', 't', 'a', 's', 't', 'r', 'u', 'c', 't', 'u', 'r', 'e'])\n"
     ]
    }
   ],
   "source": [
    "from collections import deque\n",
    "dq = deque('data')        # 새 데크 객체 생성\n",
    "for elem in dq:     \n",
    "    print(elem.upper(), end='')\n",
    "print()\n",
    "dq.append('r')      # 맨 뒤와 맨 앞에 항목 삽입 'r','k'\n",
    "dq.appendleft('k')\n",
    "print(dq)\n",
    "dq.pop()       # 맨 뒤와 맨 앞에 항목 삭제 'r','k'\n",
    "dq.popleft() \n",
    "print(dq[-1]) # 맨 뒤의 항목 출력\n",
    "print('x' in dq)\n",
    "dq.extend('structure')  # 여러항목 삽입\n",
    "dq.extendleft(reversed('python'))\n",
    "print(dq)"
   ]
  }
 ],
 "metadata": {
  "kernelspec": {
   "display_name": "Python 3",
   "language": "python",
   "name": "python3"
  },
  "language_info": {
   "codemirror_mode": {
    "name": "ipython",
    "version": 3
   },
   "file_extension": ".py",
   "mimetype": "text/x-python",
   "name": "python",
   "nbconvert_exporter": "python",
   "pygments_lexer": "ipython3",
   "version": "3.6.9"
  }
 },
 "nbformat": 4,
 "nbformat_minor": 2
}
